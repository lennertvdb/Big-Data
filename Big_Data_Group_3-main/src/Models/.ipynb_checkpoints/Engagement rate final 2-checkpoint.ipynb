{
 "cells": [
  {
   "cell_type": "markdown",
   "id": "d2c0693c",
   "metadata": {},
   "source": [
    "# Initialize pyspark environment"
   ]
  },
  {
   "cell_type": "code",
   "execution_count": 1,
   "id": "458f1c07",
   "metadata": {},
   "outputs": [],
   "source": [
    "import findspark\n",
    "\n",
    "# initialize findspark with spark directory\n",
    "\n",
    "#ALWAYS HAVE TO BE CHANGED \n",
    "#path = \"/Users/konstantinlazarov/Desktop/Big_Data/PySpark/Week_5/spark\"\n",
    "path = \"/Users/Artur/spark\"\n",
    "findspark.init(path) \n",
    "\n",
    "# import pyspark\n",
    "import pyspark\n",
    "# create spark context\n",
    "sc = pyspark.SparkContext()\n",
    "# create spark session \n",
    "spark = pyspark.sql.SparkSession(sc)"
   ]
  },
  {
   "cell_type": "markdown",
   "id": "8d5a6ad9",
   "metadata": {},
   "source": [
    "# Import necessary packages and data"
   ]
  },
  {
   "cell_type": "markdown",
   "id": "aea1fed3",
   "metadata": {},
   "source": [
    "#### Import necessary packages"
   ]
  },
  {
   "cell_type": "code",
   "execution_count": 2,
   "id": "5968b777",
   "metadata": {},
   "outputs": [],
   "source": [
    "# import packages\n",
    "import os \n",
    "import pickle\n",
    "\n",
    "import re\n",
    "from datetime import datetime\n",
    "import requests\n",
    "\n",
    "import pytz\n",
    "import emojis\n",
    "\n",
    "import pandas as pd\n",
    "import numpy as np\n",
    "\n",
    "import ast\n",
    "\n",
    "import pyspark.sql.functions as F\n",
    "from pyspark.sql.types import *\n",
    "\n",
    "from pyspark.ml.feature import Tokenizer\n",
    "from pyspark.ml.feature import StopWordsRemover\n",
    "\n",
    "import tweepy\n",
    "import csv\n",
    "import time\n",
    "import pandas as pd\n",
    "import datetime\n",
    "import os\n",
    "import json\n",
    "from pandas.tseries.holiday import nearest_workday, \\\n",
    "    AbstractHolidayCalendar, Holiday, \\\n",
    "    USMartinLutherKingJr, USPresidentsDay, GoodFriday, \\\n",
    "    USMemorialDay, USLaborDay, USThanksgivingDay\n",
    "from datetime import date\n",
    "\n",
    "from vaderSentiment.vaderSentiment import SentimentIntensityAnalyzer\n",
    "from string import punctuation\n",
    "from nltk.corpus import stopwords\n",
    "from textblob import TextBlob\n",
    "from nltk.tokenize import word_tokenize\n",
    "\n",
    "from nltk.tokenize.treebank import TreebankWordDetokenizer\n",
    "import re\n",
    "\n",
    "from sklearn.metrics import confusion_matrix, ConfusionMatrixDisplay"
   ]
  },
  {
   "cell_type": "markdown",
   "id": "207b37bb",
   "metadata": {},
   "source": [
    "#### Import the twitter data "
   ]
  },
  {
   "cell_type": "code",
   "execution_count": 3,
   "id": "03afc613",
   "metadata": {},
   "outputs": [
    {
     "data": {
      "text/plain": [
       "1827680"
      ]
     },
     "execution_count": 3,
     "metadata": {},
     "output_type": "execute_result"
    }
   ],
   "source": [
    "list_brands = [\"healthyfood\",\n",
    "               \"healthylifestyle\",\n",
    "               \"vegan\",\n",
    "               \"keto\",\n",
    "               \"ketodiet\",\n",
    "               \"ketolifestyle\",\n",
    "               \"veganism\",\n",
    "               \"vegetarian\"]\n",
    "from re import search\n",
    "\n",
    "\n",
    "\n",
    "data_dir = \".././../data/Topic/\"\n",
    "tweet_files = [os.path.join(data_dir, obs) for obs in os.listdir(data_dir)]\n",
    "\n",
    "\n",
    "\n",
    "files_brand = [file for file in tweet_files if (file.find(list_brands[2]) != -1)]\n",
    "files_brand               \n",
    "               \n",
    "df_json = spark.read.option(\"multiline\",\"true\").json(files_brand)  \n",
    "df_json.count()\n",
    "\n"
   ]
  },
  {
   "cell_type": "markdown",
   "id": "46530a1c",
   "metadata": {},
   "source": [
    "# Predict the engagement rate of a tweet"
   ]
  },
  {
   "cell_type": "markdown",
   "id": "d2304e11",
   "metadata": {},
   "source": [
    "## 1. Goal of our analysis"
   ]
  },
  {
   "cell_type": "markdown",
   "id": "fe00b73b",
   "metadata": {},
   "source": [
    "In this notebook, we are going to predict the engagement rate of tweets. Further, it will be interesting to see the driving factors behind the engagement rate. This can be valuable information when creating an own social media brand and when you want to increase the reach of your tweets.\n",
    "\n",
    "We start by selecting the interesting variables for this analysis."
   ]
  },
  {
   "cell_type": "code",
   "execution_count": 4,
   "id": "849d5625",
   "metadata": {},
   "outputs": [],
   "source": [
    "# Select the interesting variables\n",
    "basetable_engr = df_json.select(F.col('created_at').alias('tweet_created'), \\\n",
    "                                   F.col('entities.symbols').alias('symbols'), \\\n",
    "                                   F.col('display_text_range').alias('text_range'), \\\n",
    "                                   F.col('extended_entities.media.type').alias('media_type'), \\\n",
    "                                   F.col('favorite_count'), \\\n",
    "                                   F.col('full_text'), \\\n",
    "                                   F.col('is_quote_status').alias('quoted'), \\\n",
    "                                   F.col('lang').alias('language'), \\\n",
    "                                   F.col('retweet_count'),\\\n",
    "                                   F.col('user.created_at').alias('user_created'), \\\n",
    "                                   F.col('user.followers_count').alias('user_followers'), \\\n",
    "                                   F.col('user.friends_count').alias('user_following'), \\\n",
    "                                   F.col('user.verified').alias('user_verified'), \\\n",
    "                                   F.col(\"user.screen_name\"))"
   ]
  },
  {
   "cell_type": "markdown",
   "id": "de68aafc",
   "metadata": {},
   "source": [
    "Next, we perform some basic preprocessing steps on this dataset."
   ]
  },
  {
   "cell_type": "code",
   "execution_count": 5,
   "id": "d8e6a843",
   "metadata": {},
   "outputs": [],
   "source": [
    "# First, we  convert Twitter date string format\n",
    "def getDate(date):\n",
    "    if date is not None:\n",
    "        return str(datetime.datetime.strptime(date,'%a %b %d %H:%M:%S +0000 %Y').replace(tzinfo=pytz.UTC).strftime(\"%Y-%m-%d %H:%M:%S\"))\n",
    "    else:\n",
    "        return None\n",
    "\n",
    "# UDF declaration\n",
    "date_udf = F.udf(getDate, StringType())\n",
    "\n",
    "# apply udf\n",
    "basetable_engr = basetable_engr.withColumn('tweet_created', F.to_utc_timestamp(date_udf(\"tweet_created\"), \"UTC\"))\n",
    "basetable_engr = basetable_engr.withColumn('user_created', F.to_utc_timestamp(date_udf(\"user_created\"), \"UTC\"))"
   ]
  },
  {
   "cell_type": "code",
   "execution_count": 6,
   "id": "772d6d3a",
   "metadata": {},
   "outputs": [],
   "source": [
    "#drop duplicates and retweets \n",
    "basetable_engr = basetable_engr.filter(~F.col(\"full_text\").startswith(\"RT\"))\\\n",
    "                        .drop_duplicates()\n",
    "\n",
    "#sorting such when dropping later we only keep the most recent post \n",
    "basetable_engr = basetable_engr.sort(\"tweet_created\", ascending=False)\n",
    "\n",
    "#removing spam accounts \n",
    "basetable_engr = basetable_engr.drop_duplicates([\"full_text\", \"screen_name\"])"
   ]
  },
  {
   "cell_type": "markdown",
   "id": "18b1259f",
   "metadata": {},
   "source": [
    "Before we start the feature engineering, we need to filter our data. As we will use the vader package to determine the sentiment later in this notebook, we will only work with English tweets. As our insights in the data will be primarily for European and American companies and most of our tweets are in English, we do not see this as a problem."
   ]
  },
  {
   "cell_type": "code",
   "execution_count": 8,
   "id": "45b73aaf",
   "metadata": {},
   "outputs": [],
   "source": [
    "# filter the data on language\n",
    "basetable_engr = basetable_engr.filter(F.col(\"language\") == \"en\")"
   ]
  },
  {
   "cell_type": "code",
   "execution_count": 9,
   "id": "447587fe",
   "metadata": {},
   "outputs": [
    {
     "data": {
      "text/plain": [
       "4653"
      ]
     },
     "execution_count": 9,
     "metadata": {},
     "output_type": "execute_result"
    }
   ],
   "source": [
    "## testing if we can compile the model for a smaller data set \n",
    "#basetable_engr = basetable_engr.sample(0.01) #taking 1 procent of the data \n",
    "#basetable_engr.count()"
   ]
  },
  {
   "cell_type": "code",
   "execution_count": null,
   "id": "4e75edb1",
   "metadata": {},
   "outputs": [],
   "source": [
    "## Train models with 5% of the data\n",
    "basetable_engr = basetable_engr.sample(0.05) \n",
    "basetable_engr.count()"
   ]
  },
  {
   "cell_type": "markdown",
   "id": "de5b26ba",
   "metadata": {},
   "source": [
    "# 2. Create the dependent variable"
   ]
  },
  {
   "cell_type": "markdown",
   "id": "ca291115",
   "metadata": {},
   "source": [
    "First, we start by defining our dependent variable. The engagement rate has already been discussed in the data exploration section. We will use the same definition in order to create a model to predict the engagement rate. Below, we repeat this definition:\n",
    "\n",
    "In this analysis, engagement on Twitter is measured by the number of retweets and favorites. Your Twitter engagement rate is your engagement figure divided the number of followers of the user"
   ]
  },
  {
   "cell_type": "code",
   "execution_count": null,
   "id": "123ba4a2",
   "metadata": {},
   "outputs": [],
   "source": [
    "# add engagement rate to the dataframe\n",
    "basetable_engr = basetable_engr.withColumn('eng_rate', ((basetable_engr['favorite_count'] + basetable_engr['retweet_count'])/basetable_engr['user_followers']))\n"
   ]
  },
  {
   "cell_type": "markdown",
   "id": "5ce970a9",
   "metadata": {},
   "source": [
    "Check if the dependent variable has no null values, this could be the case if the user has no followers. In this case, we will set the value of the engagement rate to zero."
   ]
  },
  {
   "cell_type": "code",
   "execution_count": null,
   "id": "a0505218",
   "metadata": {},
   "outputs": [],
   "source": [
    "# check missing values for the dependent variable\n",
    "df = basetable_engr.select(F.col('eng_rate'))\n",
    "df.select([F.count(F.when(F.isnull(c), c)).alias(c) for c in df.columns]).toPandas()\n",
    "\n"
   ]
  },
  {
   "cell_type": "code",
   "execution_count": null,
   "id": "5357e8f2",
   "metadata": {},
   "outputs": [],
   "source": [
    "# handle the null values in the dependent variable for the created dataframe\n",
    "df = df.fillna(0)\n",
    "\n",
    "# inspect\n",
    "df.select([F.count(F.when(F.isnull(c), c)).alias(c) for c in df.columns]).toPandas()"
   ]
  },
  {
   "cell_type": "code",
   "execution_count": null,
   "id": "dbe4ff96",
   "metadata": {},
   "outputs": [],
   "source": [
    "# handle the dependent variable in the basetable\n",
    "basetable_engr = basetable_engr.fillna({'eng_rate': 0})"
   ]
  },
  {
   "cell_type": "markdown",
   "id": "d3e4ab37",
   "metadata": {},
   "source": [
    "# 3. Feature engineering"
   ]
  },
  {
   "cell_type": "markdown",
   "id": "5f88cde2",
   "metadata": {},
   "source": [
    "In order to predict the engagement of a tweet, we will create some additional features in order to improve the performance of our model. For most of these features, we will first creata a function. The following features will be created:\n",
    "\n",
    "    1) number of words\n",
    "    2) number of hashtags\n",
    "    3) number of tags\n",
    "    4) number of emojis\n",
    "    5) get the number of exclamation marks\n",
    "    6) the month\n",
    "    7) day of the month\n",
    "    8) day of the week\n",
    "    9) hour of the day\n",
    "    10) The number of upper case words\n",
    "    11) tweeted quote\n",
    "    12) presence of a symbol\n",
    "    13) The age of the account\n",
    "    14) The number of media elements\n",
    "    15) The media type present\n",
    "    16) The number of text characters in the tweet\n",
    "    17) Indicator if the account is verified\n",
    "\n",
    "These features will be used next to some variables that are already present in the dataset."
   ]
  },
  {
   "cell_type": "markdown",
   "id": "671e09af",
   "metadata": {},
   "source": [
    "    1) For the number of words, we can just use the function F.size() and apply it to the tokenized text. "
   ]
  },
  {
   "cell_type": "code",
   "execution_count": null,
   "id": "e58af41a",
   "metadata": {},
   "outputs": [],
   "source": [
    "# 2) Define function to count hashtags\n",
    "def get_hashtags(text):\n",
    "    counter = 0\n",
    "    for letter in text:\n",
    "        if letter == \"#\":\n",
    "            counter += 1\n",
    "    return(counter)"
   ]
  },
  {
   "cell_type": "code",
   "execution_count": null,
   "id": "419c458c",
   "metadata": {},
   "outputs": [],
   "source": [
    "# 3) Define function to count tags\n",
    "def get_tags(text):\n",
    "    counter = 0\n",
    "    for letter in text:\n",
    "        if letter == \"@\":\n",
    "            counter += 1\n",
    "    return(counter)"
   ]
  },
  {
   "cell_type": "code",
   "execution_count": null,
   "id": "945d5c77",
   "metadata": {},
   "outputs": [],
   "source": [
    "# 4) Define a function to get the number of emojis\n",
    "def emoji_counter(text):\n",
    "    nr_emojis = emojis.count(text)\n",
    "    return(nr_emojis)"
   ]
  },
  {
   "cell_type": "code",
   "execution_count": null,
   "id": "94c3885d",
   "metadata": {},
   "outputs": [],
   "source": [
    "# 5) Define function to count exclamation marks\n",
    "def get_exclamation_marks(text):\n",
    "    counter = 0\n",
    "    for letter in text:\n",
    "        if letter ==  \"!\":\n",
    "            counter += 1\n",
    "    return(counter)"
   ]
  },
  {
   "cell_type": "markdown",
   "id": "c609aa6b",
   "metadata": {},
   "source": [
    "    6) the month\n",
    "    7) day of the month\n",
    "    8) day of the week\n",
    "    9) hour of the day\n",
    "\n",
    "We saw how to create these variables when solving the questions for this assignment. The same code will be used here. "
   ]
  },
  {
   "cell_type": "code",
   "execution_count": null,
   "id": "a7e25698",
   "metadata": {},
   "outputs": [],
   "source": [
    "# 10) Define number of upper case words\n",
    "def get_upper_case_words(text):\n",
    "    counter = 0\n",
    "    \n",
    "    ## Tokenize\n",
    "    word_tokens = word_tokenize(text)\n",
    "\n",
    "    ## Check for uppercase words\n",
    "    for word in word_tokens:\n",
    "        if word.isupper():\n",
    "            counter += 1\n",
    "    return(counter)"
   ]
  },
  {
   "cell_type": "code",
   "execution_count": null,
   "id": "37602e54",
   "metadata": {},
   "outputs": [],
   "source": [
    "# 11) Define a function that indicates if the tweet was a quote\n",
    "def tweeted_quote_indicator(quoted):\n",
    "    quote = 0\n",
    "    if quoted == True:\n",
    "        quote = 1\n",
    "    return quote"
   ]
  },
  {
   "cell_type": "code",
   "execution_count": null,
   "id": "c7987bce",
   "metadata": {},
   "outputs": [],
   "source": [
    "# 12) define a function that indicates the presence of a symbol\n",
    "def symbol_indicator(symbols):\n",
    "    symbol = 0\n",
    "    if(symbols > 0):\n",
    "        symbol = 1\n",
    "    return symbol"
   ]
  },
  {
   "cell_type": "markdown",
   "id": "dea625a6",
   "metadata": {},
   "source": [
    "    13) Define the age of the account. This is defined as the number of days since the account has been created and the last day of scraping (2022-10-11). The last day of scraping was calculated in the exploration phase of the data. For this variable, we will use the function datediff."
   ]
  },
  {
   "cell_type": "code",
   "execution_count": null,
   "id": "5c208ad1",
   "metadata": {},
   "outputs": [],
   "source": [
    "# 14) define a function to get help get the number of media types included in the tweet\n",
    "def adjust_nr_media(number):\n",
    "    if number == -1:\n",
    "        number = 0\n",
    "        \n",
    "    return number"
   ]
  },
  {
   "cell_type": "code",
   "execution_count": null,
   "id": "650393c2",
   "metadata": {},
   "outputs": [],
   "source": [
    "# 15) define a function to get the first media element\n",
    "def get_media_type(media):\n",
    "    if media == None:\n",
    "        media = 'no_media'\n",
    "    else:\n",
    "        media = media[0]\n",
    "       \n",
    "    return media"
   ]
  },
  {
   "cell_type": "code",
   "execution_count": null,
   "id": "0210dce5",
   "metadata": {},
   "outputs": [],
   "source": [
    "# 16) define a function to get the first media element\n",
    "def get_nr_text_characters(text_range):\n",
    "    number = text_range[1] - text_range[0]  \n",
    "    return number\n",
    "\n"
   ]
  },
  {
   "cell_type": "code",
   "execution_count": null,
   "id": "b4d61bdd",
   "metadata": {},
   "outputs": [],
   "source": [
    "# 17) Look if the user is a verified user\n",
    "def verified_ind(verified):\n",
    "    indicator = 0\n",
    "    if verified == True:\n",
    "        indicator = 1\n",
    "    return indicator"
   ]
  },
  {
   "cell_type": "code",
   "execution_count": null,
   "id": "591c78a7",
   "metadata": {},
   "outputs": [],
   "source": [
    "# register the functions as an udf\n",
    "get_upper_case_words_UDF = F.udf(get_upper_case_words, IntegerType()) \n",
    "emoji_counter_udf = F.udf(emoji_counter, IntegerType())\n",
    "get_hashtags_udf = F.udf(get_hashtags, IntegerType())\n",
    "get_tags_udf = F.udf(get_tags, IntegerType())\n",
    "get_exclamation_marks_UDF = F.udf(get_exclamation_marks, IntegerType())\n",
    "tweeted_quote_indicator_UDF = F.udf(tweeted_quote_indicator, IntegerType())\n",
    "symbol_indicator_udf = F.udf(symbol_indicator, IntegerType())\n",
    "adjust_nr_media_udf = F.udf(adjust_nr_media, IntegerType())\n",
    "get_media_type_udf = F.udf(get_media_type, StringType())\n",
    "get_nr_text_characters_udf = F.udf(get_nr_text_characters, IntegerType())\n",
    "verified_ind_udf = F.udf(verified_ind, IntegerType())"
   ]
  },
  {
   "cell_type": "code",
   "execution_count": null,
   "id": "9ac2b2ea",
   "metadata": {},
   "outputs": [],
   "source": [
    "# Already define some text cleaning steps in order to define the correct number of words.\n",
    "\n",
    "# define puncutation and stopwords\n",
    "PUNCTUATION = [char for char in punctuation if char not in [\"!\", \"@\", \"#\"]]\n",
    "STOPWORDS = stopwords.words(\"english\")\n",
    "\n",
    "# define function to remove punctuation\n",
    "def remove_punct(text):\n",
    "    ## Remove punctuation\n",
    "    text = \"\".join([char for char in text if char not in PUNCTUATION])\n",
    "    return(text)\n",
    "\n",
    "# define function to remove stopwords\n",
    "def remove_stops(text_tokenized):\n",
    "    # remove stopwords\n",
    "    text_tokenized = [word for word in text_tokenized if word not in STOPWORDS]\n",
    "    return(text_tokenized)\n",
    "\n",
    "# register as udf\n",
    "remove_punct_UDF = F.udf(remove_punct, StringType())\n",
    "remove_stops_UDF = F.udf(remove_stops, ArrayType(StringType()))"
   ]
  },
  {
   "cell_type": "code",
   "execution_count": null,
   "id": "02854ce5",
   "metadata": {},
   "outputs": [],
   "source": [
    "# create the final basetable for our analysis\n",
    "basetable_engr_final = basetable_engr.withColumn(\"num_emojis\", emoji_counter_udf(F.col(\"full_text\")))\\\n",
    "                            .withColumn('upper_case_words', get_upper_case_words_UDF('full_text'))\\\n",
    "                            .withColumn(\"text_lower\", F.lower(\"full_text\")) \\\n",
    "                            .withColumn(\"text_cleaned\", remove_punct_UDF(\"text_lower\")) \\\n",
    "                            .withColumn(\"text_tokenized\", F.split(\"text_cleaned\", \" \")) \\\n",
    "                            .withColumn(\"text_tokenized_no_stops\", remove_stops_UDF(\"text_tokenized\")) \\\n",
    "                            .withColumn(\"num_words\", F.size(\"text_tokenized_no_stops\")) \\\n",
    "                            .withColumn(\"num_hashtags\", get_hashtags_udf(\"text_tokenized_no_stops\")) \\\n",
    "                            .withColumn(\"num_mentions\", get_tags_udf(\"text_tokenized_no_stops\")) \\\n",
    "                            .withColumn('nr_exlcamations', get_exclamation_marks_UDF('text_tokenized_no_stops'))\\\n",
    "                            .withColumn(\"week_day\", F.date_format(F.col(\"tweet_created\"), \"E\"))\\\n",
    "                            .withColumn(\"hour\", F.date_format(F.col(\"tweet_created\"), \"H\").cast('string'))\\\n",
    "                            .withColumn(\"month\", F.date_format(F.col(\"tweet_created\"), \"M\"))\\\n",
    "                            .withColumn(\"day_month\", F.date_format(F.col(\"tweet_created\"), \"d\"))\\\n",
    "                            .withColumn('quoted_ind', tweeted_quote_indicator_UDF('quoted'))\\\n",
    "                            .withColumn('symbol_ind', F.size('symbols'))\\\n",
    "                            .withColumn('symbol_ind', symbol_indicator_udf('symbol_ind'))\\\n",
    "                            .withColumn('user_age_days', F.datediff(F.lit(\"2022-10-11\"), F.col(\"user_created\")))\\\n",
    "                            .withColumn('verified', verified_ind_udf('user_verified'))\\\n",
    "                            .withColumn(\"nr_media_elements\", F.size(\"media_type\"))\\\n",
    "                            .withColumn(\"nr_media_elements\", adjust_nr_media_udf(\"nr_media_elements\"))\\\n",
    "                            .withColumn(\"media_type\", get_media_type_udf('media_type'))\\\n",
    "                            .withColumn(\"nr_text_char\", get_nr_text_characters_udf('text_range'))\\\n",
    "                            .drop('tweet_created')\\\n",
    "                            .drop('quoted')\\\n",
    "                            .drop('symbols')\\\n",
    "                            .drop('user_created')\\\n",
    "                            .drop('user_verified')\\\n",
    "                            .drop('display_text_range')\\\n",
    "                            .drop('text_lower')\\\n",
    "                            .drop('text_cleaned')\\\n",
    "                            .drop('text_tokenized')\\\n",
    "                            .drop('text_tokenized_no_stops')\\\n",
    "                            .drop('text_range')\\\n",
    "                            .filter(\"num_words > 0\")\n",
    "\n"
   ]
  },
  {
   "cell_type": "code",
   "execution_count": 27,
   "id": "6f2a7c48",
   "metadata": {},
   "outputs": [
    {
     "data": {
      "text/html": [
       "<div>\n",
       "<style scoped>\n",
       "    .dataframe tbody tr th:only-of-type {\n",
       "        vertical-align: middle;\n",
       "    }\n",
       "\n",
       "    .dataframe tbody tr th {\n",
       "        vertical-align: top;\n",
       "    }\n",
       "\n",
       "    .dataframe thead th {\n",
       "        text-align: right;\n",
       "    }\n",
       "</style>\n",
       "<table border=\"1\" class=\"dataframe\">\n",
       "  <thead>\n",
       "    <tr style=\"text-align: right;\">\n",
       "      <th></th>\n",
       "      <th>media_type</th>\n",
       "      <th>favorite_count</th>\n",
       "      <th>full_text</th>\n",
       "      <th>language</th>\n",
       "      <th>retweet_count</th>\n",
       "      <th>user_followers</th>\n",
       "      <th>user_following</th>\n",
       "      <th>screen_name</th>\n",
       "      <th>eng_rate</th>\n",
       "      <th>num_emojis</th>\n",
       "      <th>...</th>\n",
       "      <th>week_day</th>\n",
       "      <th>hour</th>\n",
       "      <th>month</th>\n",
       "      <th>day_month</th>\n",
       "      <th>quoted_ind</th>\n",
       "      <th>symbol_ind</th>\n",
       "      <th>user_age_days</th>\n",
       "      <th>verified</th>\n",
       "      <th>nr_media_elements</th>\n",
       "      <th>nr_text_char</th>\n",
       "    </tr>\n",
       "  </thead>\n",
       "  <tbody>\n",
       "    <tr>\n",
       "      <th>0</th>\n",
       "      <td>photo</td>\n",
       "      <td>0</td>\n",
       "      <td>\"In every walk with nature, one receives far m...</td>\n",
       "      <td>en</td>\n",
       "      <td>1</td>\n",
       "      <td>1988</td>\n",
       "      <td>4170</td>\n",
       "      <td>cbd1uk</td>\n",
       "      <td>0.000503</td>\n",
       "      <td>0</td>\n",
       "      <td>...</td>\n",
       "      <td>Fri</td>\n",
       "      <td>16</td>\n",
       "      <td>8</td>\n",
       "      <td>5</td>\n",
       "      <td>0</td>\n",
       "      <td>0</td>\n",
       "      <td>1918</td>\n",
       "      <td>0</td>\n",
       "      <td>1</td>\n",
       "      <td>267</td>\n",
       "    </tr>\n",
       "    <tr>\n",
       "      <th>1</th>\n",
       "      <td>no_media</td>\n",
       "      <td>1</td>\n",
       "      <td>\"Next time you feel compelled to critique a st...</td>\n",
       "      <td>en</td>\n",
       "      <td>0</td>\n",
       "      <td>691</td>\n",
       "      <td>2864</td>\n",
       "      <td>ckrummey</td>\n",
       "      <td>0.001447</td>\n",
       "      <td>0</td>\n",
       "      <td>...</td>\n",
       "      <td>Tue</td>\n",
       "      <td>15</td>\n",
       "      <td>6</td>\n",
       "      <td>28</td>\n",
       "      <td>0</td>\n",
       "      <td>0</td>\n",
       "      <td>4249</td>\n",
       "      <td>0</td>\n",
       "      <td>0</td>\n",
       "      <td>280</td>\n",
       "    </tr>\n",
       "    <tr>\n",
       "      <th>2</th>\n",
       "      <td>no_media</td>\n",
       "      <td>2</td>\n",
       "      <td>\"Sentientism goes further than humanism.. beca...</td>\n",
       "      <td>en</td>\n",
       "      <td>0</td>\n",
       "      <td>2657</td>\n",
       "      <td>2556</td>\n",
       "      <td>TenacityMatters</td>\n",
       "      <td>0.000753</td>\n",
       "      <td>0</td>\n",
       "      <td>...</td>\n",
       "      <td>Sat</td>\n",
       "      <td>17</td>\n",
       "      <td>10</td>\n",
       "      <td>30</td>\n",
       "      <td>0</td>\n",
       "      <td>0</td>\n",
       "      <td>699</td>\n",
       "      <td>0</td>\n",
       "      <td>0</td>\n",
       "      <td>280</td>\n",
       "    </tr>\n",
       "    <tr>\n",
       "      <th>3</th>\n",
       "      <td>no_media</td>\n",
       "      <td>3</td>\n",
       "      <td>\"is this vegan??\" \\n\\n\"oh i'm sorry, i should ...</td>\n",
       "      <td>en</td>\n",
       "      <td>0</td>\n",
       "      <td>128</td>\n",
       "      <td>111</td>\n",
       "      <td>Tweedledummi</td>\n",
       "      <td>0.023438</td>\n",
       "      <td>0</td>\n",
       "      <td>...</td>\n",
       "      <td>Sat</td>\n",
       "      <td>16</td>\n",
       "      <td>7</td>\n",
       "      <td>2</td>\n",
       "      <td>0</td>\n",
       "      <td>0</td>\n",
       "      <td>1241</td>\n",
       "      <td>0</td>\n",
       "      <td>0</td>\n",
       "      <td>98</td>\n",
       "    </tr>\n",
       "    <tr>\n",
       "      <th>4</th>\n",
       "      <td>photo</td>\n",
       "      <td>1</td>\n",
       "      <td>#FakeSteak ready for roasting to ram in #BaoBu...</td>\n",
       "      <td>en</td>\n",
       "      <td>0</td>\n",
       "      <td>2701</td>\n",
       "      <td>5002</td>\n",
       "      <td>LWHawksby</td>\n",
       "      <td>0.000370</td>\n",
       "      <td>0</td>\n",
       "      <td>...</td>\n",
       "      <td>Tue</td>\n",
       "      <td>17</td>\n",
       "      <td>2</td>\n",
       "      <td>1</td>\n",
       "      <td>0</td>\n",
       "      <td>0</td>\n",
       "      <td>2093</td>\n",
       "      <td>0</td>\n",
       "      <td>1</td>\n",
       "      <td>142</td>\n",
       "    </tr>\n",
       "  </tbody>\n",
       "</table>\n",
       "<p>5 rows × 25 columns</p>\n",
       "</div>"
      ],
      "text/plain": [
       "  media_type  favorite_count  \\\n",
       "0      photo               0   \n",
       "1   no_media               1   \n",
       "2   no_media               2   \n",
       "3   no_media               3   \n",
       "4      photo               1   \n",
       "\n",
       "                                           full_text language  retweet_count  \\\n",
       "0  \"In every walk with nature, one receives far m...       en              1   \n",
       "1  \"Next time you feel compelled to critique a st...       en              0   \n",
       "2  \"Sentientism goes further than humanism.. beca...       en              0   \n",
       "3  \"is this vegan??\" \\n\\n\"oh i'm sorry, i should ...       en              0   \n",
       "4  #FakeSteak ready for roasting to ram in #BaoBu...       en              0   \n",
       "\n",
       "   user_followers  user_following      screen_name  eng_rate  num_emojis  ...  \\\n",
       "0            1988            4170           cbd1uk  0.000503           0  ...   \n",
       "1             691            2864         ckrummey  0.001447           0  ...   \n",
       "2            2657            2556  TenacityMatters  0.000753           0  ...   \n",
       "3             128             111     Tweedledummi  0.023438           0  ...   \n",
       "4            2701            5002        LWHawksby  0.000370           0  ...   \n",
       "\n",
       "   week_day  hour  month  day_month  quoted_ind symbol_ind user_age_days  \\\n",
       "0       Fri    16      8          5           0          0          1918   \n",
       "1       Tue    15      6         28           0          0          4249   \n",
       "2       Sat    17     10         30           0          0           699   \n",
       "3       Sat    16      7          2           0          0          1241   \n",
       "4       Tue    17      2          1           0          0          2093   \n",
       "\n",
       "  verified nr_media_elements  nr_text_char  \n",
       "0        0                 1           267  \n",
       "1        0                 0           280  \n",
       "2        0                 0           280  \n",
       "3        0                 0            98  \n",
       "4        0                 1           142  \n",
       "\n",
       "[5 rows x 25 columns]"
      ]
     },
     "execution_count": 27,
     "metadata": {},
     "output_type": "execute_result"
    }
   ],
   "source": [
    "# inspect the data\n",
    "basetable_engr_final.toPandas().head()"
   ]
  },
  {
   "cell_type": "markdown",
   "id": "6d95e2cc",
   "metadata": {},
   "source": [
    "# 3. Text Cleaning "
   ]
  },
  {
   "cell_type": "code",
   "execution_count": null,
   "id": "0bba8337",
   "metadata": {},
   "outputs": [],
   "source": [
    "import emoji"
   ]
  },
  {
   "cell_type": "markdown",
   "id": "87c6790c",
   "metadata": {},
   "source": [
    "Now, we are going to clean the text of the twitter data. Then, we can use this cleaned text to extract features about the sensitivity of the tweet.\n",
    "\n",
    "Here, we remove numbers, punctuation, urls... Further, we transform the emojis to words. Emojis are at the very core of communication over social channels. One small image can completely describe one or more human emotions. A naive thing to do during pre-processing would be to remove all emojis. This could result in significant loss of meaning.\n",
    "A good way to achieve this is to replace the emoji with corresponding text explaining the emoji."
   ]
  },
  {
   "cell_type": "code",
   "execution_count": 29,
   "id": "30919066",
   "metadata": {},
   "outputs": [],
   "source": [
    "# define function to clean text\n",
    "def clean_text(string):\n",
    "    \n",
    "    # define numbers\n",
    "    NUMBERS = '0123456789'\n",
    "    PUNCT = '!\"#$%&\\'()*+,-./:;<=>?@[\\\\]^_`{|}~'\n",
    "    \n",
    "    # convert text to lower case\n",
    "    cleaned_string = string.lower()\n",
    "    \n",
    "    # remove URLS\n",
    "    cleaned_string = re.sub(r'http\\S+', ' ', cleaned_string)\n",
    "    \n",
    "    # replace emojis by words\n",
    "    cleaned_string = emoji.demojize(cleaned_string)\n",
    "    cleaned_string = cleaned_string.replace(\":\",\" \").replace(\"_\",\" \")\n",
    "    cleaned_string = ' '.join(cleaned_string.split())\n",
    "    \n",
    "    # remove numbers\n",
    "    cleaned_string = \"\".join([char for char in cleaned_string if char not in NUMBERS])\n",
    "    \n",
    "    # remove punctuation\n",
    "    cleaned_string = \"\".join([char for char in cleaned_string if char not in PUNCT])\n",
    "    \n",
    "    # remove words conisting of one character (or less)\n",
    "    cleaned_string = ' '.join([w for w in cleaned_string.split() if len(w) > 1])\n",
    "    \n",
    "    # return\n",
    "    return(cleaned_string)"
   ]
  },
  {
   "cell_type": "code",
   "execution_count": 30,
   "id": "d5a6dd76",
   "metadata": {},
   "outputs": [],
   "source": [
    "# convert to udf\n",
    "clean_text_udf = F.udf(clean_text, StringType())"
   ]
  },
  {
   "cell_type": "code",
   "execution_count": 31,
   "id": "137d917f",
   "metadata": {},
   "outputs": [],
   "source": [
    "# clean string\n",
    "basetable_engr_final = basetable_engr_final.withColumn(\"cleaned_text\", clean_text_udf(F.col(\"full_text\")))"
   ]
  },
  {
   "cell_type": "code",
   "execution_count": 35,
   "id": "c70e267f",
   "metadata": {},
   "outputs": [
    {
     "data": {
      "text/html": [
       "<div>\n",
       "<style scoped>\n",
       "    .dataframe tbody tr th:only-of-type {\n",
       "        vertical-align: middle;\n",
       "    }\n",
       "\n",
       "    .dataframe tbody tr th {\n",
       "        vertical-align: top;\n",
       "    }\n",
       "\n",
       "    .dataframe thead th {\n",
       "        text-align: right;\n",
       "    }\n",
       "</style>\n",
       "<table border=\"1\" class=\"dataframe\">\n",
       "  <thead>\n",
       "    <tr style=\"text-align: right;\">\n",
       "      <th></th>\n",
       "      <th>full_text</th>\n",
       "      <th>cleaned_text</th>\n",
       "    </tr>\n",
       "  </thead>\n",
       "  <tbody>\n",
       "    <tr>\n",
       "      <th>0</th>\n",
       "      <td>\"I'm not a vegan. Or vegetarian. Or pescataria...</td>\n",
       "      <td>im not vegan or vegetarian or pescatarian or a...</td>\n",
       "    </tr>\n",
       "    <tr>\n",
       "      <th>1</th>\n",
       "      <td>\"If slaugher was really \"humane\" it would be t...</td>\n",
       "      <td>if slaugher was really humane it would be the ...</td>\n",
       "    </tr>\n",
       "    <tr>\n",
       "      <th>2</th>\n",
       "      <td>#BTS Holiday shoot. Coming soon! 👩🏼‍🍳🥘🍨🦃🤶🏻📹\\n\\...</td>\n",
       "      <td>bts holiday shoot coming soon woman cook mediu...</td>\n",
       "    </tr>\n",
       "    <tr>\n",
       "      <th>3</th>\n",
       "      <td>#DidYouKnow that today is #NationalCherryDay? ...</td>\n",
       "      <td>didyouknow that today is nationalcherryday we ...</td>\n",
       "    </tr>\n",
       "    <tr>\n",
       "      <th>4</th>\n",
       "      <td>#HADV #CBD #infused #Wine #Beverage #Cannabis ...</td>\n",
       "      <td>hadv cbd infused wine beverage cannabis health...</td>\n",
       "    </tr>\n",
       "  </tbody>\n",
       "</table>\n",
       "</div>"
      ],
      "text/plain": [
       "                                           full_text  \\\n",
       "0  \"I'm not a vegan. Or vegetarian. Or pescataria...   \n",
       "1  \"If slaugher was really \"humane\" it would be t...   \n",
       "2  #BTS Holiday shoot. Coming soon! 👩🏼‍🍳🥘🍨🦃🤶🏻📹\\n\\...   \n",
       "3  #DidYouKnow that today is #NationalCherryDay? ...   \n",
       "4  #HADV #CBD #infused #Wine #Beverage #Cannabis ...   \n",
       "\n",
       "                                        cleaned_text  \n",
       "0  im not vegan or vegetarian or pescatarian or a...  \n",
       "1  if slaugher was really humane it would be the ...  \n",
       "2  bts holiday shoot coming soon woman cook mediu...  \n",
       "3  didyouknow that today is nationalcherryday we ...  \n",
       "4  hadv cbd infused wine beverage cannabis health...  "
      ]
     },
     "execution_count": 35,
     "metadata": {},
     "output_type": "execute_result"
    }
   ],
   "source": [
    "# check the data\n",
    "basetable_engr_final.select(\"full_text\", \"cleaned_text\").limit(5).toPandas()"
   ]
  },
  {
   "cell_type": "markdown",
   "id": "357fa5eb",
   "metadata": {},
   "source": [
    "Now that the text is cleaned, we can derive the sentiment of the text. In this next section, we derive the sentiment, the subjectivity and the polarity. These are the tree final features we add to our model."
   ]
  },
  {
   "cell_type": "code",
   "execution_count": 32,
   "id": "21641bfa",
   "metadata": {},
   "outputs": [],
   "source": [
    "# define the function to extract the sentiment\n",
    "def get_sentiment(sentence):\n",
    "\n",
    "    # initialize sentiment analyzer\n",
    "    sid_obj = SentimentIntensityAnalyzer()\n",
    "\n",
    "    # get sentiment dict\n",
    "    sentiment_dict = sid_obj.polarity_scores(sentence)\n",
    "    \n",
    "    # get positive sentiment score\n",
    "    pos_sentiment = sentiment_dict[\"pos\"]\n",
    "    \n",
    "    # return positive sentiment score\n",
    "    return(pos_sentiment)\n",
    "\n",
    "# define function to get polarity score of text \n",
    "def get_polarity(row):\n",
    "    textBlob_review = TextBlob(row)\n",
    "    return textBlob_review.sentiment[0]\n",
    "\n",
    "# define function to get subjectivity score of text \n",
    "def get_subjectivity(row):\n",
    "    textBlob_review = TextBlob(row)\n",
    "    return textBlob_review.sentiment[1]\n",
    "\n",
    "\n",
    "# register the functions as udf\n",
    "get_sentiment_udf = F.udf(get_sentiment, DoubleType())\n",
    "get_polarity_udf = F.udf(get_polarity, DoubleType())\n",
    "get_subjectivity_udf = F.udf(get_subjectivity, DoubleType())"
   ]
  },
  {
   "cell_type": "code",
   "execution_count": 33,
   "id": "c764d19c",
   "metadata": {},
   "outputs": [],
   "source": [
    "# Create the final basetable for our analysis\n",
    "basetable_engr_final = basetable_engr_final.withColumn(\"sentiment\", get_sentiment_udf(F.col(\"cleaned_text\")))\\\n",
    "                                .withColumn('polarity', get_polarity_udf(F.col('cleaned_text')))\\\n",
    "                                .withColumn('subjectivity', get_subjectivity_udf(F.col('cleaned_text')))"
   ]
  },
  {
   "cell_type": "markdown",
   "id": "963d1e0f",
   "metadata": {},
   "source": [
    "# 4. Basetable creation"
   ]
  },
  {
   "cell_type": "code",
   "execution_count": 34,
   "id": "cd4d1bb8",
   "metadata": {},
   "outputs": [
    {
     "name": "stdout",
     "output_type": "stream",
     "text": [
      "root\n",
      " |-- media_type: string (nullable = true)\n",
      " |-- favorite_count: long (nullable = true)\n",
      " |-- full_text: string (nullable = true)\n",
      " |-- language: string (nullable = true)\n",
      " |-- retweet_count: long (nullable = true)\n",
      " |-- user_followers: long (nullable = true)\n",
      " |-- user_following: long (nullable = true)\n",
      " |-- screen_name: string (nullable = true)\n",
      " |-- eng_rate: double (nullable = false)\n",
      " |-- num_emojis: integer (nullable = true)\n",
      " |-- upper_case_words: integer (nullable = true)\n",
      " |-- num_words: integer (nullable = false)\n",
      " |-- num_hashtags: integer (nullable = true)\n",
      " |-- num_mentions: integer (nullable = true)\n",
      " |-- nr_exlcamations: integer (nullable = true)\n",
      " |-- week_day: string (nullable = true)\n",
      " |-- hour: string (nullable = true)\n",
      " |-- month: string (nullable = true)\n",
      " |-- day_month: string (nullable = true)\n",
      " |-- quoted_ind: integer (nullable = true)\n",
      " |-- symbol_ind: integer (nullable = true)\n",
      " |-- user_age_days: integer (nullable = true)\n",
      " |-- verified: integer (nullable = true)\n",
      " |-- nr_media_elements: integer (nullable = true)\n",
      " |-- nr_text_char: integer (nullable = true)\n",
      " |-- cleaned_text: string (nullable = true)\n",
      " |-- sentiment: double (nullable = true)\n",
      " |-- polarity: double (nullable = true)\n",
      " |-- subjectivity: double (nullable = true)\n",
      "\n"
     ]
    }
   ],
   "source": [
    "# Inspect the structure of the basetable:\n",
    "basetable_engr_final.printSchema()"
   ]
  },
  {
   "cell_type": "markdown",
   "id": "c00a4803",
   "metadata": {},
   "source": [
    "    - Check for missing values. If there are some - handle them (delete, impute,..).\n",
    "    - Adjust datatypes where needed\n",
    "    - Remove unnecessary columns\n",
    "    - Add data pre-processing steps to the pipeline"
   ]
  },
  {
   "cell_type": "markdown",
   "id": "1be68364",
   "metadata": {},
   "source": [
    "## 4.1 Drop unnecessary columns"
   ]
  },
  {
   "cell_type": "code",
   "execution_count": 35,
   "id": "289f4577",
   "metadata": {},
   "outputs": [],
   "source": [
    "# drop (the 3 last variables were used to define the dependent variable)\n",
    "basetable_engr_final = basetable_engr_final.drop('full_text')\\\n",
    "                                .drop('screen_name')\\\n",
    "                                .drop('language')\\\n",
    "                                .drop('cleaned_text')\\\n",
    "                                .drop('tokens_stemmed')\\\n",
    "                                .drop('retweet_count')\\\n",
    "                                .drop('favorite_count')\\\n",
    "                                .drop('user_followers')\n"
   ]
  },
  {
   "cell_type": "code",
   "execution_count": 36,
   "id": "1da23c8a",
   "metadata": {},
   "outputs": [
    {
     "name": "stdout",
     "output_type": "stream",
     "text": [
      "root\n",
      " |-- media_type: string (nullable = true)\n",
      " |-- user_following: long (nullable = true)\n",
      " |-- eng_rate: double (nullable = false)\n",
      " |-- num_emojis: integer (nullable = true)\n",
      " |-- upper_case_words: integer (nullable = true)\n",
      " |-- num_words: integer (nullable = false)\n",
      " |-- num_hashtags: integer (nullable = true)\n",
      " |-- num_mentions: integer (nullable = true)\n",
      " |-- nr_exlcamations: integer (nullable = true)\n",
      " |-- week_day: string (nullable = true)\n",
      " |-- hour: string (nullable = true)\n",
      " |-- month: string (nullable = true)\n",
      " |-- day_month: string (nullable = true)\n",
      " |-- quoted_ind: integer (nullable = true)\n",
      " |-- symbol_ind: integer (nullable = true)\n",
      " |-- user_age_days: integer (nullable = true)\n",
      " |-- verified: integer (nullable = true)\n",
      " |-- nr_media_elements: integer (nullable = true)\n",
      " |-- nr_text_char: integer (nullable = true)\n",
      " |-- sentiment: double (nullable = true)\n",
      " |-- polarity: double (nullable = true)\n",
      " |-- subjectivity: double (nullable = true)\n",
      "\n"
     ]
    }
   ],
   "source": [
    "# inspect the data\n",
    "basetable_engr_final.printSchema()"
   ]
  },
  {
   "cell_type": "code",
   "execution_count": 41,
   "id": "f169a114",
   "metadata": {},
   "outputs": [
    {
     "data": {
      "text/html": [
       "<div>\n",
       "<style scoped>\n",
       "    .dataframe tbody tr th:only-of-type {\n",
       "        vertical-align: middle;\n",
       "    }\n",
       "\n",
       "    .dataframe tbody tr th {\n",
       "        vertical-align: top;\n",
       "    }\n",
       "\n",
       "    .dataframe thead th {\n",
       "        text-align: right;\n",
       "    }\n",
       "</style>\n",
       "<table border=\"1\" class=\"dataframe\">\n",
       "  <thead>\n",
       "    <tr style=\"text-align: right;\">\n",
       "      <th></th>\n",
       "      <th>media_type</th>\n",
       "      <th>user_following</th>\n",
       "      <th>eng_rate</th>\n",
       "      <th>num_emojis</th>\n",
       "      <th>upper_case_words</th>\n",
       "      <th>num_words</th>\n",
       "      <th>num_hashtags</th>\n",
       "      <th>num_mentions</th>\n",
       "      <th>nr_exlcamations</th>\n",
       "      <th>week_day</th>\n",
       "      <th>...</th>\n",
       "      <th>day_month</th>\n",
       "      <th>quoted_ind</th>\n",
       "      <th>symbol_ind</th>\n",
       "      <th>user_age_days</th>\n",
       "      <th>verified</th>\n",
       "      <th>nr_media_elements</th>\n",
       "      <th>nr_text_char</th>\n",
       "      <th>sentiment</th>\n",
       "      <th>polarity</th>\n",
       "      <th>subjectivity</th>\n",
       "    </tr>\n",
       "  </thead>\n",
       "  <tbody>\n",
       "    <tr>\n",
       "      <th>0</th>\n",
       "      <td>no_media</td>\n",
       "      <td>122</td>\n",
       "      <td>0.000000</td>\n",
       "      <td>0</td>\n",
       "      <td>2</td>\n",
       "      <td>8</td>\n",
       "      <td>0</td>\n",
       "      <td>0</td>\n",
       "      <td>0</td>\n",
       "      <td>Sat</td>\n",
       "      <td>...</td>\n",
       "      <td>30</td>\n",
       "      <td>0</td>\n",
       "      <td>0</td>\n",
       "      <td>2546</td>\n",
       "      <td>0</td>\n",
       "      <td>0</td>\n",
       "      <td>89</td>\n",
       "      <td>0.137</td>\n",
       "      <td>0.500000</td>\n",
       "      <td>0.50</td>\n",
       "    </tr>\n",
       "    <tr>\n",
       "      <th>1</th>\n",
       "      <td>no_media</td>\n",
       "      <td>25712</td>\n",
       "      <td>0.000080</td>\n",
       "      <td>0</td>\n",
       "      <td>0</td>\n",
       "      <td>13</td>\n",
       "      <td>0</td>\n",
       "      <td>0</td>\n",
       "      <td>0</td>\n",
       "      <td>Thu</td>\n",
       "      <td>...</td>\n",
       "      <td>28</td>\n",
       "      <td>0</td>\n",
       "      <td>0</td>\n",
       "      <td>2714</td>\n",
       "      <td>0</td>\n",
       "      <td>0</td>\n",
       "      <td>132</td>\n",
       "      <td>0.118</td>\n",
       "      <td>0.200000</td>\n",
       "      <td>0.20</td>\n",
       "    </tr>\n",
       "    <tr>\n",
       "      <th>2</th>\n",
       "      <td>video</td>\n",
       "      <td>276</td>\n",
       "      <td>0.027027</td>\n",
       "      <td>7</td>\n",
       "      <td>1</td>\n",
       "      <td>11</td>\n",
       "      <td>0</td>\n",
       "      <td>0</td>\n",
       "      <td>0</td>\n",
       "      <td>Fri</td>\n",
       "      <td>...</td>\n",
       "      <td>5</td>\n",
       "      <td>0</td>\n",
       "      <td>0</td>\n",
       "      <td>554</td>\n",
       "      <td>0</td>\n",
       "      <td>1</td>\n",
       "      <td>99</td>\n",
       "      <td>0.087</td>\n",
       "      <td>0.033333</td>\n",
       "      <td>0.60</td>\n",
       "    </tr>\n",
       "    <tr>\n",
       "      <th>3</th>\n",
       "      <td>photo</td>\n",
       "      <td>1013</td>\n",
       "      <td>0.000000</td>\n",
       "      <td>0</td>\n",
       "      <td>0</td>\n",
       "      <td>25</td>\n",
       "      <td>0</td>\n",
       "      <td>0</td>\n",
       "      <td>0</td>\n",
       "      <td>Sat</td>\n",
       "      <td>...</td>\n",
       "      <td>16</td>\n",
       "      <td>0</td>\n",
       "      <td>0</td>\n",
       "      <td>3690</td>\n",
       "      <td>0</td>\n",
       "      <td>1</td>\n",
       "      <td>273</td>\n",
       "      <td>0.104</td>\n",
       "      <td>0.500000</td>\n",
       "      <td>0.55</td>\n",
       "    </tr>\n",
       "    <tr>\n",
       "      <th>4</th>\n",
       "      <td>no_media</td>\n",
       "      <td>89158</td>\n",
       "      <td>0.000060</td>\n",
       "      <td>0</td>\n",
       "      <td>4</td>\n",
       "      <td>31</td>\n",
       "      <td>0</td>\n",
       "      <td>0</td>\n",
       "      <td>0</td>\n",
       "      <td>Thu</td>\n",
       "      <td>...</td>\n",
       "      <td>8</td>\n",
       "      <td>1</td>\n",
       "      <td>1</td>\n",
       "      <td>3401</td>\n",
       "      <td>0</td>\n",
       "      <td>0</td>\n",
       "      <td>261</td>\n",
       "      <td>0.224</td>\n",
       "      <td>0.500000</td>\n",
       "      <td>0.50</td>\n",
       "    </tr>\n",
       "  </tbody>\n",
       "</table>\n",
       "<p>5 rows × 22 columns</p>\n",
       "</div>"
      ],
      "text/plain": [
       "  media_type  user_following  eng_rate  num_emojis  upper_case_words  \\\n",
       "0   no_media             122  0.000000           0                 2   \n",
       "1   no_media           25712  0.000080           0                 0   \n",
       "2      video             276  0.027027           7                 1   \n",
       "3      photo            1013  0.000000           0                 0   \n",
       "4   no_media           89158  0.000060           0                 4   \n",
       "\n",
       "   num_words  num_hashtags  num_mentions  nr_exlcamations week_day  ...  \\\n",
       "0          8             0             0                0      Sat  ...   \n",
       "1         13             0             0                0      Thu  ...   \n",
       "2         11             0             0                0      Fri  ...   \n",
       "3         25             0             0                0      Sat  ...   \n",
       "4         31             0             0                0      Thu  ...   \n",
       "\n",
       "  day_month quoted_ind symbol_ind  user_age_days  verified  nr_media_elements  \\\n",
       "0        30          0          0           2546         0                  0   \n",
       "1        28          0          0           2714         0                  0   \n",
       "2         5          0          0            554         0                  1   \n",
       "3        16          0          0           3690         0                  1   \n",
       "4         8          1          1           3401         0                  0   \n",
       "\n",
       "   nr_text_char  sentiment  polarity  subjectivity  \n",
       "0            89      0.137  0.500000          0.50  \n",
       "1           132      0.118  0.200000          0.20  \n",
       "2            99      0.087  0.033333          0.60  \n",
       "3           273      0.104  0.500000          0.55  \n",
       "4           261      0.224  0.500000          0.50  \n",
       "\n",
       "[5 rows x 22 columns]"
      ]
     },
     "execution_count": 41,
     "metadata": {},
     "output_type": "execute_result"
    }
   ],
   "source": [
    "# inspect the data\n",
    "#basetable_engr_final.toPandas().head(5)"
   ]
  },
  {
   "cell_type": "markdown",
   "id": "f8d4f1f8",
   "metadata": {},
   "source": [
    "## 4.2 Handle missing values"
   ]
  },
  {
   "cell_type": "markdown",
   "id": "37067394",
   "metadata": {},
   "source": [
    "We see that there are no missing values in our dataset, so this step is completed."
   ]
  },
  {
   "cell_type": "code",
   "execution_count": 42,
   "id": "cea47faf",
   "metadata": {},
   "outputs": [
    {
     "data": {
      "text/html": [
       "<div>\n",
       "<style scoped>\n",
       "    .dataframe tbody tr th:only-of-type {\n",
       "        vertical-align: middle;\n",
       "    }\n",
       "\n",
       "    .dataframe tbody tr th {\n",
       "        vertical-align: top;\n",
       "    }\n",
       "\n",
       "    .dataframe thead th {\n",
       "        text-align: right;\n",
       "    }\n",
       "</style>\n",
       "<table border=\"1\" class=\"dataframe\">\n",
       "  <thead>\n",
       "    <tr style=\"text-align: right;\">\n",
       "      <th></th>\n",
       "      <th>media_type</th>\n",
       "      <th>user_following</th>\n",
       "      <th>eng_rate</th>\n",
       "      <th>num_emojis</th>\n",
       "      <th>upper_case_words</th>\n",
       "      <th>num_words</th>\n",
       "      <th>num_hashtags</th>\n",
       "      <th>num_mentions</th>\n",
       "      <th>nr_exlcamations</th>\n",
       "      <th>week_day</th>\n",
       "      <th>...</th>\n",
       "      <th>day_month</th>\n",
       "      <th>quoted_ind</th>\n",
       "      <th>symbol_ind</th>\n",
       "      <th>user_age_days</th>\n",
       "      <th>verified</th>\n",
       "      <th>nr_media_elements</th>\n",
       "      <th>nr_text_char</th>\n",
       "      <th>sentiment</th>\n",
       "      <th>polarity</th>\n",
       "      <th>subjectivity</th>\n",
       "    </tr>\n",
       "  </thead>\n",
       "  <tbody>\n",
       "    <tr>\n",
       "      <th>0</th>\n",
       "      <td>0</td>\n",
       "      <td>0</td>\n",
       "      <td>0</td>\n",
       "      <td>0</td>\n",
       "      <td>0</td>\n",
       "      <td>0</td>\n",
       "      <td>0</td>\n",
       "      <td>0</td>\n",
       "      <td>0</td>\n",
       "      <td>0</td>\n",
       "      <td>...</td>\n",
       "      <td>0</td>\n",
       "      <td>0</td>\n",
       "      <td>0</td>\n",
       "      <td>0</td>\n",
       "      <td>0</td>\n",
       "      <td>0</td>\n",
       "      <td>0</td>\n",
       "      <td>0</td>\n",
       "      <td>0</td>\n",
       "      <td>0</td>\n",
       "    </tr>\n",
       "  </tbody>\n",
       "</table>\n",
       "<p>1 rows × 22 columns</p>\n",
       "</div>"
      ],
      "text/plain": [
       "   media_type  user_following  eng_rate  num_emojis  upper_case_words  \\\n",
       "0           0               0         0           0                 0   \n",
       "\n",
       "   num_words  num_hashtags  num_mentions  nr_exlcamations  week_day  ...  \\\n",
       "0          0             0             0                0         0  ...   \n",
       "\n",
       "   day_month  quoted_ind  symbol_ind  user_age_days  verified  \\\n",
       "0          0           0           0              0         0   \n",
       "\n",
       "   nr_media_elements  nr_text_char  sentiment  polarity  subjectivity  \n",
       "0                  0             0          0         0             0  \n",
       "\n",
       "[1 rows x 22 columns]"
      ]
     },
     "execution_count": 42,
     "metadata": {},
     "output_type": "execute_result"
    }
   ],
   "source": [
    "# check missing values (also null values were checked but are not shown)\n",
    "basetable_engr_final.select([F.count(F.when(F.isnan(c), c)).alias(c) for c in basetable_engr_final.columns]).toPandas().head()                                         "
   ]
  },
  {
   "cell_type": "markdown",
   "id": "13c7c45c",
   "metadata": {},
   "source": [
    "Further, we see that our variables all have the correct datatype."
   ]
  },
  {
   "cell_type": "markdown",
   "id": "280d0557",
   "metadata": {},
   "source": [
    "# 5. Modelling"
   ]
  },
  {
   "cell_type": "markdown",
   "id": "580a945c",
   "metadata": {},
   "source": [
    "In this part, we are going to two classification models on the training data. First, we will train a logistic regression model with and without weights. However, we saw that the model without weights does not give accurate results. Even though the evaluation statistics seem good, we saw that the model only predicted zero values (= low engagement). Therefore, we will use the model with weights to look at its coefficients.\n",
    "\n",
    "Next, we also trained a random forest model. This is an advanced machine learning model of which we expect good performance. Again, we saw that a model with weights was necessary due to the same reasons.\n",
    "\n",
    "For both models, we performed cross validation on 1% of the data due to memory issues. Besides, we could only train a limited number of parameters at a time. Afterwards, we rerun the jupyter notebook file with 5% of the data so the best models could be trained with 5% of the data. This is also the reason why the code about cross validation is put in comments.\n",
    "\n",
    "After we trained our models, we evaluated them. As the goal of our analysis was to find the driving factors behind the engagement rate, we determined the coefficients of the logistic regression and the variable importance of the random forest. The combination of these two factors led to a managerial decision. This way, we knew in which direction the variable affects the engagement rate and its importance."
   ]
  },
  {
   "cell_type": "markdown",
   "id": "236b1daa",
   "metadata": {},
   "source": [
    "We start by handling our dependent variable, which we make categorical. We create tree categories: low, medium and high engagement. Then, we use the StringIndexer to create the right input for the model. "
   ]
  },
  {
   "cell_type": "code",
   "execution_count": 37,
   "id": "3995d48f",
   "metadata": {},
   "outputs": [],
   "source": [
    "# First, we need to categorize our dependent variable in order to make it categorical\n",
    "from pyspark.ml.feature import Bucketizer\n",
    "basetable_engr_final = Bucketizer(\n",
    "    splits=[-float('inf'), 0.015, 0.05, float('inf')],\n",
    "    inputCol='eng_rate',\n",
    "    outputCol='label_cat'\n",
    ").transform(basetable_engr_final)"
   ]
  },
  {
   "cell_type": "code",
   "execution_count": 38,
   "id": "ca6ffa76",
   "metadata": {},
   "outputs": [
    {
     "name": "stdout",
     "output_type": "stream",
     "text": [
      "+---------+-----+\n",
      "|label_cat|count|\n",
      "+---------+-----+\n",
      "|      0.0|20126|\n",
      "|      1.0| 1798|\n",
      "|      2.0| 1485|\n",
      "+---------+-----+\n",
      "\n"
     ]
    }
   ],
   "source": [
    "# inspect\n",
    "basetable_engr_final.groupBy('label_cat').count().show()"
   ]
  },
  {
   "cell_type": "markdown",
   "id": "a3d7a09a",
   "metadata": {},
   "source": [
    "## 5.1 Split the data in train and test set"
   ]
  },
  {
   "cell_type": "code",
   "execution_count": 39,
   "id": "d847c9b5",
   "metadata": {},
   "outputs": [],
   "source": [
    "# split data in train and test set\n",
    "train, test = basetable_engr_final.randomSplit([0.7, 0.3], seed= 100)"
   ]
  },
  {
   "cell_type": "code",
   "execution_count": 137,
   "id": "60e1072e",
   "metadata": {},
   "outputs": [],
   "source": [
    "# check number of observations in both datasets\n",
    "#print(\"Number of observations in the training set: %s \" % train.count())\n",
    "#print(\"Number of observations in the test set: %s \" %test.count())"
   ]
  },
  {
   "cell_type": "code",
   "execution_count": 47,
   "id": "ed917457",
   "metadata": {},
   "outputs": [
    {
     "data": {
      "text/html": [
       "<div>\n",
       "<style scoped>\n",
       "    .dataframe tbody tr th:only-of-type {\n",
       "        vertical-align: middle;\n",
       "    }\n",
       "\n",
       "    .dataframe tbody tr th {\n",
       "        vertical-align: top;\n",
       "    }\n",
       "\n",
       "    .dataframe thead th {\n",
       "        text-align: right;\n",
       "    }\n",
       "</style>\n",
       "<table border=\"1\" class=\"dataframe\">\n",
       "  <thead>\n",
       "    <tr style=\"text-align: right;\">\n",
       "      <th></th>\n",
       "      <th>media_type</th>\n",
       "      <th>user_following</th>\n",
       "      <th>eng_rate</th>\n",
       "      <th>num_emojis</th>\n",
       "      <th>upper_case_words</th>\n",
       "      <th>num_words</th>\n",
       "      <th>num_hashtags</th>\n",
       "      <th>num_mentions</th>\n",
       "      <th>nr_exlcamations</th>\n",
       "      <th>week_day</th>\n",
       "      <th>...</th>\n",
       "      <th>quoted_ind</th>\n",
       "      <th>symbol_ind</th>\n",
       "      <th>user_age_days</th>\n",
       "      <th>verified</th>\n",
       "      <th>nr_media_elements</th>\n",
       "      <th>nr_text_char</th>\n",
       "      <th>sentiment</th>\n",
       "      <th>polarity</th>\n",
       "      <th>subjectivity</th>\n",
       "      <th>label_cat</th>\n",
       "    </tr>\n",
       "  </thead>\n",
       "  <tbody>\n",
       "    <tr>\n",
       "      <th>0</th>\n",
       "      <td>animated_gif</td>\n",
       "      <td>96</td>\n",
       "      <td>0.000000</td>\n",
       "      <td>1</td>\n",
       "      <td>2</td>\n",
       "      <td>22</td>\n",
       "      <td>0</td>\n",
       "      <td>0</td>\n",
       "      <td>0</td>\n",
       "      <td>Wed</td>\n",
       "      <td>...</td>\n",
       "      <td>0</td>\n",
       "      <td>0</td>\n",
       "      <td>2652</td>\n",
       "      <td>0</td>\n",
       "      <td>1</td>\n",
       "      <td>181</td>\n",
       "      <td>0.000</td>\n",
       "      <td>0.000000</td>\n",
       "      <td>0.066667</td>\n",
       "      <td>0.0</td>\n",
       "    </tr>\n",
       "    <tr>\n",
       "      <th>1</th>\n",
       "      <td>animated_gif</td>\n",
       "      <td>266</td>\n",
       "      <td>0.000000</td>\n",
       "      <td>1</td>\n",
       "      <td>0</td>\n",
       "      <td>6</td>\n",
       "      <td>0</td>\n",
       "      <td>0</td>\n",
       "      <td>0</td>\n",
       "      <td>Thu</td>\n",
       "      <td>...</td>\n",
       "      <td>0</td>\n",
       "      <td>0</td>\n",
       "      <td>2224</td>\n",
       "      <td>0</td>\n",
       "      <td>1</td>\n",
       "      <td>41</td>\n",
       "      <td>0.000</td>\n",
       "      <td>-0.145833</td>\n",
       "      <td>0.520833</td>\n",
       "      <td>0.0</td>\n",
       "    </tr>\n",
       "    <tr>\n",
       "      <th>2</th>\n",
       "      <td>animated_gif</td>\n",
       "      <td>433</td>\n",
       "      <td>0.011364</td>\n",
       "      <td>1</td>\n",
       "      <td>0</td>\n",
       "      <td>6</td>\n",
       "      <td>0</td>\n",
       "      <td>0</td>\n",
       "      <td>0</td>\n",
       "      <td>Thu</td>\n",
       "      <td>...</td>\n",
       "      <td>0</td>\n",
       "      <td>0</td>\n",
       "      <td>337</td>\n",
       "      <td>0</td>\n",
       "      <td>1</td>\n",
       "      <td>35</td>\n",
       "      <td>0.412</td>\n",
       "      <td>0.000000</td>\n",
       "      <td>0.000000</td>\n",
       "      <td>0.0</td>\n",
       "    </tr>\n",
       "    <tr>\n",
       "      <th>3</th>\n",
       "      <td>no_media</td>\n",
       "      <td>0</td>\n",
       "      <td>0.000000</td>\n",
       "      <td>0</td>\n",
       "      <td>0</td>\n",
       "      <td>26</td>\n",
       "      <td>0</td>\n",
       "      <td>0</td>\n",
       "      <td>0</td>\n",
       "      <td>Sat</td>\n",
       "      <td>...</td>\n",
       "      <td>0</td>\n",
       "      <td>0</td>\n",
       "      <td>840</td>\n",
       "      <td>0</td>\n",
       "      <td>0</td>\n",
       "      <td>258</td>\n",
       "      <td>0.102</td>\n",
       "      <td>0.000000</td>\n",
       "      <td>0.750000</td>\n",
       "      <td>0.0</td>\n",
       "    </tr>\n",
       "    <tr>\n",
       "      <th>4</th>\n",
       "      <td>no_media</td>\n",
       "      <td>0</td>\n",
       "      <td>0.000000</td>\n",
       "      <td>0</td>\n",
       "      <td>0</td>\n",
       "      <td>26</td>\n",
       "      <td>0</td>\n",
       "      <td>0</td>\n",
       "      <td>0</td>\n",
       "      <td>Sun</td>\n",
       "      <td>...</td>\n",
       "      <td>0</td>\n",
       "      <td>0</td>\n",
       "      <td>72</td>\n",
       "      <td>0</td>\n",
       "      <td>0</td>\n",
       "      <td>276</td>\n",
       "      <td>0.547</td>\n",
       "      <td>0.460417</td>\n",
       "      <td>0.562500</td>\n",
       "      <td>0.0</td>\n",
       "    </tr>\n",
       "  </tbody>\n",
       "</table>\n",
       "<p>5 rows × 23 columns</p>\n",
       "</div>"
      ],
      "text/plain": [
       "     media_type  user_following  eng_rate  num_emojis  upper_case_words  \\\n",
       "0  animated_gif              96  0.000000           1                 2   \n",
       "1  animated_gif             266  0.000000           1                 0   \n",
       "2  animated_gif             433  0.011364           1                 0   \n",
       "3      no_media               0  0.000000           0                 0   \n",
       "4      no_media               0  0.000000           0                 0   \n",
       "\n",
       "   num_words  num_hashtags  num_mentions  nr_exlcamations week_day  ...  \\\n",
       "0         22             0             0                0      Wed  ...   \n",
       "1          6             0             0                0      Thu  ...   \n",
       "2          6             0             0                0      Thu  ...   \n",
       "3         26             0             0                0      Sat  ...   \n",
       "4         26             0             0                0      Sun  ...   \n",
       "\n",
       "  quoted_ind symbol_ind user_age_days  verified  nr_media_elements  \\\n",
       "0          0          0          2652         0                  1   \n",
       "1          0          0          2224         0                  1   \n",
       "2          0          0           337         0                  1   \n",
       "3          0          0           840         0                  0   \n",
       "4          0          0            72         0                  0   \n",
       "\n",
       "   nr_text_char  sentiment  polarity  subjectivity  label_cat  \n",
       "0           181      0.000  0.000000      0.066667        0.0  \n",
       "1            41      0.000 -0.145833      0.520833        0.0  \n",
       "2            35      0.412  0.000000      0.000000        0.0  \n",
       "3           258      0.102  0.000000      0.750000        0.0  \n",
       "4           276      0.547  0.460417      0.562500        0.0  \n",
       "\n",
       "[5 rows x 23 columns]"
      ]
     },
     "execution_count": 47,
     "metadata": {},
     "output_type": "execute_result"
    }
   ],
   "source": [
    "# inspect the training data\n",
    "#train.toPandas().head()"
   ]
  },
  {
   "cell_type": "markdown",
   "id": "f4647cd5",
   "metadata": {},
   "source": [
    "#### handle class imbalance in dependent variable"
   ]
  },
  {
   "cell_type": "code",
   "execution_count": 40,
   "id": "cb4096fb",
   "metadata": {},
   "outputs": [
    {
     "name": "stdout",
     "output_type": "stream",
     "text": [
      "16217\n"
     ]
    }
   ],
   "source": [
    "# first define the number of training observations\n",
    "nr_train_obs = train.count()\n",
    "print(nr_train_obs)"
   ]
  },
  {
   "cell_type": "code",
   "execution_count": 41,
   "id": "386224b0",
   "metadata": {},
   "outputs": [],
   "source": [
    "# define the number of observations per label\n",
    "train_obs_0 = train.filter(F.col('label_cat') == 0.0).count()\n",
    "train_obs_1 = train.filter(F.col('label_cat') == 1.0).count()\n",
    "train_obs_2 = train.filter(F.col('label_cat') == 2.0).count()"
   ]
  },
  {
   "cell_type": "code",
   "execution_count": 42,
   "id": "30e3a2f1",
   "metadata": {},
   "outputs": [
    {
     "name": "stdout",
     "output_type": "stream",
     "text": [
      "0.388701133721627\n",
      "4.377058029689609\n",
      "5.217824967824968\n"
     ]
    }
   ],
   "source": [
    "# Now define weights of labels (based on 1% of the data due to computation time)\n",
    "weight_0 = (nr_train_obs)/(3*train_obs_0)\n",
    "weight_1 = (nr_train_obs)/(3*train_obs_1)\n",
    "weight_2 = (nr_train_obs)/(3*train_obs_2)\n",
    "print(weight_0)\n",
    "print(weight_1)\n",
    "print(weight_2)"
   ]
  },
  {
   "cell_type": "code",
   "execution_count": 43,
   "id": "3ccd153d",
   "metadata": {},
   "outputs": [],
   "source": [
    "# insert weight column into training and test set\n",
    "train = train.withColumn(\"weight\", F.when(F.col(\"label_cat\") == 1, weight_1)\\\n",
    "                         .otherwise(F.when(F.col(\"label_cat\") == 2, weight_2).otherwise(weight_0)))\n",
    "test = test.withColumn(\"weight\", F.when(F.col(\"label_cat\") == 1, weight_1)\\\n",
    "                         .otherwise(F.when(F.col(\"label_cat\") == 2, weight_2).otherwise(weight_0)))\n"
   ]
  },
  {
   "cell_type": "code",
   "execution_count": 44,
   "id": "e82330dd",
   "metadata": {},
   "outputs": [
    {
     "name": "stdout",
     "output_type": "stream",
     "text": [
      "+-----------------+\n",
      "|           weight|\n",
      "+-----------------+\n",
      "|0.388701133721627|\n",
      "|5.217824967824968|\n",
      "|0.388701133721627|\n",
      "|0.388701133721627|\n",
      "|0.388701133721627|\n",
      "+-----------------+\n",
      "only showing top 5 rows\n",
      "\n"
     ]
    }
   ],
   "source": [
    "# inspect the weights\n",
    "train.select(F.col('weight')).show(5)"
   ]
  },
  {
   "cell_type": "markdown",
   "id": "429fb137",
   "metadata": {},
   "source": [
    "## 5.2 Pipelines"
   ]
  },
  {
   "cell_type": "markdown",
   "id": "53450db7",
   "metadata": {},
   "source": [
    "**Import required transformers and estimators**"
   ]
  },
  {
   "cell_type": "code",
   "execution_count": 45,
   "id": "a18c486b",
   "metadata": {},
   "outputs": [],
   "source": [
    "# import pyspark ml packages\n",
    "from pyspark.ml import Pipeline\n",
    "from pyspark.ml.feature import StopWordsRemover, StandardScaler, Word2Vec\n",
    "from pyspark.ml.feature import OneHotEncoder, VectorAssembler, StringIndexer, VectorIndexer\n",
    "from pyspark.ml.classification import LogisticRegression, RandomForestClassifier\n",
    "\n",
    "# import models and evaluator\n",
    "from pyspark.ml.evaluation import RegressionEvaluator\n",
    "from pyspark.ml.tuning import ParamGridBuilder, CrossValidator\n",
    "from pyspark.ml.evaluation import MulticlassClassificationEvaluator\n",
    "\n",
    "# plot for evaluation\n",
    "import plotly.express as px"
   ]
  },
  {
   "cell_type": "markdown",
   "id": "55f28f38",
   "metadata": {},
   "source": [
    "#### Define the different pipeline stages "
   ]
  },
  {
   "cell_type": "code",
   "execution_count": 46,
   "id": "1ccbbfd2",
   "metadata": {},
   "outputs": [],
   "source": [
    "# Create string indexer for the dependent variable\n",
    "IDX = StringIndexer(inputCol = 'label_cat', outputCol = 'label')"
   ]
  },
  {
   "cell_type": "markdown",
   "id": "60accc3d",
   "metadata": {},
   "source": [
    "#### handle numeric features"
   ]
  },
  {
   "cell_type": "code",
   "execution_count": 47,
   "id": "676921ad",
   "metadata": {},
   "outputs": [],
   "source": [
    "# define the numeric variables\n",
    "num_cols = ['user_following', 'num_emojis', 'upper_case_words','num_words',\n",
    "            'num_hashtags', 'num_mentions', 'nr_exlcamations',  'user_age_days', \n",
    "            'nr_media_elements', 'nr_text_char']\n",
    "\n",
    "# define the assembler\n",
    "num_VA = VectorAssembler(inputCols=num_cols, outputCol=\"num_features\")"
   ]
  },
  {
   "cell_type": "code",
   "execution_count": 48,
   "id": "394415c2",
   "metadata": {},
   "outputs": [],
   "source": [
    "# define the scaler\n",
    "SS = StandardScaler(inputCol=\"num_features\", outputCol=\"num_features_scaled\")"
   ]
  },
  {
   "cell_type": "markdown",
   "id": "58a33263",
   "metadata": {},
   "source": [
    "#### handle categorical features"
   ]
  },
  {
   "cell_type": "markdown",
   "id": "4ffe911a",
   "metadata": {},
   "source": [
    "First, we transform the text variables in our dataset into numerical categories"
   ]
  },
  {
   "cell_type": "code",
   "execution_count": 49,
   "id": "8dc251be",
   "metadata": {},
   "outputs": [],
   "source": [
    "# define the categorical variables\n",
    "cat_cols = ['media_type', 'hour', 'week_day', 'month', 'day_month', 'quoted_ind',\n",
    "           'symbol_ind', 'verified']\n",
    "\n",
    "# create an object of StringIndexer class for each categorical variable\n",
    "SI_media = StringIndexer(inputCol= 'media_type', outputCol= 'media_type_index')\n",
    "SI_hour = StringIndexer(inputCol= 'hour', outputCol= 'hour_index')\n",
    "SI_week_day = StringIndexer(inputCol= 'week_day', outputCol= 'week_day_index')\n",
    "SI_month = StringIndexer(inputCol= 'month', outputCol= 'month_index')\n",
    "SI_day_month = StringIndexer(inputCol= 'day_month', outputCol= 'day_month_index')"
   ]
  },
  {
   "cell_type": "markdown",
   "id": "6bf4ca53",
   "metadata": {},
   "source": [
    "Next, we One Hot Encode categorical variables in numeric format"
   ]
  },
  {
   "cell_type": "code",
   "execution_count": 50,
   "id": "052a04ca",
   "metadata": {},
   "outputs": [],
   "source": [
    "# define the categorical variables that are already in NUMERIC format\n",
    "cat_cols_num = ['media_type_index', 'hour_index', 'week_day_index', 'month_index', \n",
    "                    'day_month_index','quoted_ind', 'symbol_ind', 'verified']\n",
    "\n",
    "# define new names of encoded categorical variables\n",
    "catColumnsOHE = [name  + \"_OHE\" for name in cat_cols_num]\n",
    "\n",
    "# define one hot encoder\n",
    "encoder = OneHotEncoder(inputCols = cat_cols_num, outputCols = catColumnsOHE)"
   ]
  },
  {
   "cell_type": "code",
   "execution_count": 51,
   "id": "e5429a59",
   "metadata": {},
   "outputs": [],
   "source": [
    "# define the categorical variables that are already in NUMERIC format\n",
    "cat_VA_LR = VectorAssembler(inputCols= catColumnsOHE, outputCol=\"cat_features\")\n"
   ]
  },
  {
   "cell_type": "markdown",
   "id": "40354ad2",
   "metadata": {},
   "source": [
    "For the random forest model, replace the OneHotEncoder with a VectorIndexer"
   ]
  },
  {
   "cell_type": "code",
   "execution_count": 52,
   "id": "a99a3a71",
   "metadata": {},
   "outputs": [],
   "source": [
    "# define VA for the random forest model\n",
    "cat_VA_RF = VectorAssembler(inputCols= cat_cols_num, outputCol=\"cat_features_idx\")\n",
    "\n",
    "# Define VectorIndexer\n",
    "indexer = VectorIndexer(inputCol = 'cat_features_idx', outputCol = 'cat_features')"
   ]
  },
  {
   "cell_type": "markdown",
   "id": "136a6f5c",
   "metadata": {},
   "source": [
    "Next, we use a VectorAssembler to assemble all encoded variables together."
   ]
  },
  {
   "cell_type": "code",
   "execution_count": 53,
   "id": "02cc52ba",
   "metadata": {},
   "outputs": [],
   "source": [
    "# define vector assembler\n",
    "VA_all_LR = VectorAssembler(inputCols=[\"num_features_scaled\", \"cat_features\", \"polarity\", \"subjectivity\", \"sentiment\"], outputCol=\"features\")"
   ]
  },
  {
   "cell_type": "code",
   "execution_count": 54,
   "id": "c24d9357",
   "metadata": {},
   "outputs": [],
   "source": [
    "# for random forest we don't scale the features \n",
    "VA_all_RF = VectorAssembler(inputCols=[\"num_features\", \"cat_features\", \"polarity\", \"subjectivity\", \"sentiment\"], outputCol=\"featuresrf\")"
   ]
  },
  {
   "cell_type": "code",
   "execution_count": 55,
   "id": "6ad16189",
   "metadata": {},
   "outputs": [],
   "source": [
    "# define logistic regression model\n",
    "LR = LogisticRegression(featuresCol = \"features\", labelCol = \"label\", weightCol= \"weight\",\n",
    "                       regParam =  0.8, maxIter =  10)\n",
    "\n",
    "# define logistic regression model without weights\n",
    "LR_without = LogisticRegression(featuresCol = \"features\", labelCol = \"label\", \n",
    "                               regParam =  0.0, maxIter =  100)"
   ]
  },
  {
   "cell_type": "code",
   "execution_count": 56,
   "id": "ed982683",
   "metadata": {},
   "outputs": [],
   "source": [
    "# define random forest model\n",
    "RF = RandomForestClassifier(featuresCol = \"featuresrf\", labelCol = \"label\", weightCol= \"weight\",\n",
    "                           maxDepth = 15, maxBins = 32, numTrees = 20)\n",
    "\n",
    "# define logistic regression model without weights\n",
    "RF_without = RandomForestClassifier(featuresCol = \"featuresrf\", labelCol = \"label\",\n",
    "                                   maxDepth = 5, maxBins = 32, numTrees = 20)\n"
   ]
  },
  {
   "cell_type": "markdown",
   "id": "db06ed5c",
   "metadata": {},
   "source": [
    "## 5.3 Train a logistic regression"
   ]
  },
  {
   "cell_type": "markdown",
   "id": "14ca7a50",
   "metadata": {},
   "source": [
    "To train the logistic regression model, we first performed cross validation while training the model on 1% of the training set. Not a lot of parameters could be tested at once due to memory issues. However, with the parameters found of the best cross validation model, we retrained the model on 5% of the data. The parameters were already set in the pipeline stage of this model. Below, you find the code of the cross validation in the comments."
   ]
  },
  {
   "cell_type": "code",
   "execution_count": 54,
   "id": "de91999b",
   "metadata": {},
   "outputs": [],
   "source": [
    "# first define the pipeline for the logistic regression without fitting the data\n",
    "#LR_pipeline = Pipeline().setStages([IDX, num_VA, SS,SI_media, SI_hour, SI_week_day, SI_month,\n",
    "#                                   SI_day_month, encoder, cat_VA_LR, VA_all_LR, LR])"
   ]
  },
  {
   "cell_type": "code",
   "execution_count": 55,
   "id": "a8f0db2f",
   "metadata": {},
   "outputs": [],
   "source": [
    "# define the parameter space \n",
    "#paramGrid = (ParamGridBuilder()\n",
    "#             .addGrid(LR.regParam, [0.1, 0.8])\n",
    "#             .addGrid(LR.maxIter, [3, 10])\n",
    "#             .build())"
   ]
  },
  {
   "cell_type": "code",
   "execution_count": 60,
   "id": "d471509d",
   "metadata": {},
   "outputs": [],
   "source": [
    "# define evaluator \n",
    "#evaluator_mc = MulticlassClassificationEvaluator()"
   ]
  },
  {
   "cell_type": "code",
   "execution_count": 57,
   "id": "73c7420b",
   "metadata": {},
   "outputs": [],
   "source": [
    "# define cross validator\n",
    "#cv = CrossValidator(estimator = LR_pipeline,\n",
    "#                    estimatorParamMaps = paramGrid,\n",
    "#                    evaluator = evaluator_mc, \n",
    "#                    numFolds = 5)"
   ]
  },
  {
   "cell_type": "code",
   "execution_count": 58,
   "id": "d18ea3d4",
   "metadata": {},
   "outputs": [],
   "source": [
    "# perform 5-fold cross validation for defined parameter space (train on train set with fit)\n",
    "#LR_cv_model = cv.fit(train)"
   ]
  },
  {
   "cell_type": "code",
   "execution_count": 70,
   "id": "a9a9bd6f",
   "metadata": {},
   "outputs": [
    {
     "name": "stdout",
     "output_type": "stream",
     "text": [
      "regParam =  0.8\n",
      "elasticNetParam =  0.0\n",
      "maxIter =  10\n"
     ]
    }
   ],
   "source": [
    "# print the parameters of the best model\n",
    "#print(\"regParam = \", LR_cv_model.bestModel.stages[-1]._java_obj.getRegParam())\n",
    "#print(\"elasticNetParam = \", LR_cv_model.bestModel.stages[-1]._java_obj.getElasticNetParam())\n",
    "#print(\"maxIter = \", LR_cv_model.bestModel.stages[-1]._java_obj.getMaxIter())"
   ]
  },
  {
   "cell_type": "code",
   "execution_count": 65,
   "id": "4b466e7a",
   "metadata": {},
   "outputs": [],
   "source": [
    "# get predictions on test set (test on test set with transform)\n",
    "#predictions = LR_cv_model.transform(test)"
   ]
  },
  {
   "cell_type": "markdown",
   "id": "115c2573",
   "metadata": {},
   "source": [
    "#### Do the cross validation for the model without weights."
   ]
  },
  {
   "cell_type": "code",
   "execution_count": 56,
   "id": "32aacfbd",
   "metadata": {},
   "outputs": [],
   "source": [
    "# first define the pipeline for the logistic regression without fitting the data\n",
    "#LR_pipeline_without = Pipeline().setStages([IDX, num_VA, SS,SI_media, SI_hour, SI_week_day, SI_month,\n",
    "#                                  SI_day_month, encoder, cat_VA_LR, VA_all_LR, LR_without])"
   ]
  },
  {
   "cell_type": "code",
   "execution_count": 58,
   "id": "f7ac185a",
   "metadata": {},
   "outputs": [],
   "source": [
    "# define the parameter space \n",
    "#paramGrid = (ParamGridBuilder()\n",
    "#             .addGrid(LR.regParam, [0.1, 0.8])\n",
    "#             .addGrid(LR.maxIter, [3, 10])\n",
    "#             .build())"
   ]
  },
  {
   "cell_type": "code",
   "execution_count": 61,
   "id": "1f81762f",
   "metadata": {},
   "outputs": [],
   "source": [
    "# define cross validator\n",
    "#cv_w = CrossValidator(estimator = LR_pipeline_without,\n",
    "#                   estimatorParamMaps = paramGrid,\n",
    "#                   evaluator = evaluator_mc, \n",
    "#                   numFolds = 5)"
   ]
  },
  {
   "cell_type": "code",
   "execution_count": 62,
   "id": "90dc34ea",
   "metadata": {},
   "outputs": [],
   "source": [
    "# perform 5-fold cross validation for defined parameter space (train on train set with fit)\n",
    "#LR_cv_model_without = cv_w.fit(train)"
   ]
  },
  {
   "cell_type": "code",
   "execution_count": 63,
   "id": "4c5013e5",
   "metadata": {},
   "outputs": [
    {
     "name": "stdout",
     "output_type": "stream",
     "text": [
      "regParam =  0.0\n",
      "elasticNetParam =  0.0\n",
      "maxIter =  100\n"
     ]
    }
   ],
   "source": [
    "# print the parameters of the best model\n",
    "#print(\"regParam = \", LR_cv_model_without.bestModel.stages[-1]._java_obj.getRegParam())\n",
    "#print(\"elasticNetParam = \", LR_cv_model_without.bestModel.stages[-1]._java_obj.getElasticNetParam())\n",
    "#print(\"maxIter = \", LR_cv_model_without.bestModel.stages[-1]._java_obj.getMaxIter())"
   ]
  },
  {
   "cell_type": "markdown",
   "id": "65a1d0e3",
   "metadata": {},
   "source": [
    "#### Train the logistic regression models with optimal parameters on 5% of the data."
   ]
  },
  {
   "cell_type": "code",
   "execution_count": 57,
   "id": "75048214",
   "metadata": {},
   "outputs": [],
   "source": [
    "# define pipeline model and fit on training data\n",
    "LR_pipeline = Pipeline().setStages([IDX, num_VA, SS,SI_media, SI_hour, SI_week_day, SI_month,\n",
    "                                    SI_day_month, encoder, cat_VA_LR, VA_all_LR, LR])\\\n",
    "                        .fit(train)\n",
    "\n",
    "LR_pipeline_w = Pipeline().setStages([IDX, num_VA, SS,SI_media, SI_hour, SI_week_day, SI_month,\n",
    "                                    SI_day_month, encoder, cat_VA_LR, VA_all_LR, LR_without])\\\n",
    "                        .fit(train)\n",
    "\n",
    "# get predictions on test set\n",
    "LR_preds = LR_pipeline.transform(test)\n",
    "LR_preds_w = LR_pipeline_w.transform(test)"
   ]
  },
  {
   "cell_type": "markdown",
   "id": "c09358d5",
   "metadata": {},
   "source": [
    "#### Evaluate"
   ]
  },
  {
   "cell_type": "code",
   "execution_count": 58,
   "id": "c6c5caf3",
   "metadata": {},
   "outputs": [],
   "source": [
    "# define evaluator (for other metrics)\n",
    "evaluator_mc = MulticlassClassificationEvaluator()"
   ]
  },
  {
   "cell_type": "code",
   "execution_count": 59,
   "id": "e2e351e4",
   "metadata": {},
   "outputs": [],
   "source": [
    "# get metrics for LR model\n",
    "lr_f1 = evaluator_mc.evaluate(LR_preds, {evaluator_mc.metricName: \"f1\"})\n",
    "lr_accuracy = evaluator_mc.evaluate(LR_preds, {evaluator_mc.metricName: \"accuracy\"})\n",
    "lr_recall = evaluator_mc.evaluate(LR_preds, {evaluator_mc.metricName: \"weightedRecall\"})\n",
    "lr_precision = evaluator_mc.evaluate(LR_preds, {evaluator_mc.metricName: \"weightedPrecision\"})\n",
    "lr_weighted_TPR = evaluator_mc.evaluate(LR_preds, {evaluator_mc.metricName: \"weightedTruePositiveRate\"})\n",
    "lr_weighted_FPR = evaluator_mc.evaluate(LR_preds, {evaluator_mc.metricName: \"weightedFalsePositiveRate\"})"
   ]
  },
  {
   "cell_type": "code",
   "execution_count": 60,
   "id": "206bd778",
   "metadata": {},
   "outputs": [],
   "source": [
    "# get metrics for LR model\n",
    "lr_f1_w = evaluator_mc.evaluate(LR_preds_w, {evaluator_mc.metricName: \"f1\"})\n",
    "lr_accuracy_w = evaluator_mc.evaluate(LR_preds_w, {evaluator_mc.metricName: \"accuracy\"})\n",
    "lr_recall_w = evaluator_mc.evaluate(LR_preds_w, {evaluator_mc.metricName: \"weightedRecall\"})\n",
    "lr_precision_w = evaluator_mc.evaluate(LR_preds_w, {evaluator_mc.metricName: \"weightedPrecision\"})\n",
    "lr_weighted_TPR_w = evaluator_mc.evaluate(LR_preds_w, {evaluator_mc.metricName: \"weightedTruePositiveRate\"})\n",
    "lr_weighted_FPR_w = evaluator_mc.evaluate(LR_preds_w, {evaluator_mc.metricName: \"weightedFalsePositiveRate\"})"
   ]
  },
  {
   "cell_type": "markdown",
   "id": "7a337ac6",
   "metadata": {},
   "source": [
    "Let's refresh the definition of the different metrics:\n",
    "\n",
    "    1)The F-measure is calculated as the harmonic mean of precision and recall, giving each the same weighting. It allows a model to be evaluated taking both the precision and recall into account using a single score, which is helpful when describing the performance of the model and in comparing models.\n",
    "    2) Accuracy = Number of correct predictions of the total number of predictions\n",
    "    3) Recall = the number of correct positive predictions made out of all positive predictions that could have been made\n",
    "    4)  Precision = to the number of true positives divided by the total number of positive predictions \n",
    "    5) Weighted true positive rate = gives the weighted mean of class TPR with weights equal to class probability. TPR is the probability that an actual positive will test positive.\n",
    "    6) The Weighted False Positive Rate gives the weighted mean of class False Positive Rate (FPR) with weights equal to class probability. The FPR is the proportion of negative cases incorrectly identified as positive cases in the data.\n",
    "    \n",
    "For more inforamtion: https://spark.apache.org/docs/2.2.0/mllib-evaluation-metrics.html"
   ]
  },
  {
   "cell_type": "code",
   "execution_count": 180,
   "id": "722d5a24",
   "metadata": {},
   "outputs": [
    {
     "name": "stdout",
     "output_type": "stream",
     "text": [
      "LOGISTIC REGRESSION with weights:\n",
      "  F1       : 0.622934\n",
      "  ACCURACY : 0.539135\n",
      "  RECALL   : 0.548065\n",
      "  PRECISION   : 0.820205\n",
      "  WEIGHTED_TPR   : 0.54069\n",
      "  WEIGHTED_FPR   : 0.233962\n",
      "LOGISTIC REGRESSION without weights:\n",
      "  F1       : 0.787038\n",
      "  ACCURACY : 0.84824\n",
      "  RECALL   : 0.856865\n",
      "  PRECISION   : 0.719512\n",
      "  WEIGHTED_TPR   : 0.852684\n",
      "  WEIGHTED_FPR   : 0.858206\n"
     ]
    }
   ],
   "source": [
    "# check which of both algorithms is the best:\n",
    "print(\"LOGISTIC REGRESSION with weights:\")\n",
    "print('  F1       : %g' % lr_f1)\n",
    "print('  ACCURACY : %g' % lr_accuracy)\n",
    "print('  RECALL   : %g' % lr_recall)\n",
    "print('  PRECISION   : %g' % lr_precision)\n",
    "print('  WEIGHTED_TPR   : %g' % lr_weighted_TPR)\n",
    "print('  WEIGHTED_FPR   : %g' % lr_weighted_FPR)\n",
    "\n",
    "print(\"LOGISTIC REGRESSION without weights:\")\n",
    "print('  F1       : %g' % lr_f1_w)\n",
    "print('  ACCURACY : %g' % lr_accuracy_w)\n",
    "print('  RECALL   : %g' % lr_recall_w)\n",
    "print('  PRECISION   : %g' % lr_precision_w)\n",
    "print('  WEIGHTED_TPR   : %g' % lr_weighted_TPR_w)\n",
    "print('  WEIGHTED_FPR   : %g' % lr_weighted_FPR_w)"
   ]
  },
  {
   "cell_type": "markdown",
   "id": "b6892d24",
   "metadata": {},
   "source": [
    "The model without weights seems to perform better. However, as this a multiclass classification problem, it is important to look at the weighted scores as well. There we see that the weighted false positive rate is very high for the model without weights. When we looked at its predictions, it became clear that all its predictions had label zero. Therefore, we see the model with weights as the optimal model."
   ]
  },
  {
   "cell_type": "markdown",
   "id": "bf766de1",
   "metadata": {},
   "source": [
    "## 5.4 Train random forest"
   ]
  },
  {
   "cell_type": "markdown",
   "id": "e3e33730",
   "metadata": {},
   "source": [
    "Again, we first perform cross validation with 1% of the data. Then, we use the optimal parameters to train the model on all 5% of the data."
   ]
  },
  {
   "cell_type": "code",
   "execution_count": 64,
   "id": "e5d8066c",
   "metadata": {},
   "outputs": [],
   "source": [
    "# first define the pipeline for the random forest without fitting the data\n",
    "#RF_pipeline = Pipeline().setStages([IDX, num_VA,SI_media, SI_hour, SI_week_day, SI_month,\n",
    "#                                    SI_day_month, cat_VA_RF, indexer, VA_all_RF, RF])"
   ]
  },
  {
   "cell_type": "code",
   "execution_count": 68,
   "id": "ac04d570",
   "metadata": {},
   "outputs": [],
   "source": [
    "# define the parameter space\n",
    "#rfparamGrid = (ParamGridBuilder().addGrid(RF.maxDepth, [5, 15, 30])\n",
    "#                                   .build())"
   ]
  },
  {
   "cell_type": "code",
   "execution_count": 69,
   "id": "434e50d3",
   "metadata": {},
   "outputs": [],
   "source": [
    "# perform 5-fold cross validation\n",
    "#rfcv_model = CrossValidator(estimator=RF_pipeline, \n",
    "#                          estimatorParamMaps=rfparamGrid, \n",
    "#                          evaluator=evaluator_mc,\n",
    "#                          numFolds=5)"
   ]
  },
  {
   "cell_type": "code",
   "execution_count": 70,
   "id": "a05249cd",
   "metadata": {},
   "outputs": [],
   "source": [
    "# run cross validation on trainig set\n",
    "#rfcv_model = rfcv_model.fit(train)"
   ]
  },
  {
   "cell_type": "code",
   "execution_count": 72,
   "id": "adae8633",
   "metadata": {},
   "outputs": [
    {
     "name": "stdout",
     "output_type": "stream",
     "text": [
      "best max depth: 15\n",
      "best max bins: 32\n",
      "best num trees: 20\n"
     ]
    }
   ],
   "source": [
    "# inspect best params\n",
    "#print(\"best max depth: %s\" %rfcv_model.bestModel.stages[-1]._java_obj.getMaxDepth())\n",
    "#print(\"best max bins: %s\" %rfcv_model.bestModel.stages[-1]._java_obj.getMaxBins())\n",
    "#print(\"best num trees: %s\" %rfcv_model.bestModel.stages[-1]._java_obj.getNumTrees())"
   ]
  },
  {
   "cell_type": "code",
   "execution_count": 73,
   "id": "3f1ae9e3",
   "metadata": {},
   "outputs": [],
   "source": [
    "# get predictions of best model of on test set (cv_model automatically uses best model)\n",
    "#rfcv_preds = rfcv_model.transform(test)"
   ]
  },
  {
   "cell_type": "markdown",
   "id": "e6d60012",
   "metadata": {},
   "source": [
    "#### Do the cross validation for the model without weights"
   ]
  },
  {
   "cell_type": "code",
   "execution_count": 74,
   "id": "b52998a4",
   "metadata": {},
   "outputs": [],
   "source": [
    "# first define the pipeline for the random forest without fitting the data\n",
    "#RF_pipeline_w = Pipeline().setStages([IDX, num_VA,SI_media, SI_hour, SI_week_day, SI_month,\n",
    "#                                    SI_day_month, cat_VA_RF, indexer, VA_all_RF, RF_without])"
   ]
  },
  {
   "cell_type": "code",
   "execution_count": 75,
   "id": "2196f23e",
   "metadata": {},
   "outputs": [],
   "source": [
    "# define the parameter space\n",
    "#rfparamGrid = (ParamGridBuilder().addGrid(RF.maxDepth, [5, 15, 30])\n",
    "#                                   .build())"
   ]
  },
  {
   "cell_type": "code",
   "execution_count": 76,
   "id": "dae2e8d2",
   "metadata": {},
   "outputs": [],
   "source": [
    "# perform 5-fold cross validation\n",
    "#rfcv_model_w = CrossValidator(estimator=RF_pipeline_w, \n",
    "#                          estimatorParamMaps=rfparamGrid, \n",
    "#                          evaluator=evaluator_mc,\n",
    "#                          numFolds=5)"
   ]
  },
  {
   "cell_type": "code",
   "execution_count": 77,
   "id": "777fb776",
   "metadata": {},
   "outputs": [],
   "source": [
    "# run cross validation on trainig set\n",
    "#rfcv_model_w = rfcv_model_w.fit(train)"
   ]
  },
  {
   "cell_type": "code",
   "execution_count": 78,
   "id": "112636df",
   "metadata": {},
   "outputs": [
    {
     "name": "stdout",
     "output_type": "stream",
     "text": [
      "best max depth: 5\n",
      "best max bins: 32\n",
      "best num trees: 20\n"
     ]
    }
   ],
   "source": [
    "# inspect best params\n",
    "#print(\"best max depth: %s\" %rfcv_model_w.bestModel.stages[-1]._java_obj.getMaxDepth())\n",
    "#print(\"best max bins: %s\" %rfcv_model_w.bestModel.stages[-1]._java_obj.getMaxBins())\n",
    "#print(\"best num trees: %s\" %rfcv_model_w.bestModel.stages[-1]._java_obj.getNumTrees())"
   ]
  },
  {
   "cell_type": "markdown",
   "id": "ca7f95b9",
   "metadata": {},
   "source": [
    "#### Train the random forest model with optimal parameters on 5% of the data."
   ]
  },
  {
   "cell_type": "code",
   "execution_count": 62,
   "id": "c640fed3",
   "metadata": {},
   "outputs": [],
   "source": [
    "# define pipeline model and fit on training data\n",
    "RF_pipeline = Pipeline().setStages([IDX, num_VA,SI_media, SI_hour, SI_week_day, SI_month,\n",
    "                                    SI_day_month, cat_VA_RF, indexer, VA_all_RF, RF])\\\n",
    "                        .fit(train)\n",
    "\n",
    "RF_pipeline_w = Pipeline().setStages([IDX, num_VA,SI_media, SI_hour, SI_week_day, SI_month,\n",
    "                                    SI_day_month, cat_VA_RF, indexer, VA_all_RF, RF_without])\\\n",
    "                        .fit(train)"
   ]
  },
  {
   "cell_type": "code",
   "execution_count": 63,
   "id": "42c5b8a4",
   "metadata": {},
   "outputs": [],
   "source": [
    "# get predictions on test set\n",
    "rf_preds = RF_pipeline.transform(test)\n",
    "rf_preds_w = RF_pipeline_w.transform(test)"
   ]
  },
  {
   "cell_type": "markdown",
   "id": "2ca6a83a",
   "metadata": {},
   "source": [
    "#### Evaluate"
   ]
  },
  {
   "cell_type": "code",
   "execution_count": 64,
   "id": "148dc5d7",
   "metadata": {},
   "outputs": [],
   "source": [
    "# get metrics for RF model\n",
    "rf_f1 = evaluator_mc.evaluate(rf_preds, {evaluator_mc.metricName: \"f1\"})\n",
    "rf_accuracy = evaluator_mc.evaluate(rf_preds, {evaluator_mc.metricName: \"accuracy\"})\n",
    "rf_recall = evaluator_mc.evaluate(rf_preds, {evaluator_mc.metricName: \"weightedRecall\"})\n",
    "rf_precision = evaluator_mc.evaluate(rf_preds, {evaluator_mc.metricName: \"weightedPrecision\"})\n",
    "rf_weighted_TPR = evaluator_mc.evaluate(rf_preds, {evaluator_mc.metricName: \"weightedTruePositiveRate\"})\n",
    "rf_weighted_FPR = evaluator_mc.evaluate(rf_preds, {evaluator_mc.metricName: \"weightedFalsePositiveRate\"})"
   ]
  },
  {
   "cell_type": "code",
   "execution_count": 65,
   "id": "d838c9a2",
   "metadata": {},
   "outputs": [],
   "source": [
    "# get metrics for RF model without weights\n",
    "rf_f1_w = evaluator_mc.evaluate(rf_preds_w, {evaluator_mc.metricName: \"f1\"})\n",
    "rf_accuracy_w = evaluator_mc.evaluate(rf_preds_w, {evaluator_mc.metricName: \"accuracy\"})\n",
    "rf_recall_w = evaluator_mc.evaluate(rf_preds_w, {evaluator_mc.metricName: \"weightedRecall\"})\n",
    "rf_precision_w = evaluator_mc.evaluate(rf_preds_w, {evaluator_mc.metricName: \"weightedPrecision\"})\n",
    "rf_weighted_TPR_w = evaluator_mc.evaluate(rf_preds_w, {evaluator_mc.metricName: \"weightedTruePositiveRate\"})\n",
    "rf_weighted_FPR_w = evaluator_mc.evaluate(rf_preds_w, {evaluator_mc.metricName: \"weightedFalsePositiveRate\"})"
   ]
  },
  {
   "cell_type": "code",
   "execution_count": 181,
   "id": "0d0abe33",
   "metadata": {},
   "outputs": [
    {
     "name": "stdout",
     "output_type": "stream",
     "text": [
      "Random Forest with weights:\n",
      "  F1       : 0.79665\n",
      "  ACCURACY : 0.826123\n",
      "  RECALL   : 0.838795\n",
      "  PRECISION   : 0.780064\n",
      "  WEIGHTED_TPR   : 0.838696\n",
      "  WEIGHTED_FPR   : 0.72364\n",
      "Random Forest without weights:\n",
      "  F1       : 0.79665\n",
      "  ACCURACY : 0.826123\n",
      "  RECALL   : 0.838795\n",
      "  PRECISION   : 0.780064\n",
      "  WEIGHTED_TPR   : 0.838696\n",
      "  WEIGHTED_FPR   : 0.72364\n"
     ]
    }
   ],
   "source": [
    "# check which of both algorithms is the best:\n",
    "print(\"Random Forest with weights:\")\n",
    "print('  F1       : %g' % rf_f1)\n",
    "print('  ACCURACY : %g' % rf_accuracy)\n",
    "print('  RECALL   : %g' % rf_recall)\n",
    "print('  PRECISION   : %g' % rf_precision)\n",
    "print('  WEIGHTED_TPR   : %g' % rf_weighted_TPR)\n",
    "print('  WEIGHTED_FPR   : %g' % rf_weighted_FPR)\n",
    "\n",
    "# check which of both algorithms is the best:\n",
    "print(\"Random Forest without weights:\")\n",
    "print('  F1       : %g' % rf_f1)\n",
    "print('  ACCURACY : %g' % rf_accuracy)\n",
    "print('  RECALL   : %g' % rf_recall)\n",
    "print('  PRECISION   : %g' % rf_precision)\n",
    "print('  WEIGHTED_TPR   : %g' % rf_weighted_TPR)\n",
    "print('  WEIGHTED_FPR   : %g' % rf_weighted_FPR)"
   ]
  },
  {
   "cell_type": "markdown",
   "id": "d0550db5",
   "metadata": {},
   "source": [
    "Again, the model without weights seems to perform better. However, as this a multiclass classification problem, it is important to look at the weighted scores as well. There we see that the weighted false positive rate is very high for the model without weights. When we looked at its predictions, it became clear that all its predictions had label zero. Therefore, we see the model with weights as the optimal model."
   ]
  },
  {
   "cell_type": "markdown",
   "id": "1d9de8d6",
   "metadata": {},
   "source": [
    "# 6. Interpretation models"
   ]
  },
  {
   "cell_type": "markdown",
   "id": "e16bce41",
   "metadata": {},
   "source": [
    "## 6.1 Interpretation logistic regression"
   ]
  },
  {
   "cell_type": "code",
   "execution_count": 97,
   "id": "187ea5c2",
   "metadata": {},
   "outputs": [
    {
     "data": {
      "text/plain": [
       "DenseMatrix(3, 89, [0.2189, -0.0031, -0.0025, -0.01, -0.0006, 0.0112, 0.0005, 0.1423, ..., 0.0303, -0.0076, 0.0989, -0.2213, 0.1952, 0.0244, 0.0437, 0.0474], 1)"
      ]
     },
     "execution_count": 97,
     "metadata": {},
     "output_type": "execute_result"
    }
   ],
   "source": [
    "# get the coefficients of logistic regression model\n",
    "lr_model = LR_pipeline.stages[-1]\n",
    "lr_model.coefficientMatrix"
   ]
  },
  {
   "cell_type": "code",
   "execution_count": 80,
   "id": "676d0b3c",
   "metadata": {},
   "outputs": [
    {
     "name": "stdout",
     "output_type": "stream",
     "text": [
      "+-----+--------------------+\n",
      "|label|            features|\n",
      "+-----+--------------------+\n",
      "|  0.0|(89,[0,3,7,8,9,21...|\n",
      "|  2.0|(89,[0,3,7,8,9,32...|\n",
      "|  0.0|(89,[0,2,3,7,8,9,...|\n",
      "|  0.0|(89,[0,2,3,7,8,9,...|\n",
      "|  0.0|(89,[0,1,3,7,8,9,...|\n",
      "+-----+--------------------+\n",
      "only showing top 5 rows\n",
      "\n"
     ]
    }
   ],
   "source": [
    "# transform training set so it is one feature\n",
    "train_final = LR_pipeline.transform(train).select([\"label\", \"features\"])\n",
    "train_final.show(5)"
   ]
  },
  {
   "cell_type": "markdown",
   "id": "436e422e",
   "metadata": {},
   "source": [
    "#### let's get a better overview by including the feature names:"
   ]
  },
  {
   "cell_type": "code",
   "execution_count": 95,
   "id": "78820f3d",
   "metadata": {},
   "outputs": [],
   "source": [
    "# get coefficients and intercept\n",
    "lr_model_coef = lr_model.coefficientMatrix\n",
    "\n",
    "# get feature names and sort in correct order\n",
    "names = [x[\"name\"] for x in sorted(train_final.schema[\"features\"].metadata[\"ml_attr\"][\"attrs\"][\"numeric\"]+\n",
    "                                   train_final.schema[\"features\"].metadata[\"ml_attr\"][\"attrs\"][\"binary\"], \n",
    "                                   key = lambda x: x[\"idx\"])]\n",
    "\n"
   ]
  },
  {
   "cell_type": "markdown",
   "id": "2c1d8d31",
   "metadata": {},
   "source": [
    "#### look at the coefficients of the different engagement classes"
   ]
  },
  {
   "cell_type": "code",
   "execution_count": 82,
   "id": "c97d3967",
   "metadata": {},
   "outputs": [
    {
     "name": "stderr",
     "output_type": "stream",
     "text": [
      "/Users/Artur/spark/python/pyspark/sql/pandas/conversion.py:474: FutureWarning: iteritems is deprecated and will be removed in a future version. Use .items instead.\n",
      "  for column, series in pdf.iteritems():\n",
      "/Users/Artur/spark/python/pyspark/sql/pandas/conversion.py:486: FutureWarning: iteritems is deprecated and will be removed in a future version. Use .items instead.\n",
      "  for column, series in pdf.iteritems():\n",
      "/Users/Artur/spark/python/pyspark/sql/pandas/conversion.py:474: FutureWarning: iteritems is deprecated and will be removed in a future version. Use .items instead.\n",
      "  for column, series in pdf.iteritems():\n",
      "/Users/Artur/spark/python/pyspark/sql/pandas/conversion.py:486: FutureWarning: iteritems is deprecated and will be removed in a future version. Use .items instead.\n",
      "  for column, series in pdf.iteritems():\n",
      "/Users/Artur/spark/python/pyspark/sql/pandas/conversion.py:474: FutureWarning: iteritems is deprecated and will be removed in a future version. Use .items instead.\n",
      "  for column, series in pdf.iteritems():\n",
      "/Users/Artur/spark/python/pyspark/sql/pandas/conversion.py:486: FutureWarning: iteritems is deprecated and will be removed in a future version. Use .items instead.\n",
      "  for column, series in pdf.iteritems():\n"
     ]
    },
    {
     "name": "stdout",
     "output_type": "stream",
     "text": [
      "+---------------------------------------+---------------------+---------------------+--------------------+\n",
      "|Feature                                |Coefvalue_class_0    |Coefvalue_class_1    |Coefvalue_class_2   |\n",
      "+---------------------------------------+---------------------+---------------------+--------------------+\n",
      "|cat_features_verified_OHE_0            |-0.42672178978958214 |0.2315508580459622   |0.1951709317436205  |\n",
      "|cat_features_quoted_ind_OHE_0          |-0.00845537672007727 |-0.09048402439953794 |0.09893940111961476 |\n",
      "|cat_features_day_month_index_OHE_17    |-0.03153965020331971 |-0.05353250216288034 |0.08507215236620004 |\n",
      "|cat_features_day_month_index_OHE_15    |0.0032756317049088828|-0.08238211509543157 |0.07910648339052272 |\n",
      "|cat_features_media_type_index_OHE_video|-0.040136506179589145|-0.03821548370180621 |0.07835198988139538 |\n",
      "|cat_features_day_month_index_OHE_13    |-0.008216816490115563|-0.049038149044345815|0.057254965534461404|\n",
      "|cat_features_day_month_index_OHE_23    |0.004337456335799106 |-0.061071298686690444|0.05673384235089134 |\n",
      "|cat_features_day_month_index_OHE_1     |0.006146450655558484 |-0.05855713647109144 |0.052410685815532966|\n",
      "|sentiment                              |-0.05737200701348562 |0.01000923729822799  |0.04736276971525765 |\n",
      "|cat_features_hour_index_OHE_7          |-0.028786001317671693|-0.0176545815381141  |0.04644058285578583 |\n",
      "+---------------------------------------+---------------------+---------------------+--------------------+\n",
      "only showing top 10 rows\n",
      "\n",
      "+------------------------------------------+---------------------+---------------------+---------------------+\n",
      "|Feature                                   |Coefvalue_class_0    |Coefvalue_class_1    |Coefvalue_class_2    |\n",
      "+------------------------------------------+---------------------+---------------------+---------------------+\n",
      "|cat_features_symbol_ind_OHE_0             |0.018163849376677137 |0.20315676174675049  |-0.22132061112343365 |\n",
      "|num_features_scaled_0                     |0.21893131811186922  |-0.07389076709476614 |-0.14504055101710314 |\n",
      "|num_features_scaled_7                     |0.14229672200470173  |-0.022279231671355208|-0.12001749033334655 |\n",
      "|cat_features_day_month_index_OHE_6        |0.036024875871627456 |0.05661534155052849  |-0.09264021742215592 |\n",
      "|cat_features_day_month_index_OHE_4        |-0.044698943898271254|0.11045424772999039  |-0.06575530383171913 |\n",
      "|cat_features_hour_index_OHE_1             |0.007768756020498764 |0.05309877031656413  |-0.06086752633706288 |\n",
      "|cat_features_day_month_index_OHE_9        |-0.01236441337162952 |0.06771125078322807  |-0.055346837411598515|\n",
      "|cat_features_hour_index_OHE_10            |0.028058668600232733 |0.020143892489595513 |-0.04820256108982826 |\n",
      "|cat_features_hour_index_OHE_12            |-0.007419555674138468|0.053780576862951394 |-0.04636102118881294 |\n",
      "|cat_features_media_type_index_OHE_no_media|0.034687040661724275 |0.009711306110822139 |-0.04439834677254641 |\n",
      "+------------------------------------------+---------------------+---------------------+---------------------+\n",
      "only showing top 10 rows\n",
      "\n"
     ]
    }
   ],
   "source": [
    "# create 2D numpy array for different classes\n",
    "lr_coefs_class_0 = np.column_stack((np.array(names), lr_model_coef.toArray()[0]))\n",
    "lr_coefs_class_1 = np.column_stack((np.array(names), lr_model_coef.toArray()[1]))\n",
    "lr_coefs_class_2 = np.column_stack((np.array(names), lr_model_coef.toArray()[2]))\n",
    "\n",
    "# convert to spark dataframe for each class\n",
    "# for class 0\n",
    "coefs_df_0 = pd.DataFrame(lr_coefs_class_0)\n",
    "coefs_df_0.columns=['Feature', 'Coefvalue_class_0']\n",
    "coefs_df_0 = spark.createDataFrame(coefs_df_0)\n",
    "coefs_df_0 = coefs_df_0.withColumn(\"Coefvalue_class_0\", F.col(\"Coefvalue_class_0\").cast('double'))\n",
    "\n",
    "# for class 1\n",
    "coefs_df_1 = pd.DataFrame(lr_coefs_class_1)\n",
    "coefs_df_1.columns=['Feature', 'Coefvalue_class_1']\n",
    "coefs_df_1 = spark.createDataFrame(coefs_df_1)\n",
    "coefs_df_1 = coefs_df_1.withColumn(\"Coefvalue_class_1\", F.col(\"Coefvalue_class_1\").cast('double'))\n",
    "\n",
    "# for class 2\n",
    "coefs_df_2 = pd.DataFrame(lr_coefs_class_2)\n",
    "coefs_df_2.columns=['Feature', 'Coefvalue_class_2']\n",
    "coefs_df_2 = spark.createDataFrame(coefs_df_2)\n",
    "coefs_df_2 = coefs_df_2.withColumn(\"Coefvalue_class_2\", F.col(\"Coefvalue_class_2\").cast('double'))\n",
    "\n",
    "# join the 3 dataframes\n",
    "coefs_df = coefs_df_0.join(coefs_df_1, on = \"Feature\", how=\"inner\") \\\n",
    "                     .join(coefs_df_2, on = \"Feature\", how=\"inner\")\n",
    "\n",
    "# show highest values\n",
    "coefs_df.sort('Coefvalue_class_2', ascending = False).show(10, truncate=False)\n",
    "\n",
    "# show lowest values\n",
    "coefs_df.sort('Coefvalue_class_2', ascending = True).show(10, truncate=False)"
   ]
  },
  {
   "cell_type": "markdown",
   "id": "6189e975",
   "metadata": {},
   "source": [
    "## 6.2 Interpretation Random Forest"
   ]
  },
  {
   "cell_type": "code",
   "execution_count": 76,
   "id": "1ee67276",
   "metadata": {},
   "outputs": [
    {
     "name": "stdout",
     "output_type": "stream",
     "text": [
      "+----------+-----+\n",
      "|prediction|label|\n",
      "+----------+-----+\n",
      "|       0.0|  1.0|\n",
      "|       1.0|  0.0|\n",
      "|       0.0|  0.0|\n",
      "|       0.0|  0.0|\n",
      "|       0.0|  0.0|\n",
      "+----------+-----+\n",
      "only showing top 5 rows\n",
      "\n"
     ]
    }
   ],
   "source": [
    "# inspect the data\n",
    "preds_and_labels = rf_preds.select(['prediction','label'])\n",
    "preds_and_labels.show(5)"
   ]
  },
  {
   "cell_type": "code",
   "execution_count": 78,
   "id": "6f03ace5",
   "metadata": {},
   "outputs": [
    {
     "data": {
      "text/plain": [
       "<sklearn.metrics._plot.confusion_matrix.ConfusionMatrixDisplay at 0x7ff6f99939a0>"
      ]
     },
     "execution_count": 78,
     "metadata": {},
     "output_type": "execute_result"
    },
    {
     "data": {
      "image/png": "[encoded data removed]",
      "text/plain": [
       "<Figure size 432x288 with 2 Axes>"
      ]
     },
     "metadata": {
      "needs_background": "light"
     },
     "output_type": "display_data"
    }
   ],
   "source": [
    "# get predictions and labels\n",
    "preds_and_labels = rf_preds.select(['prediction','label']) \\\n",
    "                                  .withColumn('label', F.col('label').cast(FloatType())) \\\n",
    "                                  .orderBy('prediction') \\\n",
    "                                  .toPandas()\n",
    "\n",
    "# get confusion matrix\n",
    "cm = confusion_matrix(preds_and_labels[\"label\"], preds_and_labels[\"prediction\"], labels=[0, 1, 2])\n",
    "# get confusion matrix figure\n",
    "disp = ConfusionMatrixDisplay(confusion_matrix=cm, display_labels=[0, 1, 2])\n",
    "# plot figure\n",
    "disp.plot()"
   ]
  },
  {
   "cell_type": "markdown",
   "id": "eb74c557",
   "metadata": {},
   "source": [
    "## 6.2 Variable importance"
   ]
  },
  {
   "cell_type": "code",
   "execution_count": 98,
   "id": "4b2d3480",
   "metadata": {},
   "outputs": [
    {
     "data": {
      "text/plain": [
       "array([1.83145657e-01, 2.04039580e-02, 2.42261855e-02, 5.53349865e-02,\n",
       "       8.08610880e-05, 3.53873584e-04, 1.14757774e-03, 1.18566482e-01,\n",
       "       1.25349802e-02, 5.68376008e-02, 1.41289434e-02, 1.26395170e-01,\n",
       "       4.71912361e-02, 7.27909387e-02, 1.12933169e-01, 4.27104999e-03,\n",
       "       1.39924689e-03, 3.96906234e-03, 4.76556922e-02, 5.02598622e-02,\n",
       "       4.63734669e-02])"
      ]
     },
     "execution_count": 98,
     "metadata": {},
     "output_type": "execute_result"
    }
   ],
   "source": [
    "import matplotlib.pyplot as plt \n",
    "# inspect feature importance\n",
    "feature_importance = RF_pipeline.stages[-1].featureImportances.toArray()\n",
    "#feature_importance\n",
    "feature_importance"
   ]
  },
  {
   "cell_type": "code",
   "execution_count": 85,
   "id": "d5d019dc",
   "metadata": {},
   "outputs": [
    {
     "name": "stdout",
     "output_type": "stream",
     "text": [
      "+-----+--------------------+\n",
      "|label|          featuresrf|\n",
      "+-----+--------------------+\n",
      "|  0.0|[9.0,0.0,0.0,9.0,...|\n",
      "|  2.0|[10.0,0.0,0.0,22....|\n",
      "|  0.0|[27.0,0.0,3.0,29....|\n",
      "|  0.0|[46.0,0.0,1.0,3.0...|\n",
      "|  0.0|[146.0,2.0,0.0,10...|\n",
      "+-----+--------------------+\n",
      "only showing top 5 rows\n",
      "\n"
     ]
    }
   ],
   "source": [
    "# transform training set\n",
    "train_final_rf = RF_pipeline.transform(train).select([\"label\", \"featuresrf\"])\n",
    "train_final_rf.show(5)"
   ]
  },
  {
   "cell_type": "code",
   "execution_count": 103,
   "id": "b0df5230",
   "metadata": {},
   "outputs": [],
   "source": [
    "# get coefficients and intercept\n",
    "feature_importance = RF_pipeline.stages[-1].featureImportances.toArray()\n",
    "\n",
    "# get feature names and sort in correct order\n",
    "names_rf = [x[\"name\"] for x in sorted(train_final_rf.schema[\"featuresrf\"].metadata[\"ml_attr\"][\"attrs\"][\"numeric\"]+\n",
    "                                      train_final_rf.schema[\"featuresrf\"].metadata[\"ml_attr\"][\"attrs\"][\"nominal\"]+\n",
    "                                   train_final_rf.schema[\"featuresrf\"].metadata[\"ml_attr\"][\"attrs\"][\"binary\"], \n",
    "                                   key = lambda x: x[\"idx\"])]"
   ]
  },
  {
   "cell_type": "code",
   "execution_count": 109,
   "id": "7436d7d8",
   "metadata": {},
   "outputs": [
    {
     "name": "stdout",
     "output_type": "stream",
     "text": [
      "+----------------------------+--------------------+\n",
      "|Feature                     |Importance          |\n",
      "+----------------------------+--------------------+\n",
      "|num_features_user_following |0.18314565650495734 |\n",
      "|cat_features_hour_index     |0.12639516996614958 |\n",
      "|num_features_user_age_days  |0.11856648197254649 |\n",
      "|cat_features_day_month_index|0.11293316940276588 |\n",
      "|cat_features_month_index    |0.07279093868138792 |\n",
      "|num_features_nr_text_char   |0.056837600841550935|\n",
      "|num_features_num_words      |0.055334986524422224|\n",
      "|subjectivity                |0.050259862182782805|\n",
      "|polarity                    |0.04765569215205892 |\n",
      "|cat_features_week_day_index |0.04719123609555284 |\n",
      "+----------------------------+--------------------+\n",
      "only showing top 10 rows\n",
      "\n"
     ]
    },
    {
     "name": "stderr",
     "output_type": "stream",
     "text": [
      "/Users/Artur/spark/python/pyspark/sql/pandas/conversion.py:474: FutureWarning: iteritems is deprecated and will be removed in a future version. Use .items instead.\n",
      "  for column, series in pdf.iteritems():\n",
      "/Users/Artur/spark/python/pyspark/sql/pandas/conversion.py:486: FutureWarning: iteritems is deprecated and will be removed in a future version. Use .items instead.\n",
      "  for column, series in pdf.iteritems():\n"
     ]
    }
   ],
   "source": [
    "# create 2D numpy array\n",
    "var_imp = np.column_stack((np.array(names_rf), feature_importance))\n",
    "\n",
    "var_imp = pd.DataFrame(var_imp)\n",
    "var_imp.columns=['Feature', 'Importance']\n",
    "var_imp = spark.createDataFrame(var_imp)\n",
    "var_imp = var_imp.withColumn(\"Importance\", F.col(\"Importance\").cast('double'))\n",
    "\n",
    "\n",
    "# show highest values\n",
    "var_imp.sort('Importance', ascending = False).show(10, truncate=False)\n",
    "\n",
    "# show lowest values\n",
    "#var_imp.sort('Importance', ascending = True).show(5, truncate=False)"
   ]
  },
  {
   "cell_type": "code",
   "execution_count": 178,
   "id": "66e9f2cf",
   "metadata": {},
   "outputs": [],
   "source": [
    "# create a pandas frame to plot the variable importance\n",
    "var_imp_pd = var_imp.toPandas().sort_values('Importance', ascending = False)"
   ]
  },
  {
   "cell_type": "code",
   "execution_count": 179,
   "id": "b588b01f",
   "metadata": {},
   "outputs": [
    {
     "data": {
      "application/vnd.plotly.v1+json": {
       "config": {
        "plotlyServerURL": "https://plot.ly"
       },
       "data": [
        {
         "alignmentgroup": "True",
         "hovertemplate": "Feature=%{x}<br>Importance=%{y}<extra></extra>",
         "legendgroup": "",
         "marker": {
          "color": "#636efa",
          "pattern": {
           "shape": ""
          }
         },
         "name": "",
         "offsetgroup": "",
         "orientation": "v",
         "showlegend": false,
         "textposition": "auto",
         "type": "bar",
         "x": [
          "num_features_user_following",
          "cat_features_hour_index",
          "num_features_user_age_days",
          "cat_features_day_month_index",
          "cat_features_month_index",
          "num_features_nr_text_char",
          "num_features_num_words",
          "subjectivity",
          "polarity",
          "cat_features_week_day_index",
          "sentiment",
          "num_features_upper_case_words",
          "num_features_num_emojis",
          "cat_features_media_type_index",
          "num_features_nr_media_elements",
          "cat_features_quoted_ind",
          "cat_features_verified",
          "cat_features_symbol_ind",
          "num_features_nr_exlcamations",
          "num_features_num_mentions",
          "num_features_num_hashtags"
         ],
         "xaxis": "x",
         "y": [
          0.18314565650495734,
          0.12639516996614958,
          0.11856648197254649,
          0.11293316940276588,
          0.07279093868138792,
          0.056837600841550935,
          0.055334986524422224,
          0.050259862182782805,
          0.04765569215205892,
          0.04719123609555284,
          0.046373466879771716,
          0.02422618553539084,
          0.020403958047966356,
          0.014128943368340316,
          0.012534980212055083,
          0.004271049986338854,
          0.0039690623353833615,
          0.001399246894121559,
          0.001147577744803114,
          0.0003538735836391913,
          8.0861088014885e-05
         ],
         "yaxis": "y"
        }
       ],
       "layout": {
        "barmode": "relative",
        "legend": {
         "tracegroupgap": 0
        },
        "margin": {
         "t": 60
        },
        "template": {
         "data": {
          "bar": [
           {
            "error_x": {
             "color": "#2a3f5f"
            },
            "error_y": {
             "color": "#2a3f5f"
            },
            "marker": {
             "line": {
              "color": "#E5ECF6",
              "width": 0.5
             },
             "pattern": {
              "fillmode": "overlay",
              "size": 10,
              "solidity": 0.2
             }
            },
            "type": "bar"
           }
          ],
          "barpolar": [
           {
            "marker": {
             "line": {
              "color": "#E5ECF6",
              "width": 0.5
             },
             "pattern": {
              "fillmode": "overlay",
              "size": 10,
              "solidity": 0.2
             }
            },
            "type": "barpolar"
           }
          ],
          "carpet": [
           {
            "aaxis": {
             "endlinecolor": "#2a3f5f",
             "gridcolor": "white",
             "linecolor": "white",
             "minorgridcolor": "white",
             "startlinecolor": "#2a3f5f"
            },
            "baxis": {
             "endlinecolor": "#2a3f5f",
             "gridcolor": "white",
             "linecolor": "white",
             "minorgridcolor": "white",
             "startlinecolor": "#2a3f5f"
            },
            "type": "carpet"
           }
          ],
          "choropleth": [
           {
            "colorbar": {
             "outlinewidth": 0,
             "ticks": ""
            },
            "type": "choropleth"
           }
          ],
          "contour": [
           {
            "colorbar": {
             "outlinewidth": 0,
             "ticks": ""
            },
            "colorscale": [
             [
              0,
              "#0d0887"
             ],
             [
              0.1111111111111111,
              "#46039f"
             ],
             [
              0.2222222222222222,
              "#7201a8"
             ],
             [
              0.3333333333333333,
              "#9c179e"
             ],
             [
              0.4444444444444444,
              "#bd3786"
             ],
             [
              0.5555555555555556,
              "#d8576b"
             ],
             [
              0.6666666666666666,
              "#ed7953"
             ],
             [
              0.7777777777777778,
              "#fb9f3a"
             ],
             [
              0.8888888888888888,
              "#fdca26"
             ],
             [
              1,
              "#f0f921"
             ]
            ],
            "type": "contour"
           }
          ],
          "contourcarpet": [
           {
            "colorbar": {
             "outlinewidth": 0,
             "ticks": ""
            },
            "type": "contourcarpet"
           }
          ],
          "heatmap": [
           {
            "colorbar": {
             "outlinewidth": 0,
             "ticks": ""
            },
            "colorscale": [
             [
              0,
              "#0d0887"
             ],
             [
              0.1111111111111111,
              "#46039f"
             ],
             [
              0.2222222222222222,
              "#7201a8"
             ],
             [
              0.3333333333333333,
              "#9c179e"
             ],
             [
              0.4444444444444444,
              "#bd3786"
             ],
             [
              0.5555555555555556,
              "#d8576b"
             ],
             [
              0.6666666666666666,
              "#ed7953"
             ],
             [
              0.7777777777777778,
              "#fb9f3a"
             ],
             [
              0.8888888888888888,
              "#fdca26"
             ],
             [
              1,
              "#f0f921"
             ]
            ],
            "type": "heatmap"
           }
          ],
          "heatmapgl": [
           {
            "colorbar": {
             "outlinewidth": 0,
             "ticks": ""
            },
            "colorscale": [
             [
              0,
              "#0d0887"
             ],
             [
              0.1111111111111111,
              "#46039f"
             ],
             [
              0.2222222222222222,
              "#7201a8"
             ],
             [
              0.3333333333333333,
              "#9c179e"
             ],
             [
              0.4444444444444444,
              "#bd3786"
             ],
             [
              0.5555555555555556,
              "#d8576b"
             ],
             [
              0.6666666666666666,
              "#ed7953"
             ],
             [
              0.7777777777777778,
              "#fb9f3a"
             ],
             [
              0.8888888888888888,
              "#fdca26"
             ],
             [
              1,
              "#f0f921"
             ]
            ],
            "type": "heatmapgl"
           }
          ],
          "histogram": [
           {
            "marker": {
             "pattern": {
              "fillmode": "overlay",
              "size": 10,
              "solidity": 0.2
             }
            },
            "type": "histogram"
           }
          ],
          "histogram2d": [
           {
            "colorbar": {
             "outlinewidth": 0,
             "ticks": ""
            },
            "colorscale": [
             [
              0,
              "#0d0887"
             ],
             [
              0.1111111111111111,
              "#46039f"
             ],
             [
              0.2222222222222222,
              "#7201a8"
             ],
             [
              0.3333333333333333,
              "#9c179e"
             ],
             [
              0.4444444444444444,
              "#bd3786"
             ],
             [
              0.5555555555555556,
              "#d8576b"
             ],
             [
              0.6666666666666666,
              "#ed7953"
             ],
             [
              0.7777777777777778,
              "#fb9f3a"
             ],
             [
              0.8888888888888888,
              "#fdca26"
             ],
             [
              1,
              "#f0f921"
             ]
            ],
            "type": "histogram2d"
           }
          ],
          "histogram2dcontour": [
           {
            "colorbar": {
             "outlinewidth": 0,
             "ticks": ""
            },
            "colorscale": [
             [
              0,
              "#0d0887"
             ],
             [
              0.1111111111111111,
              "#46039f"
             ],
             [
              0.2222222222222222,
              "#7201a8"
             ],
             [
              0.3333333333333333,
              "#9c179e"
             ],
             [
              0.4444444444444444,
              "#bd3786"
             ],
             [
              0.5555555555555556,
              "#d8576b"
             ],
             [
              0.6666666666666666,
              "#ed7953"
             ],
             [
              0.7777777777777778,
              "#fb9f3a"
             ],
             [
              0.8888888888888888,
              "#fdca26"
             ],
             [
              1,
              "#f0f921"
             ]
            ],
            "type": "histogram2dcontour"
           }
          ],
          "mesh3d": [
           {
            "colorbar": {
             "outlinewidth": 0,
             "ticks": ""
            },
            "type": "mesh3d"
           }
          ],
          "parcoords": [
           {
            "line": {
             "colorbar": {
              "outlinewidth": 0,
              "ticks": ""
             }
            },
            "type": "parcoords"
           }
          ],
          "pie": [
           {
            "automargin": true,
            "type": "pie"
           }
          ],
          "scatter": [
           {
            "fillpattern": {
             "fillmode": "overlay",
             "size": 10,
             "solidity": 0.2
            },
            "type": "scatter"
           }
          ],
          "scatter3d": [
           {
            "line": {
             "colorbar": {
              "outlinewidth": 0,
              "ticks": ""
             }
            },
            "marker": {
             "colorbar": {
              "outlinewidth": 0,
              "ticks": ""
             }
            },
            "type": "scatter3d"
           }
          ],
          "scattercarpet": [
           {
            "marker": {
             "colorbar": {
              "outlinewidth": 0,
              "ticks": ""
             }
            },
            "type": "scattercarpet"
           }
          ],
          "scattergeo": [
           {
            "marker": {
             "colorbar": {
              "outlinewidth": 0,
              "ticks": ""
             }
            },
            "type": "scattergeo"
           }
          ],
          "scattergl": [
           {
            "marker": {
             "colorbar": {
              "outlinewidth": 0,
              "ticks": ""
             }
            },
            "type": "scattergl"
           }
          ],
          "scattermapbox": [
           {
            "marker": {
             "colorbar": {
              "outlinewidth": 0,
              "ticks": ""
             }
            },
            "type": "scattermapbox"
           }
          ],
          "scatterpolar": [
           {
            "marker": {
             "colorbar": {
              "outlinewidth": 0,
              "ticks": ""
             }
            },
            "type": "scatterpolar"
           }
          ],
          "scatterpolargl": [
           {
            "marker": {
             "colorbar": {
              "outlinewidth": 0,
              "ticks": ""
             }
            },
            "type": "scatterpolargl"
           }
          ],
          "scatterternary": [
           {
            "marker": {
             "colorbar": {
              "outlinewidth": 0,
              "ticks": ""
             }
            },
            "type": "scatterternary"
           }
          ],
          "surface": [
           {
            "colorbar": {
             "outlinewidth": 0,
             "ticks": ""
            },
            "colorscale": [
             [
              0,
              "#0d0887"
             ],
             [
              0.1111111111111111,
              "#46039f"
             ],
             [
              0.2222222222222222,
              "#7201a8"
             ],
             [
              0.3333333333333333,
              "#9c179e"
             ],
             [
              0.4444444444444444,
              "#bd3786"
             ],
             [
              0.5555555555555556,
              "#d8576b"
             ],
             [
              0.6666666666666666,
              "#ed7953"
             ],
             [
              0.7777777777777778,
              "#fb9f3a"
             ],
             [
              0.8888888888888888,
              "#fdca26"
             ],
             [
              1,
              "#f0f921"
             ]
            ],
            "type": "surface"
           }
          ],
          "table": [
           {
            "cells": {
             "fill": {
              "color": "#EBF0F8"
             },
             "line": {
              "color": "white"
             }
            },
            "header": {
             "fill": {
              "color": "#C8D4E3"
             },
             "line": {
              "color": "white"
             }
            },
            "type": "table"
           }
          ]
         },
         "layout": {
          "annotationdefaults": {
           "arrowcolor": "#2a3f5f",
           "arrowhead": 0,
           "arrowwidth": 1
          },
          "autotypenumbers": "strict",
          "coloraxis": {
           "colorbar": {
            "outlinewidth": 0,
            "ticks": ""
           }
          },
          "colorscale": {
           "diverging": [
            [
             0,
             "#8e0152"
            ],
            [
             0.1,
             "#c51b7d"
            ],
            [
             0.2,
             "#de77ae"
            ],
            [
             0.3,
             "#f1b6da"
            ],
            [
             0.4,
             "#fde0ef"
            ],
            [
             0.5,
             "#f7f7f7"
            ],
            [
             0.6,
             "#e6f5d0"
            ],
            [
             0.7,
             "#b8e186"
            ],
            [
             0.8,
             "#7fbc41"
            ],
            [
             0.9,
             "#4d9221"
            ],
            [
             1,
             "#276419"
            ]
           ],
           "sequential": [
            [
             0,
             "#0d0887"
            ],
            [
             0.1111111111111111,
             "#46039f"
            ],
            [
             0.2222222222222222,
             "#7201a8"
            ],
            [
             0.3333333333333333,
             "#9c179e"
            ],
            [
             0.4444444444444444,
             "#bd3786"
            ],
            [
             0.5555555555555556,
             "#d8576b"
            ],
            [
             0.6666666666666666,
             "#ed7953"
            ],
            [
             0.7777777777777778,
             "#fb9f3a"
            ],
            [
             0.8888888888888888,
             "#fdca26"
            ],
            [
             1,
             "#f0f921"
            ]
           ],
           "sequentialminus": [
            [
             0,
             "#0d0887"
            ],
            [
             0.1111111111111111,
             "#46039f"
            ],
            [
             0.2222222222222222,
             "#7201a8"
            ],
            [
             0.3333333333333333,
             "#9c179e"
            ],
            [
             0.4444444444444444,
             "#bd3786"
            ],
            [
             0.5555555555555556,
             "#d8576b"
            ],
            [
             0.6666666666666666,
             "#ed7953"
            ],
            [
             0.7777777777777778,
             "#fb9f3a"
            ],
            [
             0.8888888888888888,
             "#fdca26"
            ],
            [
             1,
             "#f0f921"
            ]
           ]
          },
          "colorway": [
           "#636efa",
           "#EF553B",
           "#00cc96",
           "#ab63fa",
           "#FFA15A",
           "#19d3f3",
           "#FF6692",
           "#B6E880",
           "#FF97FF",
           "#FECB52"
          ],
          "font": {
           "color": "#2a3f5f"
          },
          "geo": {
           "bgcolor": "white",
           "lakecolor": "white",
           "landcolor": "#E5ECF6",
           "showlakes": true,
           "showland": true,
           "subunitcolor": "white"
          },
          "hoverlabel": {
           "align": "left"
          },
          "hovermode": "closest",
          "mapbox": {
           "style": "light"
          },
          "paper_bgcolor": "white",
          "plot_bgcolor": "#E5ECF6",
          "polar": {
           "angularaxis": {
            "gridcolor": "white",
            "linecolor": "white",
            "ticks": ""
           },
           "bgcolor": "#E5ECF6",
           "radialaxis": {
            "gridcolor": "white",
            "linecolor": "white",
            "ticks": ""
           }
          },
          "scene": {
           "xaxis": {
            "backgroundcolor": "#E5ECF6",
            "gridcolor": "white",
            "gridwidth": 2,
            "linecolor": "white",
            "showbackground": true,
            "ticks": "",
            "zerolinecolor": "white"
           },
           "yaxis": {
            "backgroundcolor": "#E5ECF6",
            "gridcolor": "white",
            "gridwidth": 2,
            "linecolor": "white",
            "showbackground": true,
            "ticks": "",
            "zerolinecolor": "white"
           },
           "zaxis": {
            "backgroundcolor": "#E5ECF6",
            "gridcolor": "white",
            "gridwidth": 2,
            "linecolor": "white",
            "showbackground": true,
            "ticks": "",
            "zerolinecolor": "white"
           }
          },
          "shapedefaults": {
           "line": {
            "color": "#2a3f5f"
           }
          },
          "ternary": {
           "aaxis": {
            "gridcolor": "white",
            "linecolor": "white",
            "ticks": ""
           },
           "baxis": {
            "gridcolor": "white",
            "linecolor": "white",
            "ticks": ""
           },
           "bgcolor": "#E5ECF6",
           "caxis": {
            "gridcolor": "white",
            "linecolor": "white",
            "ticks": ""
           }
          },
          "title": {
           "x": 0.05
          },
          "xaxis": {
           "automargin": true,
           "gridcolor": "white",
           "linecolor": "white",
           "ticks": "",
           "title": {
            "standoff": 15
           },
           "zerolinecolor": "white",
           "zerolinewidth": 2
          },
          "yaxis": {
           "automargin": true,
           "gridcolor": "white",
           "linecolor": "white",
           "ticks": "",
           "title": {
            "standoff": 15
           },
           "zerolinecolor": "white",
           "zerolinewidth": 2
          }
         }
        },
        "title": {
         "text": "Variable importance per feature ",
         "x": 0.5
        },
        "xaxis": {
         "anchor": "y",
         "domain": [
          0,
          1
         ],
         "title": {
          "text": "<b> Variables </b>"
         }
        },
        "yaxis": {
         "anchor": "x",
         "domain": [
          0,
          1
         ],
         "title": {
          "text": "<b> Importance </b>"
         }
        }
       }
      },
      "text/html": [
       "<div>                            <div id=\"8b890483-90ca-4d89-811d-1aaf13b9ea50\" class=\"plotly-graph-div\" style=\"height:525px; width:100%;\"></div>            <script type=\"text/javascript\">                require([\"plotly\"], function(Plotly) {                    window.PLOTLYENV=window.PLOTLYENV || {};                                    if (document.getElementById(\"8b890483-90ca-4d89-811d-1aaf13b9ea50\")) {                    Plotly.newPlot(                        \"8b890483-90ca-4d89-811d-1aaf13b9ea50\",                        [{\"alignmentgroup\":\"True\",\"hovertemplate\":\"Feature=%{x}<br>Importance=%{y}<extra></extra>\",\"legendgroup\":\"\",\"marker\":{\"color\":\"#636efa\",\"pattern\":{\"shape\":\"\"}},\"name\":\"\",\"offsetgroup\":\"\",\"orientation\":\"v\",\"showlegend\":false,\"textposition\":\"auto\",\"x\":[\"num_features_user_following\",\"cat_features_hour_index\",\"num_features_user_age_days\",\"cat_features_day_month_index\",\"cat_features_month_index\",\"num_features_nr_text_char\",\"num_features_num_words\",\"subjectivity\",\"polarity\",\"cat_features_week_day_index\",\"sentiment\",\"num_features_upper_case_words\",\"num_features_num_emojis\",\"cat_features_media_type_index\",\"num_features_nr_media_elements\",\"cat_features_quoted_ind\",\"cat_features_verified\",\"cat_features_symbol_ind\",\"num_features_nr_exlcamations\",\"num_features_num_mentions\",\"num_features_num_hashtags\"],\"xaxis\":\"x\",\"y\":[0.18314565650495734,0.12639516996614958,0.11856648197254649,0.11293316940276588,0.07279093868138792,0.056837600841550935,0.055334986524422224,0.050259862182782805,0.04765569215205892,0.04719123609555284,0.046373466879771716,0.02422618553539084,0.020403958047966356,0.014128943368340316,0.012534980212055083,0.004271049986338854,0.0039690623353833615,0.001399246894121559,0.001147577744803114,0.0003538735836391913,8.0861088014885e-05],\"yaxis\":\"y\",\"type\":\"bar\"}],                        {\"template\":{\"data\":{\"histogram2dcontour\":[{\"type\":\"histogram2dcontour\",\"colorbar\":{\"outlinewidth\":0,\"ticks\":\"\"},\"colorscale\":[[0.0,\"#0d0887\"],[0.1111111111111111,\"#46039f\"],[0.2222222222222222,\"#7201a8\"],[0.3333333333333333,\"#9c179e\"],[0.4444444444444444,\"#bd3786\"],[0.5555555555555556,\"#d8576b\"],[0.6666666666666666,\"#ed7953\"],[0.7777777777777778,\"#fb9f3a\"],[0.8888888888888888,\"#fdca26\"],[1.0,\"#f0f921\"]]}],\"choropleth\":[{\"type\":\"choropleth\",\"colorbar\":{\"outlinewidth\":0,\"ticks\":\"\"}}],\"histogram2d\":[{\"type\":\"histogram2d\",\"colorbar\":{\"outlinewidth\":0,\"ticks\":\"\"},\"colorscale\":[[0.0,\"#0d0887\"],[0.1111111111111111,\"#46039f\"],[0.2222222222222222,\"#7201a8\"],[0.3333333333333333,\"#9c179e\"],[0.4444444444444444,\"#bd3786\"],[0.5555555555555556,\"#d8576b\"],[0.6666666666666666,\"#ed7953\"],[0.7777777777777778,\"#fb9f3a\"],[0.8888888888888888,\"#fdca26\"],[1.0,\"#f0f921\"]]}],\"heatmap\":[{\"type\":\"heatmap\",\"colorbar\":{\"outlinewidth\":0,\"ticks\":\"\"},\"colorscale\":[[0.0,\"#0d0887\"],[0.1111111111111111,\"#46039f\"],[0.2222222222222222,\"#7201a8\"],[0.3333333333333333,\"#9c179e\"],[0.4444444444444444,\"#bd3786\"],[0.5555555555555556,\"#d8576b\"],[0.6666666666666666,\"#ed7953\"],[0.7777777777777778,\"#fb9f3a\"],[0.8888888888888888,\"#fdca26\"],[1.0,\"#f0f921\"]]}],\"heatmapgl\":[{\"type\":\"heatmapgl\",\"colorbar\":{\"outlinewidth\":0,\"ticks\":\"\"},\"colorscale\":[[0.0,\"#0d0887\"],[0.1111111111111111,\"#46039f\"],[0.2222222222222222,\"#7201a8\"],[0.3333333333333333,\"#9c179e\"],[0.4444444444444444,\"#bd3786\"],[0.5555555555555556,\"#d8576b\"],[0.6666666666666666,\"#ed7953\"],[0.7777777777777778,\"#fb9f3a\"],[0.8888888888888888,\"#fdca26\"],[1.0,\"#f0f921\"]]}],\"contourcarpet\":[{\"type\":\"contourcarpet\",\"colorbar\":{\"outlinewidth\":0,\"ticks\":\"\"}}],\"contour\":[{\"type\":\"contour\",\"colorbar\":{\"outlinewidth\":0,\"ticks\":\"\"},\"colorscale\":[[0.0,\"#0d0887\"],[0.1111111111111111,\"#46039f\"],[0.2222222222222222,\"#7201a8\"],[0.3333333333333333,\"#9c179e\"],[0.4444444444444444,\"#bd3786\"],[0.5555555555555556,\"#d8576b\"],[0.6666666666666666,\"#ed7953\"],[0.7777777777777778,\"#fb9f3a\"],[0.8888888888888888,\"#fdca26\"],[1.0,\"#f0f921\"]]}],\"surface\":[{\"type\":\"surface\",\"colorbar\":{\"outlinewidth\":0,\"ticks\":\"\"},\"colorscale\":[[0.0,\"#0d0887\"],[0.1111111111111111,\"#46039f\"],[0.2222222222222222,\"#7201a8\"],[0.3333333333333333,\"#9c179e\"],[0.4444444444444444,\"#bd3786\"],[0.5555555555555556,\"#d8576b\"],[0.6666666666666666,\"#ed7953\"],[0.7777777777777778,\"#fb9f3a\"],[0.8888888888888888,\"#fdca26\"],[1.0,\"#f0f921\"]]}],\"mesh3d\":[{\"type\":\"mesh3d\",\"colorbar\":{\"outlinewidth\":0,\"ticks\":\"\"}}],\"scatter\":[{\"fillpattern\":{\"fillmode\":\"overlay\",\"size\":10,\"solidity\":0.2},\"type\":\"scatter\"}],\"parcoords\":[{\"type\":\"parcoords\",\"line\":{\"colorbar\":{\"outlinewidth\":0,\"ticks\":\"\"}}}],\"scatterpolargl\":[{\"type\":\"scatterpolargl\",\"marker\":{\"colorbar\":{\"outlinewidth\":0,\"ticks\":\"\"}}}],\"bar\":[{\"error_x\":{\"color\":\"#2a3f5f\"},\"error_y\":{\"color\":\"#2a3f5f\"},\"marker\":{\"line\":{\"color\":\"#E5ECF6\",\"width\":0.5},\"pattern\":{\"fillmode\":\"overlay\",\"size\":10,\"solidity\":0.2}},\"type\":\"bar\"}],\"scattergeo\":[{\"type\":\"scattergeo\",\"marker\":{\"colorbar\":{\"outlinewidth\":0,\"ticks\":\"\"}}}],\"scatterpolar\":[{\"type\":\"scatterpolar\",\"marker\":{\"colorbar\":{\"outlinewidth\":0,\"ticks\":\"\"}}}],\"histogram\":[{\"marker\":{\"pattern\":{\"fillmode\":\"overlay\",\"size\":10,\"solidity\":0.2}},\"type\":\"histogram\"}],\"scattergl\":[{\"type\":\"scattergl\",\"marker\":{\"colorbar\":{\"outlinewidth\":0,\"ticks\":\"\"}}}],\"scatter3d\":[{\"type\":\"scatter3d\",\"line\":{\"colorbar\":{\"outlinewidth\":0,\"ticks\":\"\"}},\"marker\":{\"colorbar\":{\"outlinewidth\":0,\"ticks\":\"\"}}}],\"scattermapbox\":[{\"type\":\"scattermapbox\",\"marker\":{\"colorbar\":{\"outlinewidth\":0,\"ticks\":\"\"}}}],\"scatterternary\":[{\"type\":\"scatterternary\",\"marker\":{\"colorbar\":{\"outlinewidth\":0,\"ticks\":\"\"}}}],\"scattercarpet\":[{\"type\":\"scattercarpet\",\"marker\":{\"colorbar\":{\"outlinewidth\":0,\"ticks\":\"\"}}}],\"carpet\":[{\"aaxis\":{\"endlinecolor\":\"#2a3f5f\",\"gridcolor\":\"white\",\"linecolor\":\"white\",\"minorgridcolor\":\"white\",\"startlinecolor\":\"#2a3f5f\"},\"baxis\":{\"endlinecolor\":\"#2a3f5f\",\"gridcolor\":\"white\",\"linecolor\":\"white\",\"minorgridcolor\":\"white\",\"startlinecolor\":\"#2a3f5f\"},\"type\":\"carpet\"}],\"table\":[{\"cells\":{\"fill\":{\"color\":\"#EBF0F8\"},\"line\":{\"color\":\"white\"}},\"header\":{\"fill\":{\"color\":\"#C8D4E3\"},\"line\":{\"color\":\"white\"}},\"type\":\"table\"}],\"barpolar\":[{\"marker\":{\"line\":{\"color\":\"#E5ECF6\",\"width\":0.5},\"pattern\":{\"fillmode\":\"overlay\",\"size\":10,\"solidity\":0.2}},\"type\":\"barpolar\"}],\"pie\":[{\"automargin\":true,\"type\":\"pie\"}]},\"layout\":{\"autotypenumbers\":\"strict\",\"colorway\":[\"#636efa\",\"#EF553B\",\"#00cc96\",\"#ab63fa\",\"#FFA15A\",\"#19d3f3\",\"#FF6692\",\"#B6E880\",\"#FF97FF\",\"#FECB52\"],\"font\":{\"color\":\"#2a3f5f\"},\"hovermode\":\"closest\",\"hoverlabel\":{\"align\":\"left\"},\"paper_bgcolor\":\"white\",\"plot_bgcolor\":\"#E5ECF6\",\"polar\":{\"bgcolor\":\"#E5ECF6\",\"angularaxis\":{\"gridcolor\":\"white\",\"linecolor\":\"white\",\"ticks\":\"\"},\"radialaxis\":{\"gridcolor\":\"white\",\"linecolor\":\"white\",\"ticks\":\"\"}},\"ternary\":{\"bgcolor\":\"#E5ECF6\",\"aaxis\":{\"gridcolor\":\"white\",\"linecolor\":\"white\",\"ticks\":\"\"},\"baxis\":{\"gridcolor\":\"white\",\"linecolor\":\"white\",\"ticks\":\"\"},\"caxis\":{\"gridcolor\":\"white\",\"linecolor\":\"white\",\"ticks\":\"\"}},\"coloraxis\":{\"colorbar\":{\"outlinewidth\":0,\"ticks\":\"\"}},\"colorscale\":{\"sequential\":[[0.0,\"#0d0887\"],[0.1111111111111111,\"#46039f\"],[0.2222222222222222,\"#7201a8\"],[0.3333333333333333,\"#9c179e\"],[0.4444444444444444,\"#bd3786\"],[0.5555555555555556,\"#d8576b\"],[0.6666666666666666,\"#ed7953\"],[0.7777777777777778,\"#fb9f3a\"],[0.8888888888888888,\"#fdca26\"],[1.0,\"#f0f921\"]],\"sequentialminus\":[[0.0,\"#0d0887\"],[0.1111111111111111,\"#46039f\"],[0.2222222222222222,\"#7201a8\"],[0.3333333333333333,\"#9c179e\"],[0.4444444444444444,\"#bd3786\"],[0.5555555555555556,\"#d8576b\"],[0.6666666666666666,\"#ed7953\"],[0.7777777777777778,\"#fb9f3a\"],[0.8888888888888888,\"#fdca26\"],[1.0,\"#f0f921\"]],\"diverging\":[[0,\"#8e0152\"],[0.1,\"#c51b7d\"],[0.2,\"#de77ae\"],[0.3,\"#f1b6da\"],[0.4,\"#fde0ef\"],[0.5,\"#f7f7f7\"],[0.6,\"#e6f5d0\"],[0.7,\"#b8e186\"],[0.8,\"#7fbc41\"],[0.9,\"#4d9221\"],[1,\"#276419\"]]},\"xaxis\":{\"gridcolor\":\"white\",\"linecolor\":\"white\",\"ticks\":\"\",\"title\":{\"standoff\":15},\"zerolinecolor\":\"white\",\"automargin\":true,\"zerolinewidth\":2},\"yaxis\":{\"gridcolor\":\"white\",\"linecolor\":\"white\",\"ticks\":\"\",\"title\":{\"standoff\":15},\"zerolinecolor\":\"white\",\"automargin\":true,\"zerolinewidth\":2},\"scene\":{\"xaxis\":{\"backgroundcolor\":\"#E5ECF6\",\"gridcolor\":\"white\",\"linecolor\":\"white\",\"showbackground\":true,\"ticks\":\"\",\"zerolinecolor\":\"white\",\"gridwidth\":2},\"yaxis\":{\"backgroundcolor\":\"#E5ECF6\",\"gridcolor\":\"white\",\"linecolor\":\"white\",\"showbackground\":true,\"ticks\":\"\",\"zerolinecolor\":\"white\",\"gridwidth\":2},\"zaxis\":{\"backgroundcolor\":\"#E5ECF6\",\"gridcolor\":\"white\",\"linecolor\":\"white\",\"showbackground\":true,\"ticks\":\"\",\"zerolinecolor\":\"white\",\"gridwidth\":2}},\"shapedefaults\":{\"line\":{\"color\":\"#2a3f5f\"}},\"annotationdefaults\":{\"arrowcolor\":\"#2a3f5f\",\"arrowhead\":0,\"arrowwidth\":1},\"geo\":{\"bgcolor\":\"white\",\"landcolor\":\"#E5ECF6\",\"subunitcolor\":\"white\",\"showland\":true,\"showlakes\":true,\"lakecolor\":\"white\"},\"title\":{\"x\":0.05},\"mapbox\":{\"style\":\"light\"}}},\"xaxis\":{\"anchor\":\"y\",\"domain\":[0.0,1.0],\"title\":{\"text\":\"<b> Variables </b>\"}},\"yaxis\":{\"anchor\":\"x\",\"domain\":[0.0,1.0],\"title\":{\"text\":\"<b> Importance </b>\"}},\"legend\":{\"tracegroupgap\":0},\"margin\":{\"t\":60},\"barmode\":\"relative\",\"title\":{\"text\":\"Variable importance per feature \",\"x\":0.5}},                        {\"responsive\": true}                    ).then(function(){\n",
       "                            \n",
       "var gd = document.getElementById('8b890483-90ca-4d89-811d-1aaf13b9ea50');\n",
       "var x = new MutationObserver(function (mutations, observer) {{\n",
       "        var display = window.getComputedStyle(gd).display;\n",
       "        if (!display || display === 'none') {{\n",
       "            console.log([gd, 'removed!']);\n",
       "            Plotly.purge(gd);\n",
       "            observer.disconnect();\n",
       "        }}\n",
       "}});\n",
       "\n",
       "// Listen for the removal of the full notebook cells\n",
       "var notebookContainer = gd.closest('#notebook-container');\n",
       "if (notebookContainer) {{\n",
       "    x.observe(notebookContainer, {childList: true});\n",
       "}}\n",
       "\n",
       "// Listen for the clearing of the current output cell\n",
       "var outputEl = gd.closest('.output');\n",
       "if (outputEl) {{\n",
       "    x.observe(outputEl, {childList: true});\n",
       "}}\n",
       "\n",
       "                        })                };                });            </script>        </div>"
      ]
     },
     "metadata": {},
     "output_type": "display_data"
    }
   ],
   "source": [
    "# plot the variable importance from heigh to low\n",
    "fig = px.bar(var_imp_pd, x='Feature', y='Importance')\n",
    "\n",
    "# Add figure title\n",
    "fig.update_layout(\n",
    "        title_text=\"Variable importance per feature \",\n",
    "        title_x = 0.5\n",
    "    )\n",
    "\n",
    "# add axes\n",
    "fig.update_xaxes(title_text=\"<b> Variables </b>\")\n",
    "fig.update_yaxes(title_text=\"<b> Importance </b>\")\n",
    "\n",
    "fig.show()"
   ]
  },
  {
   "cell_type": "markdown",
   "id": "ce529fc6",
   "metadata": {},
   "source": [
    "With the help of the variable importances, we see the importance of each variable. However, we do not know anything about the direction of the effect. Therefore, we look at the coefficients of the logisitic regression model. As these variables do not have the same name, we have to look them up manually in the coefs_df dataframe. We will look at the most important variables and make managerial recommendations based on these results."
   ]
  },
  {
   "cell_type": "markdown",
   "id": "5012ce64",
   "metadata": {},
   "source": [
    "To refresh our memory, we repeat the order in which the numeric variables were ranked as this is important to determine which scaled numeric feature belongs to which variable.\n",
    "\n",
    "        num_cols = 'user_following', 'num_emojis', 'upper_case_words','num_words','num_hashtags', 'num_mentions', 'nr_exlcamations',  'user_age_days', 'nr_media_elements', 'nr_text_char'"
   ]
  },
  {
   "cell_type": "code",
   "execution_count": 182,
   "id": "15031f6e",
   "metadata": {},
   "outputs": [
    {
     "data": {
      "text/html": [
       "<div>\n",
       "<style scoped>\n",
       "    .dataframe tbody tr th:only-of-type {\n",
       "        vertical-align: middle;\n",
       "    }\n",
       "\n",
       "    .dataframe tbody tr th {\n",
       "        vertical-align: top;\n",
       "    }\n",
       "\n",
       "    .dataframe thead th {\n",
       "        text-align: right;\n",
       "    }\n",
       "</style>\n",
       "<table border=\"1\" class=\"dataframe\">\n",
       "  <thead>\n",
       "    <tr style=\"text-align: right;\">\n",
       "      <th></th>\n",
       "      <th>Feature</th>\n",
       "      <th>Importance</th>\n",
       "    </tr>\n",
       "  </thead>\n",
       "  <tbody>\n",
       "    <tr>\n",
       "      <th>0</th>\n",
       "      <td>num_features_user_following</td>\n",
       "      <td>0.183146</td>\n",
       "    </tr>\n",
       "    <tr>\n",
       "      <th>1</th>\n",
       "      <td>cat_features_hour_index</td>\n",
       "      <td>0.126395</td>\n",
       "    </tr>\n",
       "    <tr>\n",
       "      <th>2</th>\n",
       "      <td>num_features_user_age_days</td>\n",
       "      <td>0.118566</td>\n",
       "    </tr>\n",
       "    <tr>\n",
       "      <th>3</th>\n",
       "      <td>cat_features_day_month_index</td>\n",
       "      <td>0.112933</td>\n",
       "    </tr>\n",
       "    <tr>\n",
       "      <th>4</th>\n",
       "      <td>cat_features_month_index</td>\n",
       "      <td>0.072791</td>\n",
       "    </tr>\n",
       "    <tr>\n",
       "      <th>5</th>\n",
       "      <td>num_features_nr_text_char</td>\n",
       "      <td>0.056838</td>\n",
       "    </tr>\n",
       "    <tr>\n",
       "      <th>6</th>\n",
       "      <td>num_features_num_words</td>\n",
       "      <td>0.055335</td>\n",
       "    </tr>\n",
       "    <tr>\n",
       "      <th>7</th>\n",
       "      <td>subjectivity</td>\n",
       "      <td>0.050260</td>\n",
       "    </tr>\n",
       "    <tr>\n",
       "      <th>8</th>\n",
       "      <td>polarity</td>\n",
       "      <td>0.047656</td>\n",
       "    </tr>\n",
       "    <tr>\n",
       "      <th>9</th>\n",
       "      <td>cat_features_week_day_index</td>\n",
       "      <td>0.047191</td>\n",
       "    </tr>\n",
       "    <tr>\n",
       "      <th>10</th>\n",
       "      <td>sentiment</td>\n",
       "      <td>0.046373</td>\n",
       "    </tr>\n",
       "    <tr>\n",
       "      <th>11</th>\n",
       "      <td>num_features_upper_case_words</td>\n",
       "      <td>0.024226</td>\n",
       "    </tr>\n",
       "    <tr>\n",
       "      <th>12</th>\n",
       "      <td>num_features_num_emojis</td>\n",
       "      <td>0.020404</td>\n",
       "    </tr>\n",
       "    <tr>\n",
       "      <th>13</th>\n",
       "      <td>cat_features_media_type_index</td>\n",
       "      <td>0.014129</td>\n",
       "    </tr>\n",
       "    <tr>\n",
       "      <th>14</th>\n",
       "      <td>num_features_nr_media_elements</td>\n",
       "      <td>0.012535</td>\n",
       "    </tr>\n",
       "  </tbody>\n",
       "</table>\n",
       "</div>"
      ],
      "text/plain": [
       "                           Feature  Importance\n",
       "0      num_features_user_following    0.183146\n",
       "1          cat_features_hour_index    0.126395\n",
       "2       num_features_user_age_days    0.118566\n",
       "3     cat_features_day_month_index    0.112933\n",
       "4         cat_features_month_index    0.072791\n",
       "5        num_features_nr_text_char    0.056838\n",
       "6           num_features_num_words    0.055335\n",
       "7                     subjectivity    0.050260\n",
       "8                         polarity    0.047656\n",
       "9      cat_features_week_day_index    0.047191\n",
       "10                       sentiment    0.046373\n",
       "11   num_features_upper_case_words    0.024226\n",
       "12         num_features_num_emojis    0.020404\n",
       "13   cat_features_media_type_index    0.014129\n",
       "14  num_features_nr_media_elements    0.012535"
      ]
     },
     "execution_count": 182,
     "metadata": {},
     "output_type": "execute_result"
    }
   ],
   "source": [
    "# show highest values\n",
    "var_imp.sort('Importance', ascending = False).toPandas().head(15)\n"
   ]
  },
  {
   "cell_type": "code",
   "execution_count": 118,
   "id": "f471e5b3",
   "metadata": {},
   "outputs": [
    {
     "name": "stdout",
     "output_type": "stream",
     "text": [
      "+--------------------+-------------------+--------------------+--------------------+\n",
      "|             Feature|  Coefvalue_class_0|   Coefvalue_class_1|   Coefvalue_class_2|\n",
      "+--------------------+-------------------+--------------------+--------------------+\n",
      "|num_features_scal...|0.21893131811186922|-0.07389076709476614|-0.14504055101710314|\n",
      "+--------------------+-------------------+--------------------+--------------------+\n",
      "\n"
     ]
    }
   ],
   "source": [
    "# 1) Look at the number of users the accounts is following\n",
    "coefs_df.filter(F.col('Feature') == 'num_features_scaled_0').show()"
   ]
  },
  {
   "cell_type": "code",
   "execution_count": 148,
   "id": "55ec6481",
   "metadata": {},
   "outputs": [
    {
     "name": "stdout",
     "output_type": "stream",
     "text": [
      "+------------------------------+---------------------+---------------------+---------------------+\n",
      "|Feature                       |Coefvalue_class_0    |Coefvalue_class_1    |Coefvalue_class_2    |\n",
      "+------------------------------+---------------------+---------------------+---------------------+\n",
      "|cat_features_hour_index_OHE_1 |0.007768756020498764 |0.05309877031656413  |-0.06086752633706288 |\n",
      "|cat_features_hour_index_OHE_10|0.028058668600232733 |0.020143892489595513 |-0.04820256108982826 |\n",
      "|cat_features_hour_index_OHE_12|-0.007419555674138468|0.053780576862951394 |-0.04636102118881294 |\n",
      "|cat_features_hour_index_OHE_0 |-0.0216374315914389  |0.054329718299690036 |-0.03269228670825114 |\n",
      "|cat_features_hour_index_OHE_17|-0.009045650739182473|0.03734296658004055  |-0.028297315840858057|\n",
      "|cat_features_hour_index_OHE_3 |5.06836835806825E-4  |0.023520230478031652 |-0.02402706731383848 |\n",
      "|cat_features_hour_index_OHE_2 |0.04759111549946655  |-0.02828521840595907 |-0.01930589709350748 |\n",
      "|cat_features_hour_index_OHE_13|0.004627108100162384 |0.00965453107742652  |-0.014281639177588899|\n",
      "|cat_features_hour_index_OHE_20|-0.009789667909068133|0.023705827998245756 |-0.013916160089177608|\n",
      "|cat_features_hour_index_OHE_21|0.0038846739245690094|0.0032827424337155764|-0.007167416358284537|\n",
      "|cat_features_hour_index_OHE_16|-0.02470949625550453 |0.030957223407659062 |-0.006247727152154522|\n",
      "|cat_features_hour_index_OHE_9 |0.020411954678321707 |-0.02134574348760665 |9.337888092849805E-4 |\n",
      "|cat_features_hour_index_OHE_22|0.006199848253685338 |-0.013398022556215238|0.007198174302529899 |\n",
      "|cat_features_hour_index_OHE_4 |-0.026938348306833778|0.017870254429369493 |0.009068093877464318 |\n",
      "|cat_features_hour_index_OHE_23|0.009072946141219482 |-0.020433415046513786|0.011360468905294322 |\n",
      "|cat_features_hour_index_OHE_19|0.00786142568349386  |-0.02263508665826263 |0.014773660974768746 |\n",
      "|cat_features_hour_index_OHE_5 |0.010759507854698763 |-0.02860075225935315 |0.017841244404654386 |\n",
      "|cat_features_hour_index_OHE_18|0.003858814451203442 |-0.02199034619716972 |0.018131531745966278 |\n",
      "|cat_features_hour_index_OHE_11|0.013759032139171339 |-0.032551362140502214|0.01879233000133092  |\n",
      "|cat_features_hour_index_OHE_8 |-0.003240295953822237|-0.028783364754317094|0.032023660708139334 |\n",
      "|cat_features_hour_index_OHE_14|0.017103250756872967 |-0.05005516091700063 |0.032951910160127676 |\n",
      "|cat_features_hour_index_OHE_15|0.0038284700656728734|-0.04253996489718813 |0.03871149483151527  |\n",
      "|cat_features_hour_index_OHE_7 |-0.028786001317671693|-0.0176545815381141  |0.04644058285578583  |\n",
      "+------------------------------+---------------------+---------------------+---------------------+\n",
      "\n"
     ]
    }
   ],
   "source": [
    "# 2) Look at the hour the tweet is posted\n",
    "coefs_df.filter((F.col('Feature') == 'cat_features_hour_index_OHE_0') |\n",
    "                (F.col('Feature') == 'cat_features_hour_index_OHE_1') |\n",
    "                (F.col('Feature') == 'cat_features_hour_index_OHE_2') |\n",
    "                (F.col('Feature') == 'cat_features_hour_index_OHE_3') |\n",
    "                (F.col('Feature') == 'cat_features_hour_index_OHE_4') |\n",
    "                (F.col('Feature') == 'cat_features_hour_index_OHE_5') |\n",
    "                (F.col('Feature') == 'cat_features_hour_index_OHE_6') |\n",
    "                (F.col('Feature') == 'cat_features_hour_index_OHE_7') |\n",
    "                (F.col('Feature') == 'cat_features_hour_index_OHE_8') |\n",
    "                (F.col('Feature') == 'cat_features_hour_index_OHE_9') |\n",
    "                (F.col('Feature') == 'cat_features_hour_index_OHE_10') |\n",
    "                (F.col('Feature') == 'cat_features_hour_index_OHE_11') |\n",
    "                (F.col('Feature') == 'cat_features_hour_index_OHE_12') |\n",
    "                (F.col('Feature') == 'cat_features_hour_index_OHE_13') |\n",
    "                (F.col('Feature') == 'cat_features_hour_index_OHE_14') |\n",
    "                (F.col('Feature') == 'cat_features_hour_index_OHE_15') |\n",
    "                (F.col('Feature') == 'cat_features_hour_index_OHE_16') |\n",
    "                (F.col('Feature') == 'cat_features_hour_index_OHE_17') |\n",
    "                (F.col('Feature') == 'cat_features_hour_index_OHE_18') |\n",
    "                (F.col('Feature') == 'cat_features_hour_index_OHE_19') |\n",
    "                (F.col('Feature') == 'cat_features_hour_index_OHE_20') |\n",
    "                (F.col('Feature') == 'cat_features_hour_index_OHE_21') |\n",
    "                (F.col('Feature') == 'cat_features_hour_index_OHE_22') |\n",
    "                (F.col('Feature') == 'cat_features_hour_index_OHE_23')).sort('Coefvalue_class_2').show(24, truncate = False)"
   ]
  },
  {
   "cell_type": "markdown",
   "id": "26baaeb6",
   "metadata": {},
   "source": [
    "This does not really lead to a clear managerial recommendation"
   ]
  },
  {
   "cell_type": "code",
   "execution_count": 137,
   "id": "50df98c9",
   "metadata": {},
   "outputs": [
    {
     "name": "stdout",
     "output_type": "stream",
     "text": [
      "+--------------------+-------------------+--------------------+--------------------+\n",
      "|             Feature|  Coefvalue_class_0|   Coefvalue_class_1|   Coefvalue_class_2|\n",
      "+--------------------+-------------------+--------------------+--------------------+\n",
      "|num_features_scal...|0.14229672200470173|-0.02227923167135...|-0.12001749033334655|\n",
      "+--------------------+-------------------+--------------------+--------------------+\n",
      "\n"
     ]
    }
   ],
   "source": [
    "# 3) Age of the account in days\n",
    "coefs_df.filter(F.col('Feature') == 'num_features_scaled_7').show()"
   ]
  },
  {
   "cell_type": "code",
   "execution_count": 146,
   "id": "1fcbb3f3",
   "metadata": {},
   "outputs": [
    {
     "name": "stdout",
     "output_type": "stream",
     "text": [
      "+-----------------------------------+----------------------+----------------------+----------------------+\n",
      "|Feature                            |Coefvalue_class_0     |Coefvalue_class_1     |Coefvalue_class_2     |\n",
      "+-----------------------------------+----------------------+----------------------+----------------------+\n",
      "|cat_features_day_month_index_OHE_6 |0.036024875871627456  |0.05661534155052849   |-0.09264021742215592  |\n",
      "|cat_features_day_month_index_OHE_4 |-0.044698943898271254 |0.11045424772999039   |-0.06575530383171913  |\n",
      "|cat_features_day_month_index_OHE_9 |-0.01236441337162952  |0.06771125078322807   |-0.055346837411598515 |\n",
      "|cat_features_day_month_index_OHE_5 |0.0760187260578621    |-0.031800651847148406 |-0.044218074210713644 |\n",
      "|cat_features_day_month_index_OHE_14|0.020894747755976224  |0.022077200760737863  |-0.04297194851671406  |\n",
      "|cat_features_day_month_index_OHE_10|-0.020873748996749913 |0.05336955777755777   |-0.0324958087808079   |\n",
      "|cat_features_day_month_index_OHE_8 |0.014988753759103881  |0.00954814347963806   |-0.02453689723874197  |\n",
      "|cat_features_day_month_index_OHE_30|-0.015191053906148406 |0.0359674836598773    |-0.020776429753728867 |\n",
      "|cat_features_day_month_index_OHE_2 |0.010026178333876439  |0.010354790220189914  |-0.020380968554066334 |\n",
      "|cat_features_day_month_index_OHE_27|-0.0034050049957552644|0.013624323189912623  |-0.010219318194157343 |\n",
      "|cat_features_day_month_index_OHE_11|0.00617665064391543   |0.003112425702156344  |-0.009289076346071762 |\n",
      "|cat_features_day_month_index_OHE_25|-0.02264304154453164  |0.03022794329567801   |-0.00758490175114631  |\n",
      "|cat_features_day_month_index_OHE_19|-0.005491867184441076 |0.012363793082463062  |-0.006871925898022    |\n",
      "|cat_features_day_month_index_OHE_31|0.013623606752705419  |-0.013320669705766841 |-3.0293704693857773E-4|\n",
      "|cat_features_day_month_index_OHE_3 |-0.0010449587077753417|-0.0034958293535440345|0.004540788061319361  |\n",
      "|cat_features_day_month_index_OHE_28|0.001707324790631941  |-0.007082892163440611 |0.005375567372808645  |\n",
      "|cat_features_day_month_index_OHE_29|0.008360406217704524  |-0.02147715389547158  |0.01311674767776708   |\n",
      "|cat_features_day_month_index_OHE_20|0.015167325771216943  |-0.029775529090042954 |0.014608203318826046  |\n",
      "|cat_features_day_month_index_OHE_22|0.011764580506433387  |-0.0377917196321009   |0.026027139125667523  |\n",
      "|cat_features_day_month_index_OHE_7 |-0.053453081425344946 |0.02414337329321806   |0.02930970813212685   |\n",
      "|cat_features_day_month_index_OHE_24|0.01942654259005904   |-0.04976387442376958  |0.03033733183371053   |\n",
      "|cat_features_day_month_index_OHE_16|0.06279931623820924   |-0.09552427511164592  |0.032724958873436676  |\n",
      "|cat_features_day_month_index_OHE_12|0.01138945820205512   |-0.050037523685671784 |0.038648065483616656  |\n",
      "|cat_features_day_month_index_OHE_26|-0.05149314377416043  |0.010859459266100314  |0.04063368450806013   |\n",
      "|cat_features_day_month_index_OHE_21|0.00598204022824045   |-0.049790763163285456 |0.04380872293504502   |\n",
      "|cat_features_day_month_index_OHE_1 |0.006146450655558484  |-0.05855713647109144  |0.052410685815532966  |\n",
      "|cat_features_day_month_index_OHE_23|0.004337456335799106  |-0.061071298686690444 |0.05673384235089134   |\n",
      "|cat_features_day_month_index_OHE_13|-0.008216816490115563 |-0.049038149044345815 |0.057254965534461404  |\n",
      "+-----------------------------------+----------------------+----------------------+----------------------+\n",
      "only showing top 28 rows\n",
      "\n"
     ]
    }
   ],
   "source": [
    "# 4) Look at the best day of the month to tweet\n",
    "coefs_df.filter((F.col('Feature') == 'cat_features_day_month_index_OHE_0') |\n",
    "                (F.col('Feature') == 'cat_features_day_month_index_OHE_1') |\n",
    "                (F.col('Feature') == 'cat_features_day_month_index_OHE_2') |\n",
    "                (F.col('Feature') == 'cat_features_day_month_index_OHE_3') |\n",
    "                (F.col('Feature') == 'cat_features_day_month_index_OHE_4') |\n",
    "                (F.col('Feature') == 'cat_features_day_month_index_OHE_5') |\n",
    "                (F.col('Feature') == 'cat_features_day_month_index_OHE_6') |\n",
    "                (F.col('Feature') == 'cat_features_day_month_index_OHE_7') |\n",
    "                (F.col('Feature') == 'cat_features_day_month_index_OHE_8') |\n",
    "                (F.col('Feature') == 'cat_features_day_month_index_OHE_9') |\n",
    "                (F.col('Feature') == 'cat_features_day_month_index_OHE_10') |\n",
    "                (F.col('Feature') == 'cat_features_day_month_index_OHE_11') |\n",
    "                (F.col('Feature') == 'cat_features_day_month_index_OHE_12') |\n",
    "                (F.col('Feature') == 'cat_features_day_month_index_OHE_13') |\n",
    "                (F.col('Feature') == 'cat_features_day_month_index_OHE_14') |\n",
    "                (F.col('Feature') == 'cat_features_day_month_index_OHE_15') |\n",
    "                (F.col('Feature') == 'cat_features_day_month_index_OHE_16') |\n",
    "                (F.col('Feature') == 'cat_features_day_month_index_OHE_17') |\n",
    "                (F.col('Feature') == 'cat_features_day_month_index_OHE_18') |\n",
    "                (F.col('Feature') == 'cat_features_day_month_index_OHE_19') |\n",
    "                (F.col('Feature') == 'cat_features_day_month_index_OHE_20') |\n",
    "                (F.col('Feature') == 'cat_features_day_month_index_OHE_21') |\n",
    "                (F.col('Feature') == 'cat_features_day_month_index_OHE_22') |\n",
    "                (F.col('Feature') == 'cat_features_day_month_index_OHE_23') |\n",
    "                (F.col('Feature') == 'cat_features_day_month_index_OHE_24') |\n",
    "                (F.col('Feature') == 'cat_features_day_month_index_OHE_25') |\n",
    "                (F.col('Feature') == 'cat_features_day_month_index_OHE_26') |\n",
    "                (F.col('Feature') == 'cat_features_day_month_index_OHE_27') |\n",
    "                (F.col('Feature') == 'cat_features_day_month_index_OHE_28') |\n",
    "                (F.col('Feature') == 'cat_features_day_month_index_OHE_29') |\n",
    "                (F.col('Feature') == 'cat_features_day_month_index_OHE_30') |\n",
    "                (F.col('Feature') == 'cat_features_day_month_index_OHE_31')).sort('Coefvalue_class_2').show(28, truncate = False)"
   ]
  },
  {
   "cell_type": "code",
   "execution_count": 147,
   "id": "d1cec7fa",
   "metadata": {},
   "outputs": [
    {
     "name": "stdout",
     "output_type": "stream",
     "text": [
      "+-------------------------------+---------------------+---------------------+----------------------+\n",
      "|Feature                        |Coefvalue_class_0    |Coefvalue_class_1    |Coefvalue_class_2     |\n",
      "+-------------------------------+---------------------+---------------------+----------------------+\n",
      "|cat_features_month_index_OHE_3 |0.0032435586499102967|0.022605645590216494 |-0.025849204240126773 |\n",
      "|cat_features_month_index_OHE_5 |0.00669860420495559  |0.017137325771302635 |-0.023835929976258215 |\n",
      "|cat_features_month_index_OHE_1 |0.05564209123908551  |-0.040886129618752765|-0.014755961620332702 |\n",
      "|cat_features_month_index_OHE_4 |0.0034387008779550323|0.009160783641865532 |-0.012599484519820577 |\n",
      "|cat_features_month_index_OHE_10|1.3467152387964192E-4|0.0015697896518880466|-0.00170446117576768  |\n",
      "|cat_features_month_index_OHE_12|-0.010846801154359351|0.012024195574231884 |-0.0011773944198725252|\n",
      "|cat_features_month_index_OHE_6 |-0.011170943698131859|8.561980753634834E-4 |0.010314745622768406  |\n",
      "|cat_features_month_index_OHE_11|-0.005118515705167424|-0.009672580201042169|0.014791095906209601  |\n",
      "|cat_features_month_index_OHE_2 |-0.00649771240947244 |-0.01300426747945528 |0.01950197988892772   |\n",
      "|cat_features_month_index_OHE_8 |0.004234064206301132 |-0.024396587609881167|0.020162523403580056  |\n",
      "|cat_features_month_index_OHE_7 |-0.003971900196553123|-0.016892237280445588|0.020864137476998737  |\n",
      "+-------------------------------+---------------------+---------------------+----------------------+\n",
      "\n"
     ]
    }
   ],
   "source": [
    "# 5) cat_features_month_index\n",
    "coefs_df.filter((F.col('Feature') == 'cat_features_month_index_OHE_12') |\n",
    "                (F.col('Feature') == 'cat_features_month_index_OHE_1') |\n",
    "                (F.col('Feature') == 'cat_features_month_index_OHE_2') |\n",
    "                (F.col('Feature') == 'cat_features_month_index_OHE_3') |\n",
    "                (F.col('Feature') == 'cat_features_month_index_OHE_4') |\n",
    "                (F.col('Feature') == 'cat_features_month_index_OHE_5') |\n",
    "                (F.col('Feature') == 'cat_features_month_index_OHE_6') |\n",
    "                (F.col('Feature') == 'cat_features_month_index_OHE_7') |\n",
    "                (F.col('Feature') == 'cat_features_month_index_OHE_8') |\n",
    "                (F.col('Feature') == 'cat_features_month_index_OHE_9') |\n",
    "                (F.col('Feature') == 'cat_features_month_index_OHE_10') |\n",
    "                (F.col('Feature') == 'cat_features_month_index_OHE_11')).sort('Coefvalue_class_2').show(13, truncate = False)"
   ]
  },
  {
   "cell_type": "code",
   "execution_count": 149,
   "id": "1bfa78c8",
   "metadata": {},
   "outputs": [
    {
     "name": "stdout",
     "output_type": "stream",
     "text": [
      "+--------------------+--------------------+--------------------+--------------------+\n",
      "|             Feature|   Coefvalue_class_0|   Coefvalue_class_1|   Coefvalue_class_2|\n",
      "+--------------------+--------------------+--------------------+--------------------+\n",
      "|num_features_scal...|-0.00644509745984...|-0.00938912471622577|0.015834222176070754|\n",
      "+--------------------+--------------------+--------------------+--------------------+\n",
      "\n"
     ]
    }
   ],
   "source": [
    "# 6) Look at the text characters of the tweet\n",
    "coefs_df.filter(F.col('Feature') == 'num_features_scaled_9').show()"
   ]
  },
  {
   "cell_type": "code",
   "execution_count": 151,
   "id": "f9966625",
   "metadata": {},
   "outputs": [
    {
     "name": "stdout",
     "output_type": "stream",
     "text": [
      "+---------------------+--------------------+---------------------+--------------------+\n",
      "|Feature              |Coefvalue_class_0   |Coefvalue_class_1    |Coefvalue_class_2   |\n",
      "+---------------------+--------------------+---------------------+--------------------+\n",
      "|num_features_scaled_3|-0.00997985303923987|0.0012823808209239502|0.008697472218315938|\n",
      "+---------------------+--------------------+---------------------+--------------------+\n",
      "\n"
     ]
    }
   ],
   "source": [
    "# 7) Look at the number of words of the tweet\n",
    "coefs_df.filter(F.col('Feature') == 'num_features_scaled_3').show(truncate = False)"
   ]
  },
  {
   "cell_type": "code",
   "execution_count": 163,
   "id": "d38cf506",
   "metadata": {},
   "outputs": [
    {
     "name": "stdout",
     "output_type": "stream",
     "text": [
      "+------------+---------------------+-------------------+--------------------+\n",
      "|Feature     |Coefvalue_class_0    |Coefvalue_class_1  |Coefvalue_class_2   |\n",
      "+------------+---------------------+-------------------+--------------------+\n",
      "|sentiment   |-0.05737200701348562 |0.01000923729822799|0.04736276971525765 |\n",
      "|polarity    |-0.007370786667381791|-0.0170725622750061|0.024443348942387838|\n",
      "|subjectivity|-0.02215712103128041 |-0.0215743758010151|0.043731496832295706|\n",
      "+------------+---------------------+-------------------+--------------------+\n",
      "\n"
     ]
    }
   ],
   "source": [
    "# 8 + 9) Look at the subjectivity, polarity and sentiment of the tweet\n",
    "coefs_df.filter((F.col('Feature') == 'subjectivity')|\n",
    "               (F.col('Feature') == 'polarity')|\n",
    "               (F.col('Feature') == 'sentiment')).show(truncate = False)"
   ]
  },
  {
   "cell_type": "code",
   "execution_count": 159,
   "id": "fd45c140",
   "metadata": {},
   "outputs": [
    {
     "name": "stdout",
     "output_type": "stream",
     "text": [
      "+-----------------------------------+---------------------+---------------------+---------------------+\n",
      "|Feature                            |Coefvalue_class_0    |Coefvalue_class_1    |Coefvalue_class_2    |\n",
      "+-----------------------------------+---------------------+---------------------+---------------------+\n",
      "|cat_features_week_day_index_OHE_Thu|4.186560202989838E-4 |0.0387257898325645   |-0.03914444585286348 |\n",
      "|cat_features_week_day_index_OHE_Sun|0.007387957539618533 |0.003065247079718391 |-0.010453204619336917|\n",
      "|cat_features_week_day_index_OHE_Fri|0.01663920597789385  |-0.007710391210414071|-0.00892881476747976 |\n",
      "|cat_features_week_day_index_OHE_Tue|0.0034353399217008536|0.002773781263825663 |-0.006209121185526465|\n",
      "|cat_features_week_day_index_OHE_Sat|-0.004136082947720673|0.00951032466785686  |-0.00537424172013618 |\n",
      "|cat_features_week_day_index_OHE_Wed|-0.006137857568483364|-0.02032483468394185 |0.02646269225242523  |\n",
      "+-----------------------------------+---------------------+---------------------+---------------------+\n",
      "\n"
     ]
    }
   ],
   "source": [
    "# 10) Look at the weekday\n",
    "coefs_df.filter((F.col('Feature') == 'cat_features_week_day_index_OHE_Mon') |\n",
    "                (F.col('Feature') == 'cat_features_week_day_index_OHE_Tue') |\n",
    "                (F.col('Feature') == 'cat_features_week_day_index_OHE_Wed') |\n",
    "                (F.col('Feature') == 'cat_features_week_day_index_OHE_Thu') |\n",
    "                (F.col('Feature') == 'cat_features_week_day_index_OHE_Fri') |\n",
    "                (F.col('Feature') == 'cat_features_week_day_index_OHE_Sat') |\n",
    "                (F.col('Feature') == 'cat_features_week_day_index_OHE_Sun')).sort('Coefvalue_class_2').show(13, truncate = False)"
   ]
  },
  {
   "cell_type": "code",
   "execution_count": 164,
   "id": "73c85ad4",
   "metadata": {},
   "outputs": [
    {
     "name": "stdout",
     "output_type": "stream",
     "text": [
      "+---------------------+----------------------+--------------------+---------------------+\n",
      "|Feature              |Coefvalue_class_0     |Coefvalue_class_1   |Coefvalue_class_2    |\n",
      "+---------------------+----------------------+--------------------+---------------------+\n",
      "|num_features_scaled_1|-0.0030855051461838724|0.008212959466056984|-0.005127454319873103|\n",
      "|num_features_scaled_2|-0.0024891964088818714|6.398308953780299E-4|0.001849365513503825 |\n",
      "+---------------------+----------------------+--------------------+---------------------+\n",
      "\n"
     ]
    }
   ],
   "source": [
    "# 11 + 12) Look at extra text characters: number of emojis and number of upper case words\n",
    "coefs_df.filter((F.col('Feature') == 'num_features_scaled_1')|\n",
    "               (F.col('Feature') == 'num_features_scaled_2')).show(truncate = False)"
   ]
  },
  {
   "cell_type": "markdown",
   "id": "49a3a118",
   "metadata": {},
   "source": [
    "Based on these results, we made managerial recommendations for in the presentation."
   ]
  }
 ],
 "metadata": {
  "kernelspec": {
   "display_name": "Python 3",
   "language": "python",
   "name": "python3"
  },
  "language_info": {
   "codemirror_mode": {
    "name": "ipython",
    "version": 3
   },
   "file_extension": ".py",
   "mimetype": "text/x-python",
   "name": "python",
   "nbconvert_exporter": "python",
   "pygments_lexer": "ipython3",
   "version": "3.8.8"
  }
 },
 "nbformat": 4,
 "nbformat_minor": 5
}
