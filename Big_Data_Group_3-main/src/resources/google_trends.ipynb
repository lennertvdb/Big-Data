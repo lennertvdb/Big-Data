{
 "cells": [
  {
   "cell_type": "markdown",
   "metadata": {},
   "source": [
    "# Dependent variable: Google Trends"
   ]
  },
  {
   "cell_type": "code",
   "execution_count": null,
   "id": "b81ecfd7",
   "metadata": {},
   "outputs": [],
   "source": [
    "import pytrendsasync\n",
    "from pytrendsasync.request import TrendReq\n",
    "pytrends = TrendReq(hl='en-US', tz=360, timeout=10, proxies=['https://34.203.233.13:80',])\n"
   ]
  },
  {
   "cell_type": "code",
   "execution_count": null,
   "id": "a0938757",
   "metadata": {},
   "outputs": [],
   "source": [
    "def get_dependent(keyword):\n",
    "    # import again to avoid Google error\n",
    "    from pytrendsasync.request import TrendReq\n",
    "    from pytrends import dailydata\n",
    "\n",
    "    # get the data\n",
    "    df = dailydata.get_daily_data(keyword, 2021, 10, 2022, 10)\n",
    "\n",
    "    # only get relevant keyword column\n",
    "    df = df[keyword].reset_index()\n",
    "\n",
    "    # create the binary dependent variable\n",
    "    df[keyword + \"_yest\"] = df[keyword].shift(1)\n",
    "    df[\"dependent_\" + keyword] = df.apply(lambda x:  1 if x[keyword] > x[keyword + \"_yest\"] else 0, axis=1) # 1 if popularity rose compared to yesterday, otherwise 0\n",
    "    \n",
    "    df = df[[\"date\", \"dependent_\" + keyword]]\n",
    "    df = df.iloc[3: , :] # drop first 2 rows because insufficient data\n",
    "    \n",
    "    return df\n"
   ]
  },
  {
   "cell_type": "code",
   "execution_count": null,
   "id": "292eaf37",
   "metadata": {},
   "outputs": [
    {
     "name": "stdout",
     "output_type": "stream",
     "text": [
      "vegan:2021-10-01 2021-10-31\n",
      "vegan:2021-11-01 2021-11-30\n",
      "vegan:2021-12-01 2021-12-31\n",
      "vegan:2022-01-01 2022-01-31\n",
      "vegan:2022-02-01 2022-02-28\n",
      "vegan:2022-03-01 2022-03-31\n",
      "vegan:2022-04-01 2022-04-30\n",
      "vegan:2022-05-01 2022-05-31\n",
      "vegan:2022-06-01 2022-06-30\n",
      "vegan:2022-07-01 2022-07-31\n",
      "vegan:2022-08-01 2022-08-31\n",
      "vegan:2022-09-01 2022-09-30\n",
      "vegan:2022-10-01 2022-10-31\n"
     ]
    }
   ],
   "source": [
    "df = get_dependent(\"vegan\")"
   ]
  },
  {
   "cell_type": "code",
   "execution_count": null,
   "id": "1629143a",
   "metadata": {},
   "outputs": [],
   "source": [
    "df.to_excel(\".././../data/Google_trends/daily_trends.xlsx\", index = False)"
   ]
  },
  {
   "cell_type": "code",
   "execution_count": null,
   "id": "ccd51236",
   "metadata": {},
   "outputs": [
    {
     "data": {
      "text/plain": [
       "1    207\n",
       "0    186\n",
       "Name: dependent_vegan, dtype: int64"
      ]
     },
     "metadata": {},
     "output_type": "display_data"
    }
   ],
   "source": [
    "df[\"dependent_vegan\"].value_counts()"
   ]
  }
 ],
 "metadata": {
  "kernelspec": {
   "display_name": "Python 3.9.6 64-bit",
   "language": "python",
   "name": "python3"
  },
  "language_info": {
   "name": "python",
   "version": "3.9.6"
  },
  "orig_nbformat": 4,
  "vscode": {
   "interpreter": {
    "hash": "31f2aee4e71d21fbe5cf8b01ff0e069b9275f58929596ceb00d14d90e3e16cd6"
   }
  }
 },
 "nbformat": 4,
 "nbformat_minor": 2
}
