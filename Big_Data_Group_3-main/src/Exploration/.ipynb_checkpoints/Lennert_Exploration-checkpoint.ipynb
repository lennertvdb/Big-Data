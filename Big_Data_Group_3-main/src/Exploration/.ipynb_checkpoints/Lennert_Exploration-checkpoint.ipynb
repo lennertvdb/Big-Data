{
 "cells": [
  {
   "cell_type": "code",
   "execution_count": 2,
   "id": "76508cac",
   "metadata": {},
   "outputs": [],
   "source": [
    "# import findspark\n",
    "import findspark\n",
    "# initialize findspark with spark directory\n",
    "findspark.init(\"C:\\Program Files\\Spark\\spark-3.3.1-bin-hadoop3\")\n",
    "# import pyspark\n",
    "import pyspark\n",
    "# create spark context\n",
    "sc = pyspark.SparkContext()\n",
    "# create spark session \n",
    "spark = pyspark.sql.SparkSession(sc)"
   ]
  },
  {
   "cell_type": "code",
   "execution_count": 3,
   "id": "189f0b22",
   "metadata": {
    "scrolled": true
   },
   "outputs": [
    {
     "data": {
      "text/html": [
       "\n",
       "            <div>\n",
       "                <p><b>SparkSession - in-memory</b></p>\n",
       "                \n",
       "        <div>\n",
       "            <p><b>SparkContext</b></p>\n",
       "\n",
       "            <p><a href=\"http://192.168.1.2:4040\">Spark UI</a></p>\n",
       "\n",
       "            <dl>\n",
       "              <dt>Version</dt>\n",
       "                <dd><code>v3.3.1</code></dd>\n",
       "              <dt>Master</dt>\n",
       "                <dd><code>local[*]</code></dd>\n",
       "              <dt>AppName</dt>\n",
       "                <dd><code>pyspark-shell</code></dd>\n",
       "            </dl>\n",
       "        </div>\n",
       "        \n",
       "            </div>\n",
       "        "
      ],
      "text/plain": [
       "<pyspark.sql.session.SparkSession at 0x1a2365ce690>"
      ]
     },
     "execution_count": 3,
     "metadata": {},
     "output_type": "execute_result"
    }
   ],
   "source": [
    "spark"
   ]
  },
  {
   "cell_type": "code",
   "execution_count": 4,
   "id": "99192d42",
   "metadata": {},
   "outputs": [],
   "source": [
    "# import packages\n",
    "import os \n",
    "import pickle\n",
    "import re\n",
    "from datetime import datetime\n",
    "import requests\n",
    "import pytz\n",
    "import emoji\n",
    "import pandas as pd\n",
    "import numpy as np\n",
    "import ast\n",
    "import pyspark.sql.functions as F\n",
    "from pyspark.sql.types import *\n",
    "import matplotlib.pyplot as plt "
   ]
  },
  {
   "cell_type": "markdown",
   "id": "194b258c",
   "metadata": {},
   "source": [
    "### 1. Import JSON files"
   ]
  },
  {
   "cell_type": "code",
   "execution_count": 5,
   "id": "3cf9b009",
   "metadata": {},
   "outputs": [],
   "source": [
    "# define data dir\n",
    "data_dir = \"../../data/Topic_vegan/\"\n",
    "\n",
    "# get all twitter files\n",
    "tweet_files = [os.path.join(data_dir, obs) for obs in os.listdir(data_dir)] "
   ]
  },
  {
   "cell_type": "code",
   "execution_count": 6,
   "id": "39df0f8c",
   "metadata": {},
   "outputs": [],
   "source": [
    "# import twitter data \n",
    "twitter_df = spark.read.json(tweet_files)"
   ]
  },
  {
   "cell_type": "code",
   "execution_count": 7,
   "id": "83c3ff10",
   "metadata": {
    "scrolled": true
   },
   "outputs": [],
   "source": [
    "# select interesting features\n",
    "twitter_df = twitter_df.select(F.col('user.name'),\n",
    "                                F.col('user.screen_name'),\n",
    "                                F.col('user.followers_count'),\n",
    "                                F.col('user.following'),\n",
    "                                F.col('user.statuses_count'),\n",
    "                                F.col('user.listed_count'),\n",
    "                                F.col('created_at'),\n",
    "                                F.col('full_text'),\n",
    "                                F.col('entities.hashtags'),\n",
    "                                F.col('favorite_count'),\n",
    "                                F.col('retweet_count'),\n",
    "                                F.col('user.friends_count'))"
   ]
  },
  {
   "cell_type": "code",
   "execution_count": 8,
   "id": "331566eb",
   "metadata": {},
   "outputs": [
    {
     "name": "stdout",
     "output_type": "stream",
     "text": [
      "root\n",
      " |-- name: string (nullable = true)\n",
      " |-- screen_name: string (nullable = true)\n",
      " |-- followers_count: long (nullable = true)\n",
      " |-- following: boolean (nullable = true)\n",
      " |-- statuses_count: long (nullable = true)\n",
      " |-- listed_count: long (nullable = true)\n",
      " |-- created_at: string (nullable = true)\n",
      " |-- full_text: string (nullable = true)\n",
      " |-- hashtags: array (nullable = true)\n",
      " |    |-- element: struct (containsNull = true)\n",
      " |    |    |-- indices: array (nullable = true)\n",
      " |    |    |    |-- element: long (containsNull = true)\n",
      " |    |    |-- text: string (nullable = true)\n",
      " |-- favorite_count: long (nullable = true)\n",
      " |-- retweet_count: long (nullable = true)\n",
      " |-- friends_count: long (nullable = true)\n",
      "\n"
     ]
    }
   ],
   "source": [
    "twitter_df.printSchema()"
   ]
  },
  {
   "cell_type": "markdown",
   "id": "23458567",
   "metadata": {},
   "source": [
    "### 2. Preprocess Data"
   ]
  },
  {
   "cell_type": "markdown",
   "id": "36b9dd70",
   "metadata": {},
   "source": [
    "#### 2.1 Check time period"
   ]
  },
  {
   "cell_type": "code",
   "execution_count": 9,
   "id": "e96607a0",
   "metadata": {},
   "outputs": [],
   "source": [
    "# function to convert Twitter date string format\n",
    "def getDate(date):\n",
    "    if date is not None:\n",
    "        return str(datetime.strptime(date,'%a %b %d %H:%M:%S +0000 %Y').replace(tzinfo=pytz.UTC).strftime(\"%Y-%m-%d %H:%M:%S\"))\n",
    "    else:\n",
    "        return None\n",
    "\n",
    "# UDF declaration\n",
    "date_udf = F.udf(getDate, StringType())\n",
    "\n",
    "# apply udf\n",
    "twitter_df = twitter_df.withColumn('post_created_at', F.to_utc_timestamp(date_udf(\"created_at\"), \"UTC\"))"
   ]
  },
  {
   "cell_type": "code",
   "execution_count": 10,
   "id": "0ee68172",
   "metadata": {},
   "outputs": [
    {
     "name": "stdout",
     "output_type": "stream",
     "text": [
      "+------------------------------+-------------------+\n",
      "|created_at                    |post_created_at    |\n",
      "+------------------------------+-------------------+\n",
      "|Mon Apr 04 10:09:55 +0000 2022|2022-04-04 10:09:55|\n",
      "|Mon Apr 04 10:09:54 +0000 2022|2022-04-04 10:09:54|\n",
      "|Mon Apr 04 10:09:54 +0000 2022|2022-04-04 10:09:54|\n",
      "|Mon Apr 04 10:09:52 +0000 2022|2022-04-04 10:09:52|\n",
      "|Mon Apr 04 10:09:52 +0000 2022|2022-04-04 10:09:52|\n",
      "+------------------------------+-------------------+\n",
      "only showing top 5 rows\n",
      "\n"
     ]
    }
   ],
   "source": [
    "# show\n",
    "twitter_df.select(\"created_at\", \"post_created_at\").show(5, truncate=False)"
   ]
  },
  {
   "cell_type": "code",
   "execution_count": 11,
   "id": "760e9b90",
   "metadata": {},
   "outputs": [
    {
     "name": "stdout",
     "output_type": "stream",
     "text": [
      "+-------------------+-------------------+\n",
      "|           earliest|             latest|\n",
      "+-------------------+-------------------+\n",
      "|2021-10-12 16:08:51|2022-10-11 23:17:33|\n",
      "+-------------------+-------------------+\n",
      "\n"
     ]
    }
   ],
   "source": [
    "# get first post\n",
    "first_post = F.min('post_created_at').alias('earliest')\n",
    "# get latest post\n",
    "latest_post = F.max('post_created_at').alias('latest')\n",
    "# show tweet period in our dataset\n",
    "twitter_df.select(first_post, latest_post).show()"
   ]
  },
  {
   "cell_type": "markdown",
   "id": "bb9f4e9b",
   "metadata": {},
   "source": [
    "#### 2.2 Remove retweets and duplicates"
   ]
  },
  {
   "cell_type": "code",
   "execution_count": 12,
   "id": "d1db1709",
   "metadata": {},
   "outputs": [],
   "source": [
    "# drop all retweets from dataset\n",
    "no_retweets_df = twitter_df.filter(~F.col(\"full_text\").startswith(\"RT\"))"
   ]
  },
  {
   "cell_type": "code",
   "execution_count": 13,
   "id": "e0be0192",
   "metadata": {},
   "outputs": [],
   "source": [
    "# first sort no_retweets_df based on date in chronological order (most recent ones on top)\n",
    "no_retweets_sorted_df = no_retweets_df.sort(\"post_created_at\", ascending=False)"
   ]
  },
  {
   "cell_type": "code",
   "execution_count": 14,
   "id": "276c763b",
   "metadata": {},
   "outputs": [
    {
     "data": {
      "text/plain": [
       "1497352"
      ]
     },
     "execution_count": 14,
     "metadata": {},
     "output_type": "execute_result"
    }
   ],
   "source": [
    "# number of observations before dropping duplicates\n",
    "no_retweets_sorted_df.count()"
   ]
  },
  {
   "cell_type": "code",
   "execution_count": 15,
   "id": "abf73d81",
   "metadata": {},
   "outputs": [],
   "source": [
    "# drop duplicates based on tweet text and the profile it was posted from\n",
    "final_no_duplicates_df = no_retweets_sorted_df.drop_duplicates([\"full_text\", \"screen_name\"])"
   ]
  },
  {
   "cell_type": "code",
   "execution_count": 16,
   "id": "30a33594",
   "metadata": {},
   "outputs": [
    {
     "data": {
      "text/plain": [
       "1340938"
      ]
     },
     "execution_count": 16,
     "metadata": {},
     "output_type": "execute_result"
    }
   ],
   "source": [
    "# number of observations after dropping duplicates\n",
    "final_no_duplicates_df.count()"
   ]
  },
  {
   "cell_type": "code",
   "execution_count": 17,
   "id": "908138e0",
   "metadata": {
    "scrolled": true
   },
   "outputs": [
    {
     "name": "stderr",
     "output_type": "stream",
     "text": [
      "C:\\Program Files\\Spark\\spark-3.3.1-bin-hadoop3\\python\\pyspark\\sql\\pandas\\conversion.py:248: FutureWarning: Passing unit-less datetime64 dtype to .astype is deprecated and will raise in a future version. Pass 'datetime64[ns]' instead\n",
      "  series = series.astype(t, copy=False)\n"
     ]
    },
    {
     "data": {
      "text/html": [
       "<div>\n",
       "<style scoped>\n",
       "    .dataframe tbody tr th:only-of-type {\n",
       "        vertical-align: middle;\n",
       "    }\n",
       "\n",
       "    .dataframe tbody tr th {\n",
       "        vertical-align: top;\n",
       "    }\n",
       "\n",
       "    .dataframe thead th {\n",
       "        text-align: right;\n",
       "    }\n",
       "</style>\n",
       "<table border=\"1\" class=\"dataframe\">\n",
       "  <thead>\n",
       "    <tr style=\"text-align: right;\">\n",
       "      <th></th>\n",
       "      <th>name</th>\n",
       "      <th>screen_name</th>\n",
       "      <th>followers_count</th>\n",
       "      <th>following</th>\n",
       "      <th>statuses_count</th>\n",
       "      <th>listed_count</th>\n",
       "      <th>created_at</th>\n",
       "      <th>full_text</th>\n",
       "      <th>hashtags</th>\n",
       "      <th>favorite_count</th>\n",
       "      <th>retweet_count</th>\n",
       "      <th>friends_count</th>\n",
       "      <th>post_created_at</th>\n",
       "    </tr>\n",
       "  </thead>\n",
       "  <tbody>\n",
       "    <tr>\n",
       "      <th>0</th>\n",
       "      <td>Follow the Vegans Ⓥ</td>\n",
       "      <td>vegan_v_vegan</td>\n",
       "      <td>4285</td>\n",
       "      <td>False</td>\n",
       "      <td>25878</td>\n",
       "      <td>20</td>\n",
       "      <td>Sat May 14 00:55:33 +0000 2022</td>\n",
       "      <td>!\\n#vegan #GoVegan #dairy https://t.co/G0Jmiwb84g</td>\n",
       "      <td>[([2, 8], vegan), ([9, 17], GoVegan), ([18, 24...</td>\n",
       "      <td>6</td>\n",
       "      <td>1</td>\n",
       "      <td>4199</td>\n",
       "      <td>2022-05-14 00:55:33</td>\n",
       "    </tr>\n",
       "    <tr>\n",
       "      <th>1</th>\n",
       "      <td>🌱Veg-In-Out Market🌱</td>\n",
       "      <td>veginoutmarket</td>\n",
       "      <td>947</td>\n",
       "      <td>False</td>\n",
       "      <td>1719</td>\n",
       "      <td>2</td>\n",
       "      <td>Sat Jan 15 07:17:18 +0000 2022</td>\n",
       "      <td>! We will be open 10am-9pm today and tomorrow!...</td>\n",
       "      <td>[([69, 79], veganuary), ([80, 94], veganuary20...</td>\n",
       "      <td>0</td>\n",
       "      <td>0</td>\n",
       "      <td>2057</td>\n",
       "      <td>2022-01-15 07:17:18</td>\n",
       "    </tr>\n",
       "    <tr>\n",
       "      <th>2</th>\n",
       "      <td>Mix 93.8 FM</td>\n",
       "      <td>Mix938FM</td>\n",
       "      <td>10745</td>\n",
       "      <td>False</td>\n",
       "      <td>16386</td>\n",
       "      <td>68</td>\n",
       "      <td>Wed Sep 07 09:11:40 +0000 2022</td>\n",
       "      <td>!! Daily Updates !!\\n\\nA taste of Vegan Food t...</td>\n",
       "      <td>[([52, 67], TheMorningWave), ([104, 115], Chef...</td>\n",
       "      <td>8</td>\n",
       "      <td>3</td>\n",
       "      <td>2812</td>\n",
       "      <td>2022-09-07 09:11:40</td>\n",
       "    </tr>\n",
       "  </tbody>\n",
       "</table>\n",
       "</div>"
      ],
      "text/plain": [
       "                  name     screen_name  followers_count  following  \\\n",
       "0  Follow the Vegans Ⓥ   vegan_v_vegan             4285      False   \n",
       "1  🌱Veg-In-Out Market🌱  veginoutmarket              947      False   \n",
       "2          Mix 93.8 FM        Mix938FM            10745      False   \n",
       "\n",
       "   statuses_count  listed_count                      created_at  \\\n",
       "0           25878            20  Sat May 14 00:55:33 +0000 2022   \n",
       "1            1719             2  Sat Jan 15 07:17:18 +0000 2022   \n",
       "2           16386            68  Wed Sep 07 09:11:40 +0000 2022   \n",
       "\n",
       "                                           full_text  \\\n",
       "0  !\\n#vegan #GoVegan #dairy https://t.co/G0Jmiwb84g   \n",
       "1  ! We will be open 10am-9pm today and tomorrow!...   \n",
       "2  !! Daily Updates !!\\n\\nA taste of Vegan Food t...   \n",
       "\n",
       "                                            hashtags  favorite_count  \\\n",
       "0  [([2, 8], vegan), ([9, 17], GoVegan), ([18, 24...               6   \n",
       "1  [([69, 79], veganuary), ([80, 94], veganuary20...               0   \n",
       "2  [([52, 67], TheMorningWave), ([104, 115], Chef...               8   \n",
       "\n",
       "   retweet_count  friends_count     post_created_at  \n",
       "0              1           4199 2022-05-14 00:55:33  \n",
       "1              0           2057 2022-01-15 07:17:18  \n",
       "2              3           2812 2022-09-07 09:11:40  "
      ]
     },
     "execution_count": 17,
     "metadata": {},
     "output_type": "execute_result"
    }
   ],
   "source": [
    "# rename dataframe\n",
    "final_twitter_df = final_no_duplicates_df\n",
    "final_twitter_df.limit(3).toPandas()"
   ]
  },
  {
   "cell_type": "markdown",
   "id": "ddd56749",
   "metadata": {},
   "source": [
    "### 3. The number of likes for a tweet"
   ]
  },
  {
   "cell_type": "code",
   "execution_count": 19,
   "id": "0c69e18b",
   "metadata": {
    "scrolled": false
   },
   "outputs": [
    {
     "name": "stdout",
     "output_type": "stream",
     "text": [
      "+--------------+------+\n",
      "|favorite_count| count|\n",
      "+--------------+------+\n",
      "|             0|652193|\n",
      "|             1|297326|\n",
      "|             2|116209|\n",
      "|             3| 60603|\n",
      "|             4| 38110|\n",
      "|             5| 26329|\n",
      "|             6| 19176|\n",
      "|             7| 14713|\n",
      "|             8| 11463|\n",
      "|             9|  9388|\n",
      "|            10|  7522|\n",
      "|            11|  6218|\n",
      "|            12|  5368|\n",
      "|            13|  4578|\n",
      "|            14|  4165|\n",
      "|            15|  3624|\n",
      "|            16|  3201|\n",
      "|            17|  2903|\n",
      "|            18|  2700|\n",
      "|            19|  2478|\n",
      "+--------------+------+\n",
      "only showing top 20 rows\n",
      "\n"
     ]
    }
   ],
   "source": [
    "# check distribution of likes\n",
    "final_twitter_df.groupBy(\"favorite_count\").count().sort(\"count\", ascending=False).show()"
   ]
  },
  {
   "cell_type": "code",
   "execution_count": 21,
   "id": "1dcd9fb6",
   "metadata": {},
   "outputs": [
    {
     "data": {
      "text/plain": [
       "(array([1.340496e+06, 2.600000e+02, 7.500000e+01, 3.100000e+01,\n",
       "        2.200000e+01, 1.300000e+01, 1.100000e+01, 8.000000e+00,\n",
       "        2.000000e+00, 2.000000e+00, 2.000000e+00, 1.000000e+00,\n",
       "        1.000000e+00, 0.000000e+00, 4.000000e+00, 2.000000e+00,\n",
       "        0.000000e+00, 1.000000e+00, 1.000000e+00, 0.000000e+00,\n",
       "        1.000000e+00, 0.000000e+00, 1.000000e+00, 0.000000e+00,\n",
       "        0.000000e+00, 1.000000e+00, 0.000000e+00, 1.000000e+00,\n",
       "        0.000000e+00, 0.000000e+00, 0.000000e+00, 0.000000e+00,\n",
       "        0.000000e+00, 1.000000e+00, 0.000000e+00, 0.000000e+00,\n",
       "        0.000000e+00, 0.000000e+00, 0.000000e+00, 0.000000e+00,\n",
       "        0.000000e+00, 0.000000e+00, 0.000000e+00, 0.000000e+00,\n",
       "        0.000000e+00, 0.000000e+00, 0.000000e+00, 0.000000e+00,\n",
       "        0.000000e+00, 0.000000e+00, 0.000000e+00, 0.000000e+00,\n",
       "        0.000000e+00, 0.000000e+00, 0.000000e+00, 0.000000e+00,\n",
       "        0.000000e+00, 0.000000e+00, 0.000000e+00, 0.000000e+00,\n",
       "        0.000000e+00, 0.000000e+00, 0.000000e+00, 0.000000e+00,\n",
       "        0.000000e+00, 0.000000e+00, 0.000000e+00, 0.000000e+00,\n",
       "        0.000000e+00, 0.000000e+00, 0.000000e+00, 0.000000e+00,\n",
       "        0.000000e+00, 0.000000e+00, 0.000000e+00, 0.000000e+00,\n",
       "        0.000000e+00, 0.000000e+00, 0.000000e+00, 0.000000e+00,\n",
       "        0.000000e+00, 0.000000e+00, 0.000000e+00, 0.000000e+00,\n",
       "        0.000000e+00, 0.000000e+00, 0.000000e+00, 0.000000e+00,\n",
       "        0.000000e+00, 0.000000e+00, 0.000000e+00, 0.000000e+00,\n",
       "        0.000000e+00, 0.000000e+00, 0.000000e+00, 0.000000e+00,\n",
       "        0.000000e+00, 0.000000e+00, 0.000000e+00, 1.000000e+00]),\n",
       " array([     0.  ,   1761.68,   3523.36,   5285.04,   7046.72,   8808.4 ,\n",
       "         10570.08,  12331.76,  14093.44,  15855.12,  17616.8 ,  19378.48,\n",
       "         21140.16,  22901.84,  24663.52,  26425.2 ,  28186.88,  29948.56,\n",
       "         31710.24,  33471.92,  35233.6 ,  36995.28,  38756.96,  40518.64,\n",
       "         42280.32,  44042.  ,  45803.68,  47565.36,  49327.04,  51088.72,\n",
       "         52850.4 ,  54612.08,  56373.76,  58135.44,  59897.12,  61658.8 ,\n",
       "         63420.48,  65182.16,  66943.84,  68705.52,  70467.2 ,  72228.88,\n",
       "         73990.56,  75752.24,  77513.92,  79275.6 ,  81037.28,  82798.96,\n",
       "         84560.64,  86322.32,  88084.  ,  89845.68,  91607.36,  93369.04,\n",
       "         95130.72,  96892.4 ,  98654.08, 100415.76, 102177.44, 103939.12,\n",
       "        105700.8 , 107462.48, 109224.16, 110985.84, 112747.52, 114509.2 ,\n",
       "        116270.88, 118032.56, 119794.24, 121555.92, 123317.6 , 125079.28,\n",
       "        126840.96, 128602.64, 130364.32, 132126.  , 133887.68, 135649.36,\n",
       "        137411.04, 139172.72, 140934.4 , 142696.08, 144457.76, 146219.44,\n",
       "        147981.12, 149742.8 , 151504.48, 153266.16, 155027.84, 156789.52,\n",
       "        158551.2 , 160312.88, 162074.56, 163836.24, 165597.92, 167359.6 ,\n",
       "        169121.28, 170882.96, 172644.64, 174406.32, 176168.  ]),\n",
       " <BarContainer object of 100 artists>)"
      ]
     },
     "execution_count": 21,
     "metadata": {},
     "output_type": "execute_result"
    },
    {
     "data": {
      "image/png": "[encoded data removed]",
      "text/plain": [
       "<Figure size 640x480 with 1 Axes>"
      ]
     },
     "metadata": {},
     "output_type": "display_data"
    }
   ],
   "source": [
    "# plot likes\n",
    "plt.hist(final_twitter_df.select(\"favorite_count\").toPandas(), bins=100, log = True)"
   ]
  },
  {
   "cell_type": "code",
   "execution_count": null,
   "id": "3b4fdc2e",
   "metadata": {},
   "outputs": [],
   "source": [
    "# how many tweets did receive at least 1 like\n",
    "final_twitter_df.filter(F.col(\"favorite_count\") != 0).count()"
   ]
  },
  {
   "cell_type": "markdown",
   "id": "9ceb99bc",
   "metadata": {},
   "source": [
    "### 4. The level of engagement for each tweet    "
   ]
  },
  {
   "cell_type": "markdown",
   "id": "d3c62672",
   "metadata": {},
   "source": [
    "Use public_metrics to measure tweet engagement: \n",
    "- retweet_count: how many times is a tweet retweeted\n",
    "- favorite_count: how many times is a tweet liked"
   ]
  },
  {
   "cell_type": "code",
   "execution_count": null,
   "id": "9e709f57",
   "metadata": {},
   "outputs": [],
   "source": [
    "# check distribution of retweets\n",
    "final_twitter_df.groupBy(\"retweet_count\").count().sort(\"count\", ascending=False).show()"
   ]
  },
  {
   "cell_type": "code",
   "execution_count": null,
   "id": "6132fb9f",
   "metadata": {},
   "outputs": [],
   "source": [
    "# plot retweets\n",
    "plt.hist(final_twitter_df.select('retweet_count'), bins=100, log = True)"
   ]
  },
  {
   "cell_type": "markdown",
   "id": "3afce94c",
   "metadata": {},
   "source": [
    "### 5. The level of social media activity for a user "
   ]
  },
  {
   "cell_type": "markdown",
   "id": "0a6d6ec0",
   "metadata": {},
   "source": [
    "Public metrics can potentially be used to determine a Twitter user’s reach or influence, quantify the user’s range of interests, and the user’s level of engagement on Twitter.\n",
    "- followers_count: How many followers has a user?\n",
    "- following: How many accounts does a user follow?   \n",
    "- friends_count: How many friends has a user\n",
    "- statuses_count: How many statuses has a user posted? (includedes tweet, retweet and reply)\n",
    "- listed_count: Twitter Lists allow you to customize, organize and prioritize the Tweets you see in your timeline."
   ]
  },
  {
   "cell_type": "code",
   "execution_count": null,
   "id": "cc473ec4",
   "metadata": {},
   "outputs": [],
   "source": [
    "# check distribution of followers_count\n",
    "final_twitter_df.groupBy(\"user.followers_count\").count().sort(\"count\", ascending=False).show()"
   ]
  },
  {
   "cell_type": "code",
   "execution_count": null,
   "id": "aac2019e",
   "metadata": {},
   "outputs": [],
   "source": [
    "# plot followers_count\n",
    "plt.hist(final_twitter_df.select('followers_count'), bins=100)"
   ]
  },
  {
   "cell_type": "code",
   "execution_count": null,
   "id": "d355e3ff",
   "metadata": {},
   "outputs": [],
   "source": [
    "# check distribution of following\n",
    "final_twitter_df.groupBy(\"following\").count().sort(\"count\", ascending=False).show()"
   ]
  },
  {
   "cell_type": "code",
   "execution_count": null,
   "id": "5ea87762",
   "metadata": {},
   "outputs": [],
   "source": [
    "# plot following\n",
    "plt.hist(final_twitter_df.select('following'), bins=100)"
   ]
  },
  {
   "cell_type": "code",
   "execution_count": null,
   "id": "c5840b85",
   "metadata": {},
   "outputs": [],
   "source": [
    "# check distribution of friends_count\n",
    "final_twitter_df.groupBy(\"friends_count\").count().sort(\"count\", ascending=False).show()"
   ]
  },
  {
   "cell_type": "code",
   "execution_count": null,
   "id": "86642e44",
   "metadata": {},
   "outputs": [],
   "source": [
    "# plot friends_count\n",
    "plt.hist(final_twitter_df.select('friends_count'), bins=100)"
   ]
  },
  {
   "cell_type": "code",
   "execution_count": null,
   "id": "3ba870f1",
   "metadata": {},
   "outputs": [],
   "source": [
    "# check distribution of statuses_count\n",
    "final_twitter_df.groupBy(\"statuses_count\").count().sort(\"count\", ascending=False).show()"
   ]
  },
  {
   "cell_type": "code",
   "execution_count": null,
   "id": "fdcd446b",
   "metadata": {},
   "outputs": [],
   "source": [
    "# plot statuses_count\n",
    "plt.hist(final_twitter_df.select('statuses_count'), bins=100)"
   ]
  },
  {
   "cell_type": "code",
   "execution_count": null,
   "id": "9dc7dc47",
   "metadata": {},
   "outputs": [],
   "source": [
    "# check distribution of listed_count\n",
    "final_twitter_df.groupBy(\"listed_count\").count().sort(\"count\", ascending=False).show()"
   ]
  },
  {
   "cell_type": "code",
   "execution_count": null,
   "id": "a3418ced",
   "metadata": {},
   "outputs": [],
   "source": [
    "# plot listedcount\n",
    "plt.hist(final_twitter_df.select('listed_count'), bins=100)"
   ]
  }
 ],
 "metadata": {
  "kernelspec": {
   "display_name": "Python 3 (ipykernel)",
   "language": "python",
   "name": "python3"
  },
  "language_info": {
   "codemirror_mode": {
    "name": "ipython",
    "version": 3
   },
   "file_extension": ".py",
   "mimetype": "text/x-python",
   "name": "python",
   "nbconvert_exporter": "python",
   "pygments_lexer": "ipython3",
   "version": "3.11.0"
  }
 },
 "nbformat": 4,
 "nbformat_minor": 5
}
